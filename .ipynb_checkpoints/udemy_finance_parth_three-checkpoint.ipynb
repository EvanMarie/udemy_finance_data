{
 "cells": [
  {
   "cell_type": "markdown",
   "id": "41a37414-1d57-49b4-b072-16b52ab782b3",
   "metadata": {},
   "source": [
    "<a name = 'head'></a>\n",
    "\n",
    "<hr class=\"dashed\" style = 'color: #08CC5B'>\n",
    "\n",
    "<html>\n",
    "\t<table style=\"width:100%;\">\n",
    "\t\t<tr>\n",
    "\t\t\t<th style = 'background-color: #6C07B2; padding: 5px 5px 3px 5px; line-height: 1.5; color:white; border-radius: 3px; font-size: 14px; font-weight: 475; text-align: center; border-top: 2px solid #FFB83C; border-bottom: 2px solid #FFB83C;'  colspan=\"3\"> |  <a href=\"#head\">Top</a>  |  <a href=\"#link\">Link</a>  |  <a href=\"#link\">Link</a>   |  <a href=\"#link\">Link</a>  |  <a href=\"#link\">Link</a> |  <a href=\"#link\">Link</a>  |  <a href=\"#link\">Link</a>  |  <a href=\"#link\">Link</a>  |  </font></th>\n",
    "\t\t</tr>\n",
    "\t</table>\n",
    "</html>\n",
    "\n",
    "<hr class=\"dashed\" style = 'color: #08CC5B'>\n",
    "\n"
   ]
  },
  {
   "cell_type": "markdown",
   "id": "a8a7cbe8-9633-4259-a9d8-71c8b576742a",
   "metadata": {
    "tags": []
   },
   "source": [
    "<html>\n",
    "\t<table style=\"width:100%;\">\n",
    "\t\t<tr>\n",
    "\t\t\t<th style = 'background-color: #A523FF; padding: 5px 5px 3px 5px; line-height: 1.5; color:white; border-radius: 3px;; text-align: center; border-top: 2px solid #A523FF; border-bottom: 2px solid #FFB83C; font-size: 28px;' colspan=\"3\">Udemy Finance APIs: FXCM</font></th>\n",
    "\t\t</tr>\n",
    "\t\t<tr>\n",
    "\t\t\t<th style = 'font-size: 17px; font-weight: 525; background-color: #0F793C; padding: 8px; line-height: 1.5; color:white; border-radius: 3px; text-align: center;' colspan=\"3\">|  <a href = 'https://www.fxcm.com/markets/'>FXCM Online</a>  |  <a href = 'link'>Link</a>  |</font></th>\n",
    "\t\t</tr>\n",
    "\t</table>\n",
    "</html>\n",
    "\n",
    "<html>\n",
    "\t<table>\n",
    "\t<tr style = 'border-top: 2px solid #08CC5B; background-color: #6C07B2; color: white; border-bottom: px solid #08CC5B;' colspan = 3> \n",
    "\t\t\t<td style = 'font-size: 13px; text-align: center;' colspan = 5><b>Evan Marie online</b>:  |  <a href = 'https://www.evanmarie.com/'>EvanMarie.com</a>|  <a href = 'mailto:evanmarie@proton.me'>EvanMarie@Proton.me</a>  |  <a href = 'https://www.linkedin.com/in/evanmarie/'>Linked In</a>  |  <a href = 'https://github.com/EvanMarie'>GitHub</a>   |  <a href = 'https://huggingface.co/EvanMarie'>Hugging Face</a>  |  <a href = 'https://sigmoid.social/@EvanMarie'>Mastadon</a>  |  <a href = 'https://jovian.ai/evanmarie'>Jovian.ai</a>  |  <a href = 'https://www.tiktok.com/@evanmarie_123'>TikTok</a>  |  <a href = 'https://www.codewars.com/users/EvanMarie'>CodeWars</a>  |  <b>Discord ⇨ ✨ EvanMarie ✨#6114</b>  |\n",
    "\t\t\t</td></tr>\n",
    "\t</table>\n",
    "</html>\n",
    "\n",
    "* Leader in online foreign exchange trading\n",
    "* Stocks and CFD trading (contract for difference, highly levered financial instrument)\n",
    "* Cryptocurrencies\n",
    "\n",
    "<html>\n",
    "\t<table style=\"width:50%;\">\n",
    "\t\t<tr>\n",
    "\t\t\t<th style = 'font-size: 16px; font-weight: 500; background-color: #FFB83C; padding: 5px 5px 3px 10px; line-height: 1.5; text-align: left; color:black;border-radius: 3px;; text-align: center;' colspan=\"3\"><b>Pros and Cons of FXCM</b></font></th>\n",
    "\t\t</tr>\n",
    "\t</table>\n",
    "</html>\n",
    "<font size = 4>Pros:<br></font>\n",
    "- Completely free with a demo account, which does not allow live trading<br>\n",
    "- Large datasets available for currencies, commodities, and indexes<br>\n",
    "- High frequency real-time data<br>\n",
    "- You can stream the high frequency real-time data<br>\n",
    "- Bid and ask prices are available<br>\n",
    "- fxcmpy is a powerful and professional wrapper package for python<br>\n",
    "\t\n",
    "<br>\n",
    "\n",
    "<font size = 4>Cons:<br></font>\n",
    "- Must register and make a demo account\n",
    "- marketing calls and emails to create a live account\n",
    "- demo accounts are not available in all countries, for example, the United State\n",
    "- No data for single stocks and bonds, no fundamentals\n",
    "- Only provide indexes, currencies, etc\n",
    "\t"
   ]
  },
  {
   "cell_type": "code",
   "execution_count": 1,
   "id": "13a5a480-eb41-424b-95f5-a02d76f8b132",
   "metadata": {},
   "outputs": [],
   "source": [
    "from helpers_mardi_gras import *\n",
    "import fxcmpy\n",
    "import_all()\n",
    "plt.style.use('mardi_gras.mplstyle')"
   ]
  },
  {
   "cell_type": "code",
   "execution_count": 2,
   "id": "fcdd7e02-dec2-4394-b650-84b4f66cf807",
   "metadata": {},
   "outputs": [
    {
     "data": {
      "text/html": [
       "<style>\n",
       "a:link {color: #FFB83C !important; font-weight: 600 !important;}\n",
       "a:visited {color: #FFB83C !important; font-weight: 600 !important;}\n",
       "</style>\n"
      ],
      "text/plain": [
       "<IPython.core.display.HTML object>"
      ]
     },
     "metadata": {},
     "output_type": "display_data"
    }
   ],
   "source": [
    "%%html\n",
    "<style>\n",
    "a:link {color: #FFB83C !important; font-weight: 600 !important;}\n",
    "a:visited {color: #FFB83C !important; font-weight: 600 !important;}\n",
    "</style>"
   ]
  },
  {
   "cell_type": "markdown",
   "id": "2425687d-26fb-4167-a3c6-9590f2c29fcf",
   "metadata": {},
   "source": [
    "<html>\n",
    "\t<table style=\"width:100%;\">\n",
    "\t\t<tr>\n",
    "\t\t\t<th style = 'font-size: 20px; font-weight: 525; background-color: #08CC5B; padding: 8px; line-height: 1.5; color:black; border-radius: 3px; text-align: center;' colspan=\"3\">FXCM: First Steps</font></th>\n",
    "\t\t</tr>\n",
    "\t</table>\n",
    "</html>"
   ]
  },
  {
   "cell_type": "code",
   "execution_count": 3,
   "id": "bf404eb9-7f3a-4fde-874b-3eb5a81c0d3e",
   "metadata": {},
   "outputs": [],
   "source": [
    "api_key = '697845399f900ead7ae7004308c5eb7c00b2cd6b'\n",
    "api = fxcmpy.fxcmpy(access_token = api_key, log_level = 'error')"
   ]
  },
  {
   "cell_type": "markdown",
   "id": "65e99092-0323-4304-98dc-28f1c415a4a7",
   "metadata": {},
   "source": [
    "<html>\n",
    "\t<table style=\"width:100%;\">\n",
    "\t\t<tr>\n",
    "\t\t\t<th style = 'font-size: 16px; font-weight: 500; background-color: #FFB83C; padding: 5px 5px 3px 10px; line-height: 1.5; text-align: left; color:black;border-radius: 3px;; text-align: left;' colspan=\"3\"><b># api is an fxcmpy object</b></font></th>\n",
    "\t\t</tr>\n",
    "\t</table>\n",
    "</html>"
   ]
  },
  {
   "cell_type": "code",
   "execution_count": 4,
   "id": "1808225f-d565-4e4c-8b21-fd0f2e6dd967",
   "metadata": {},
   "outputs": [
    {
     "data": {
      "text/plain": [
       "<fxcmpy.fxcmpy.fxcmpy at 0x7f8863097520>"
      ]
     },
     "execution_count": 4,
     "metadata": {},
     "output_type": "execute_result"
    }
   ],
   "source": [
    "api"
   ]
  },
  {
   "cell_type": "markdown",
   "id": "fcbb80f2-9e2e-4eed-aa1e-605253021ac8",
   "metadata": {},
   "source": [
    "<html>\n",
    "\t<table style=\"width:100%;\">\n",
    "\t\t<tr>\n",
    "\t\t\t<th style = 'font-size: 16px; font-weight: 500; background-color: #FFB83C; padding: 5px 5px 3px 10px; line-height: 1.5; text-align: left; color:black;border-radius: 3px;; text-align: left;' colspan=\"3\"><b><i># api.get_instruments()</b></i> - trading instruments</font></th>\n",
    "\t\t</tr>\n",
    "\t</table>\n",
    "</html>"
   ]
  },
  {
   "cell_type": "code",
   "execution_count": 5,
   "id": "f7d6610b-3109-4ac1-9640-d1912811f3c1",
   "metadata": {},
   "outputs": [
    {
     "data": {
      "text/html": [
       "<style type=\"text/css\">\n",
       "#T_b40c6 .row0 {\n",
       "  background-color: #A523FF;\n",
       "  color: white;\n",
       "  font-size: 15px;\n",
       "  font-weight: bold;\n",
       "  text-align: left;\n",
       "  padding: 8px;\n",
       "}\n",
       "#T_b40c6 tbody {\n",
       "  border: 1px solid;\n",
       "  border-color: black;\n",
       "}\n",
       "#T_b40c6 tr {\n",
       "  border: 0.8px solid;\n",
       "  border-color: black;\n",
       "}\n",
       "</style>\n",
       "<table id=\"T_b40c6\">\n",
       "  <thead>\n",
       "  </thead>\n",
       "  <tbody>\n",
       "    <tr>\n",
       "      <td id=\"T_b40c6_row0_col0\" class=\"data row0 col0\" >api.get_instruments</td>\n",
       "    </tr>\n",
       "  </tbody>\n",
       "</table>\n"
      ],
      "text/plain": [
       "<pandas.io.formats.style.Styler at 0x7f88630fc310>"
      ]
     },
     "metadata": {},
     "output_type": "display_data"
    },
    {
     "name": "stdout",
     "output_type": "stream",
     "text": [
      "\n",
      "Help on method get_instruments in module fxcmpy.fxcmpy:\n",
      "\n",
      "get_instruments() method of fxcmpy.fxcmpy.fxcmpy instance\n",
      "    Return the tradeable instruments of FXCM as a list.\n",
      "\n"
     ]
    }
   ],
   "source": [
    "pretty('api.get_instruments')\n",
    "help(api.get_instruments)"
   ]
  },
  {
   "cell_type": "code",
   "execution_count": 7,
   "id": "17a78b68-5524-4239-bc0d-fff9a956eac4",
   "metadata": {},
   "outputs": [],
   "source": [
    "trading_instruments = pd.Series(api.get_instruments())"
   ]
  },
  {
   "cell_type": "code",
   "execution_count": 11,
   "id": "22da3411-2dfe-4a4c-82e5-dc5db23353f0",
   "metadata": {},
   "outputs": [
    {
     "data": {
      "text/html": [
       "<center><style type=\"text/css\">\n",
       "#T_57725 tr {\n",
       "  background-color: #A523FF;\n",
       "  color: white;\n",
       "  font-size: 18px;\n",
       "  font-weight: 600;\n",
       "  text-align: left;\n",
       "  padding: 3px 30px 3px 50px;\n",
       "}\n",
       "#T_57725 td {\n",
       "  padding: 5px 10px 5px 10px;\n",
       "  width: autopx;\n",
       "  text-align: center;\n",
       "}\n",
       "</style>\n",
       "<table id=\"T_57725\">\n",
       "  <thead>\n",
       "  </thead>\n",
       "  <tbody>\n",
       "    <tr>\n",
       "      <td id=\"T_57725_row0_col0\" class=\"data row0 col0\" >10 samples of trading instrumentsv</td>\n",
       "    </tr>\n",
       "  </tbody>\n",
       "</table>\n"
      ],
      "text/plain": [
       "<IPython.core.display.HTML object>"
      ]
     },
     "metadata": {},
     "output_type": "display_data"
    },
    {
     "data": {
      "text/html": [
       "<center><table border=\"1\" class=\"dataframe\">\n",
       "  <thead>\n",
       "    <tr style=\"text-align: right;\">\n",
       "      <th></th>\n",
       "      <th>0</th>\n",
       "    </tr>\n",
       "  </thead>\n",
       "  <tbody>\n",
       "    <tr>\n",
       "      <th>271</th>\n",
       "      <td>EOS/USD</td>\n",
       "    </tr>\n",
       "    <tr>\n",
       "      <th>61</th>\n",
       "      <td>GELY.hk</td>\n",
       "    </tr>\n",
       "    <tr>\n",
       "      <th>311</th>\n",
       "      <td>EURIBOR3M</td>\n",
       "    </tr>\n",
       "    <tr>\n",
       "      <th>319</th>\n",
       "      <td>UKOilSpot</td>\n",
       "    </tr>\n",
       "    <tr>\n",
       "      <th>73</th>\n",
       "      <td>ICBC.hk</td>\n",
       "    </tr>\n",
       "    <tr>\n",
       "      <th>3</th>\n",
       "      <td>USD/CHF</td>\n",
       "    </tr>\n",
       "    <tr>\n",
       "      <th>79</th>\n",
       "      <td>MRNA.us</td>\n",
       "    </tr>\n",
       "    <tr>\n",
       "      <th>291</th>\n",
       "      <td>XAU/USD</td>\n",
       "    </tr>\n",
       "    <tr>\n",
       "      <th>224</th>\n",
       "      <td>XRO.au</td>\n",
       "    </tr>\n",
       "    <tr>\n",
       "      <th>287</th>\n",
       "      <td>XTZ/USD</td>\n",
       "    </tr>\n",
       "  </tbody>\n",
       "</table>"
      ],
      "text/plain": [
       "<IPython.core.display.HTML object>"
      ]
     },
     "metadata": {},
     "output_type": "display_data"
    },
    {
     "name": "stdout",
     "output_type": "stream",
     "text": [
      "\n"
     ]
    }
   ],
   "source": [
    "see(trading_instruments.sample(10), '10 samples of trading instrumentsv')"
   ]
  },
  {
   "cell_type": "markdown",
   "id": "43179c66-0e3e-4d45-abe2-a74e6ebe70c4",
   "metadata": {},
   "source": [
    "<html>\n",
    "\t<table style=\"width:100%;\">\n",
    "\t\t<tr>\n",
    "\t\t\t<th style = 'font-size: 16px; font-weight: 500; background-color: #FFB83C; padding: 5px 5px 3px 10px; line-height: 1.5; text-align: left; color:black;border-radius: 3px;; text-align: left;' colspan=\"3\"><b><i>api.close()</i></b>- disconnect from the server</font></th>\n",
    "\t\t</tr>\n",
    "\t</table>\n",
    "</html>"
   ]
  },
  {
   "cell_type": "code",
   "execution_count": null,
   "id": "d42661ef-2835-4fe4-aae9-7e0b468a04c2",
   "metadata": {},
   "outputs": [],
   "source": [
    "api.close()"
   ]
  },
  {
   "cell_type": "markdown",
   "id": "d40b91be-b6c6-4f8f-aea0-21fe0f2c4346",
   "metadata": {},
   "source": [
    "<a name = 'head'></a>\n",
    "\n",
    "<html>\n",
    "\t<table style=\"width:100%;\">\n",
    "\t\t<tr>\n",
    "\t\t\t<th style = 'background-color: #A523FF; padding: 5px 5px 3px 5px; line-height: 1.5; color:white;border-radius: 3px;; text-align: center; border-bottom: 1.5px solid white;' colspan=\"3\"><font size = 6>Downloading Historical Data</font></th>\n",
    "\t\t</tr>\n",
    "\t\t<tr>\n",
    "\t\t\t<th style = 'font-size: 16px; font-weight: 525; background-color: #FFB83C; padding: 8px; line-height: 1.5; color:black; border-radius: 3px; text-align: left;' colspan=\"3\">-<i> get_candles()</i></font></th>\n",
    "\t\t</tr>\n",
    "\t</table>\n",
    "</html>"
   ]
  },
  {
   "cell_type": "code",
   "execution_count": null,
   "id": "b374e7cf-34f5-43f4-8670-141923d247ee",
   "metadata": {},
   "outputs": [],
   "source": [
    "api_key = '697845399f900ead7ae7004308c5eb7c00b2cd6b'\n",
    "api = fxcmpy.fxcmpy(access_token = api_key, log_level = 'error')"
   ]
  },
  {
   "cell_type": "code",
   "execution_count": 12,
   "id": "d88470a6-2dc0-420d-8d95-63f77b1701eb",
   "metadata": {},
   "outputs": [
    {
     "data": {
      "text/html": [
       "<style type=\"text/css\">\n",
       "#T_b7fbd .row0 {\n",
       "  background-color: #A523FF;\n",
       "  color: white;\n",
       "  font-size: 15px;\n",
       "  font-weight: bold;\n",
       "  text-align: left;\n",
       "  padding: 8px;\n",
       "}\n",
       "#T_b7fbd tbody {\n",
       "  border: 1px solid;\n",
       "  border-color: black;\n",
       "}\n",
       "#T_b7fbd tr {\n",
       "  border: 0.8px solid;\n",
       "  border-color: black;\n",
       "}\n",
       "</style>\n",
       "<table id=\"T_b7fbd\">\n",
       "  <thead>\n",
       "  </thead>\n",
       "  <tbody>\n",
       "    <tr>\n",
       "      <td id=\"T_b7fbd_row0_col0\" class=\"data row0 col0\" >api.get_candles()</td>\n",
       "    </tr>\n",
       "  </tbody>\n",
       "</table>\n"
      ],
      "text/plain": [
       "<pandas.io.formats.style.Styler at 0x7f886166ded0>"
      ]
     },
     "metadata": {},
     "output_type": "display_data"
    },
    {
     "name": "stdout",
     "output_type": "stream",
     "text": [
      "\n",
      "Help on method get_candles in module fxcmpy.fxcmpy:\n",
      "\n",
      "get_candles(instrument='', offer_id=None, period='H1', number=10, start=None, end=None, with_index=True, columns=[], stop=None) method of fxcmpy.fxcmpy.fxcmpy instance\n",
      "    Return historical data from the fxcm database as pandas.DataFrame.\n",
      "    \n",
      "    Arguments:\n",
      "    \n",
      "    instrument: string (default ''):\n",
      "        the instrument for which data is requested. For a list of all\n",
      "        available instruments for historical data, use\n",
      "        get_instruments_for_candles().\n",
      "        If the value is equal to '' (default), offer_id must have a value. \n",
      "        If both, instrument and offer_id are given, the value of instrument \n",
      "        is used.\n",
      "    \n",
      "    offer_id: integer (default None): \n",
      "        the id of the instrument for which data is requested as given in the\n",
      "        offer trading table as given by get_offers(). If offer_id is equal \n",
      "        to None (default), the parameter instrument must have a value. \n",
      "        If both, instrument and offer_id are given, the value of instrument \n",
      "        is used.\n",
      "    \n",
      "    period: string,\n",
      "        the granularity of the data. Must be one of\n",
      "        'm1', 'm5', 'm15', 'm30', 'H1', 'H2', 'H3', 'H4', 'H6', 'H8',\n",
      "        'D1', 'W1', or 'M1'.\n",
      "    \n",
      "    number: integer (default 10),\n",
      "        the number of candles to receive.\n",
      "    \n",
      "    start: datetime.datetime, datetime.date or string (defaut None),\n",
      "        the first date to receive data for. \n",
      "    \n",
      "    end: datetime.datetime, datetime.date or string (default None),\n",
      "        the last date to receive data for.\n",
      "    \n",
      "    with_index: boolean (default True),\n",
      "        whether the column 'date' should server as index in the resulting\n",
      "        pandas.DataFrame.\n",
      "    \n",
      "    columns: list (default list()),\n",
      "        a list of column labels the result should include. If empty, all\n",
      "        columns are returned.\n",
      "    \n",
      "        Available column labels are\n",
      "    \n",
      "        'date', 'bidopen', 'bidclose', 'bidhigh', 'bidlow',\n",
      "        'askopen', 'askclose', 'askhigh', 'asklow', 'tickqty'.\n",
      "    \n",
      "        Also available is 'asks' as shortcut for all ask related columns\n",
      "        and 'bids' for all bid related columns, respectively.\n",
      "    \n",
      "        The column 'date' is always included.\n",
      "    \n",
      "    Returns:\n",
      "    \n",
      "    A pandas DataFrame containing the requested data.\n",
      "\n"
     ]
    }
   ],
   "source": [
    "pretty('api.get_candles()')\n",
    "help(api.get_candles)"
   ]
  },
  {
   "cell_type": "markdown",
   "id": "edecefba-60b4-4ef9-b2bd-eceac1f213de",
   "metadata": {},
   "source": [
    "<html>\n",
    "\t<table style=\"width:100%;\">\n",
    "\t\t<tr>\n",
    "\t\t\t<th style = 'font-size: 16px; font-weight: 500; background-color: #FFB83C; padding: 5px 5px 3px 10px; line-height: 1.5; text-align: left; color:black;border-radius: 3px;; text-align: left;' colspan=\"3\"><b><i># hourly data by default</i></b></font></th>\n",
    "\t\t</tr>\n",
    "\t</table>\n",
    "</html>"
   ]
  },
  {
   "cell_type": "code",
   "execution_count": 13,
   "id": "3d0641e6-85b4-44ff-9b77-9b12dde65494",
   "metadata": {},
   "outputs": [
    {
     "data": {
      "text/html": [
       "<style type=\"text/css\">\n",
       "#T_b470f .row0 {\n",
       "  background-color: #A523FF;\n",
       "  color: white;\n",
       "  font-size: 15px;\n",
       "  font-weight: bold;\n",
       "  text-align: left;\n",
       "  padding: 8px;\n",
       "}\n",
       "#T_b470f tbody {\n",
       "  border: 1px solid;\n",
       "  border-color: black;\n",
       "}\n",
       "#T_b470f tr {\n",
       "  border: 0.8px solid;\n",
       "  border-color: black;\n",
       "}\n",
       "</style>\n",
       "<table id=\"T_b470f\">\n",
       "  <thead>\n",
       "  </thead>\n",
       "  <tbody>\n",
       "    <tr>\n",
       "      <td id=\"T_b470f_row0_col0\" class=\"data row0 col0\" >api.get_candles('EUR/USD')</td>\n",
       "    </tr>\n",
       "  </tbody>\n",
       "</table>\n"
      ],
      "text/plain": [
       "<pandas.io.formats.style.Styler at 0x7f8863097880>"
      ]
     },
     "metadata": {},
     "output_type": "display_data"
    },
    {
     "name": "stdout",
     "output_type": "stream",
     "text": [
      "\n"
     ]
    },
    {
     "data": {
      "text/html": [
       "<style type=\"text/css\">\n",
       "</style>\n",
       "<table id=\"T_8db54\">\n",
       "  <thead>\n",
       "    <tr>\n",
       "      <th class=\"blank level0\" >&nbsp;</th>\n",
       "      <th id=\"T_8db54_level0_col0\" class=\"col_heading level0 col0\" >bidopen</th>\n",
       "      <th id=\"T_8db54_level0_col1\" class=\"col_heading level0 col1\" >bidclose</th>\n",
       "      <th id=\"T_8db54_level0_col2\" class=\"col_heading level0 col2\" >bidhigh</th>\n",
       "      <th id=\"T_8db54_level0_col3\" class=\"col_heading level0 col3\" >bidlow</th>\n",
       "      <th id=\"T_8db54_level0_col4\" class=\"col_heading level0 col4\" >askopen</th>\n",
       "      <th id=\"T_8db54_level0_col5\" class=\"col_heading level0 col5\" >askclose</th>\n",
       "      <th id=\"T_8db54_level0_col6\" class=\"col_heading level0 col6\" >askhigh</th>\n",
       "      <th id=\"T_8db54_level0_col7\" class=\"col_heading level0 col7\" >asklow</th>\n",
       "      <th id=\"T_8db54_level0_col8\" class=\"col_heading level0 col8\" >tickqty</th>\n",
       "    </tr>\n",
       "    <tr>\n",
       "      <th class=\"index_name level0\" >date</th>\n",
       "      <th class=\"blank col0\" >&nbsp;</th>\n",
       "      <th class=\"blank col1\" >&nbsp;</th>\n",
       "      <th class=\"blank col2\" >&nbsp;</th>\n",
       "      <th class=\"blank col3\" >&nbsp;</th>\n",
       "      <th class=\"blank col4\" >&nbsp;</th>\n",
       "      <th class=\"blank col5\" >&nbsp;</th>\n",
       "      <th class=\"blank col6\" >&nbsp;</th>\n",
       "      <th class=\"blank col7\" >&nbsp;</th>\n",
       "      <th class=\"blank col8\" >&nbsp;</th>\n",
       "    </tr>\n",
       "  </thead>\n",
       "  <tbody>\n",
       "    <tr>\n",
       "      <th id=\"T_8db54_level0_row0\" class=\"row_heading level0 row0\" >2023-02-03 12:00:00</th>\n",
       "      <td id=\"T_8db54_row0_col0\" class=\"data row0 col0\" >1.0929</td>\n",
       "      <td id=\"T_8db54_row0_col1\" class=\"data row0 col1\" >1.0932</td>\n",
       "      <td id=\"T_8db54_row0_col2\" class=\"data row0 col2\" >1.0936</td>\n",
       "      <td id=\"T_8db54_row0_col3\" class=\"data row0 col3\" >1.0925</td>\n",
       "      <td id=\"T_8db54_row0_col4\" class=\"data row0 col4\" >1.0930</td>\n",
       "      <td id=\"T_8db54_row0_col5\" class=\"data row0 col5\" >1.0933</td>\n",
       "      <td id=\"T_8db54_row0_col6\" class=\"data row0 col6\" >1.0938</td>\n",
       "      <td id=\"T_8db54_row0_col7\" class=\"data row0 col7\" >1.0926</td>\n",
       "      <td id=\"T_8db54_row0_col8\" class=\"data row0 col8\" >10895</td>\n",
       "    </tr>\n",
       "    <tr>\n",
       "      <th id=\"T_8db54_level0_row1\" class=\"row_heading level0 row1\" >2023-02-03 13:00:00</th>\n",
       "      <td id=\"T_8db54_row1_col0\" class=\"data row1 col0\" >1.0932</td>\n",
       "      <td id=\"T_8db54_row1_col1\" class=\"data row1 col1\" >1.0839</td>\n",
       "      <td id=\"T_8db54_row1_col2\" class=\"data row1 col2\" >1.0940</td>\n",
       "      <td id=\"T_8db54_row1_col3\" class=\"data row1 col3\" >1.0826</td>\n",
       "      <td id=\"T_8db54_row1_col4\" class=\"data row1 col4\" >1.0933</td>\n",
       "      <td id=\"T_8db54_row1_col5\" class=\"data row1 col5\" >1.0840</td>\n",
       "      <td id=\"T_8db54_row1_col6\" class=\"data row1 col6\" >1.0941</td>\n",
       "      <td id=\"T_8db54_row1_col7\" class=\"data row1 col7\" >1.0827</td>\n",
       "      <td id=\"T_8db54_row1_col8\" class=\"data row1 col8\" >55171</td>\n",
       "    </tr>\n",
       "    <tr>\n",
       "      <th id=\"T_8db54_level0_row2\" class=\"row_heading level0 row2\" >2023-02-03 14:00:00</th>\n",
       "      <td id=\"T_8db54_row2_col0\" class=\"data row2 col0\" >1.0839</td>\n",
       "      <td id=\"T_8db54_row2_col1\" class=\"data row2 col1\" >1.0863</td>\n",
       "      <td id=\"T_8db54_row2_col2\" class=\"data row2 col2\" >1.0870</td>\n",
       "      <td id=\"T_8db54_row2_col3\" class=\"data row2 col3\" >1.0832</td>\n",
       "      <td id=\"T_8db54_row2_col4\" class=\"data row2 col4\" >1.0840</td>\n",
       "      <td id=\"T_8db54_row2_col5\" class=\"data row2 col5\" >1.0866</td>\n",
       "      <td id=\"T_8db54_row2_col6\" class=\"data row2 col6\" >1.0872</td>\n",
       "      <td id=\"T_8db54_row2_col7\" class=\"data row2 col7\" >1.0833</td>\n",
       "      <td id=\"T_8db54_row2_col8\" class=\"data row2 col8\" >47510</td>\n",
       "    </tr>\n",
       "    <tr>\n",
       "      <th id=\"T_8db54_level0_row3\" class=\"row_heading level0 row3\" >2023-02-03 15:00:00</th>\n",
       "      <td id=\"T_8db54_row3_col0\" class=\"data row3 col0\" >1.0863</td>\n",
       "      <td id=\"T_8db54_row3_col1\" class=\"data row3 col1\" >1.0858</td>\n",
       "      <td id=\"T_8db54_row3_col2\" class=\"data row3 col2\" >1.0876</td>\n",
       "      <td id=\"T_8db54_row3_col3\" class=\"data row3 col3\" >1.0809</td>\n",
       "      <td id=\"T_8db54_row3_col4\" class=\"data row3 col4\" >1.0866</td>\n",
       "      <td id=\"T_8db54_row3_col5\" class=\"data row3 col5\" >1.0859</td>\n",
       "      <td id=\"T_8db54_row3_col6\" class=\"data row3 col6\" >1.0877</td>\n",
       "      <td id=\"T_8db54_row3_col7\" class=\"data row3 col7\" >1.0810</td>\n",
       "      <td id=\"T_8db54_row3_col8\" class=\"data row3 col8\" >66377</td>\n",
       "    </tr>\n",
       "    <tr>\n",
       "      <th id=\"T_8db54_level0_row4\" class=\"row_heading level0 row4\" >2023-02-03 16:00:00</th>\n",
       "      <td id=\"T_8db54_row4_col0\" class=\"data row4 col0\" >1.0858</td>\n",
       "      <td id=\"T_8db54_row4_col1\" class=\"data row4 col1\" >1.0824</td>\n",
       "      <td id=\"T_8db54_row4_col2\" class=\"data row4 col2\" >1.0861</td>\n",
       "      <td id=\"T_8db54_row4_col3\" class=\"data row4 col3\" >1.0823</td>\n",
       "      <td id=\"T_8db54_row4_col4\" class=\"data row4 col4\" >1.0859</td>\n",
       "      <td id=\"T_8db54_row4_col5\" class=\"data row4 col5\" >1.0826</td>\n",
       "      <td id=\"T_8db54_row4_col6\" class=\"data row4 col6\" >1.0862</td>\n",
       "      <td id=\"T_8db54_row4_col7\" class=\"data row4 col7\" >1.0824</td>\n",
       "      <td id=\"T_8db54_row4_col8\" class=\"data row4 col8\" >32004</td>\n",
       "    </tr>\n",
       "  </tbody>\n",
       "</table>\n"
      ],
      "text/plain": [
       "<pandas.io.formats.style.Styler at 0x7f886231aa10>"
      ]
     },
     "execution_count": 13,
     "metadata": {},
     "output_type": "execute_result"
    }
   ],
   "source": [
    "pretty(\"api.get_candles('EUR/USD')\")\n",
    "api.get_candles('EUR/USD').head(5).style.format(precision = 4)"
   ]
  },
  {
   "cell_type": "code",
   "execution_count": 14,
   "id": "5fbc9723-0a21-416c-9edf-3474e1d658f1",
   "metadata": {},
   "outputs": [
    {
     "data": {
      "text/html": [
       "<style type=\"text/css\">\n",
       "#T_dd58a .row0 {\n",
       "  background-color: #A523FF;\n",
       "  color: white;\n",
       "  font-size: 15px;\n",
       "  font-weight: bold;\n",
       "  text-align: left;\n",
       "  padding: 8px;\n",
       "}\n",
       "#T_dd58a tbody {\n",
       "  border: 1px solid;\n",
       "  border-color: black;\n",
       "}\n",
       "#T_dd58a tr {\n",
       "  border: 0.8px solid;\n",
       "  border-color: black;\n",
       "}\n",
       "</style>\n",
       "<table id=\"T_dd58a\">\n",
       "  <thead>\n",
       "  </thead>\n",
       "  <tbody>\n",
       "    <tr>\n",
       "      <td id=\"T_dd58a_row0_col0\" class=\"data row0 col0\" >api.get_candles('USD/JPY')</td>\n",
       "    </tr>\n",
       "  </tbody>\n",
       "</table>\n"
      ],
      "text/plain": [
       "<pandas.io.formats.style.Styler at 0x7f886329f520>"
      ]
     },
     "metadata": {},
     "output_type": "display_data"
    },
    {
     "name": "stdout",
     "output_type": "stream",
     "text": [
      "\n"
     ]
    },
    {
     "data": {
      "text/html": [
       "<style type=\"text/css\">\n",
       "</style>\n",
       "<table id=\"T_d2945\">\n",
       "  <thead>\n",
       "    <tr>\n",
       "      <th class=\"blank level0\" >&nbsp;</th>\n",
       "      <th id=\"T_d2945_level0_col0\" class=\"col_heading level0 col0\" >bidopen</th>\n",
       "      <th id=\"T_d2945_level0_col1\" class=\"col_heading level0 col1\" >bidclose</th>\n",
       "      <th id=\"T_d2945_level0_col2\" class=\"col_heading level0 col2\" >bidhigh</th>\n",
       "      <th id=\"T_d2945_level0_col3\" class=\"col_heading level0 col3\" >bidlow</th>\n",
       "      <th id=\"T_d2945_level0_col4\" class=\"col_heading level0 col4\" >askopen</th>\n",
       "      <th id=\"T_d2945_level0_col5\" class=\"col_heading level0 col5\" >askclose</th>\n",
       "      <th id=\"T_d2945_level0_col6\" class=\"col_heading level0 col6\" >askhigh</th>\n",
       "      <th id=\"T_d2945_level0_col7\" class=\"col_heading level0 col7\" >asklow</th>\n",
       "      <th id=\"T_d2945_level0_col8\" class=\"col_heading level0 col8\" >tickqty</th>\n",
       "    </tr>\n",
       "    <tr>\n",
       "      <th class=\"index_name level0\" >date</th>\n",
       "      <th class=\"blank col0\" >&nbsp;</th>\n",
       "      <th class=\"blank col1\" >&nbsp;</th>\n",
       "      <th class=\"blank col2\" >&nbsp;</th>\n",
       "      <th class=\"blank col3\" >&nbsp;</th>\n",
       "      <th class=\"blank col4\" >&nbsp;</th>\n",
       "      <th class=\"blank col5\" >&nbsp;</th>\n",
       "      <th class=\"blank col6\" >&nbsp;</th>\n",
       "      <th class=\"blank col7\" >&nbsp;</th>\n",
       "      <th class=\"blank col8\" >&nbsp;</th>\n",
       "    </tr>\n",
       "  </thead>\n",
       "  <tbody>\n",
       "    <tr>\n",
       "      <th id=\"T_d2945_level0_row0\" class=\"row_heading level0 row0\" >2023-02-03 12:00:00</th>\n",
       "      <td id=\"T_d2945_row0_col0\" class=\"data row0 col0\" >128.3880</td>\n",
       "      <td id=\"T_d2945_row0_col1\" class=\"data row0 col1\" >128.4240</td>\n",
       "      <td id=\"T_d2945_row0_col2\" class=\"data row0 col2\" >128.4600</td>\n",
       "      <td id=\"T_d2945_row0_col3\" class=\"data row0 col3\" >128.3210</td>\n",
       "      <td id=\"T_d2945_row0_col4\" class=\"data row0 col4\" >128.4050</td>\n",
       "      <td id=\"T_d2945_row0_col5\" class=\"data row0 col5\" >128.4400</td>\n",
       "      <td id=\"T_d2945_row0_col6\" class=\"data row0 col6\" >128.4740</td>\n",
       "      <td id=\"T_d2945_row0_col7\" class=\"data row0 col7\" >128.3370</td>\n",
       "      <td id=\"T_d2945_row0_col8\" class=\"data row0 col8\" >12083</td>\n",
       "    </tr>\n",
       "    <tr>\n",
       "      <th id=\"T_d2945_level0_row1\" class=\"row_heading level0 row1\" >2023-02-03 13:00:00</th>\n",
       "      <td id=\"T_d2945_row1_col0\" class=\"data row1 col0\" >128.4240</td>\n",
       "      <td id=\"T_d2945_row1_col1\" class=\"data row1 col1\" >129.9370</td>\n",
       "      <td id=\"T_d2945_row1_col2\" class=\"data row1 col2\" >130.1970</td>\n",
       "      <td id=\"T_d2945_row1_col3\" class=\"data row1 col3\" >128.3600</td>\n",
       "      <td id=\"T_d2945_row1_col4\" class=\"data row1 col4\" >128.4390</td>\n",
       "      <td id=\"T_d2945_row1_col5\" class=\"data row1 col5\" >129.9580</td>\n",
       "      <td id=\"T_d2945_row1_col6\" class=\"data row1 col6\" >130.2120</td>\n",
       "      <td id=\"T_d2945_row1_col7\" class=\"data row1 col7\" >128.3760</td>\n",
       "      <td id=\"T_d2945_row1_col8\" class=\"data row1 col8\" >68778</td>\n",
       "    </tr>\n",
       "    <tr>\n",
       "      <th id=\"T_d2945_level0_row2\" class=\"row_heading level0 row2\" >2023-02-03 14:00:00</th>\n",
       "      <td id=\"T_d2945_row2_col0\" class=\"data row2 col0\" >129.9360</td>\n",
       "      <td id=\"T_d2945_row2_col1\" class=\"data row2 col1\" >130.3250</td>\n",
       "      <td id=\"T_d2945_row2_col2\" class=\"data row2 col2\" >130.4710</td>\n",
       "      <td id=\"T_d2945_row2_col3\" class=\"data row2 col3\" >129.8410</td>\n",
       "      <td id=\"T_d2945_row2_col4\" class=\"data row2 col4\" >129.9580</td>\n",
       "      <td id=\"T_d2945_row2_col5\" class=\"data row2 col5\" >130.3510</td>\n",
       "      <td id=\"T_d2945_row2_col6\" class=\"data row2 col6\" >130.4830</td>\n",
       "      <td id=\"T_d2945_row2_col7\" class=\"data row2 col7\" >129.8610</td>\n",
       "      <td id=\"T_d2945_row2_col8\" class=\"data row2 col8\" >60578</td>\n",
       "    </tr>\n",
       "    <tr>\n",
       "      <th id=\"T_d2945_level0_row3\" class=\"row_heading level0 row3\" >2023-02-03 15:00:00</th>\n",
       "      <td id=\"T_d2945_row3_col0\" class=\"data row3 col0\" >130.3260</td>\n",
       "      <td id=\"T_d2945_row3_col1\" class=\"data row3 col1\" >131.0640</td>\n",
       "      <td id=\"T_d2945_row3_col2\" class=\"data row3 col2\" >131.1730</td>\n",
       "      <td id=\"T_d2945_row3_col3\" class=\"data row3 col3\" >130.3240</td>\n",
       "      <td id=\"T_d2945_row3_col4\" class=\"data row3 col4\" >130.3510</td>\n",
       "      <td id=\"T_d2945_row3_col5\" class=\"data row3 col5\" >131.0770</td>\n",
       "      <td id=\"T_d2945_row3_col6\" class=\"data row3 col6\" >131.1860</td>\n",
       "      <td id=\"T_d2945_row3_col7\" class=\"data row3 col7\" >130.3490</td>\n",
       "      <td id=\"T_d2945_row3_col8\" class=\"data row3 col8\" >75053</td>\n",
       "    </tr>\n",
       "    <tr>\n",
       "      <th id=\"T_d2945_level0_row4\" class=\"row_heading level0 row4\" >2023-02-03 16:00:00</th>\n",
       "      <td id=\"T_d2945_row4_col0\" class=\"data row4 col0\" >131.0650</td>\n",
       "      <td id=\"T_d2945_row4_col1\" class=\"data row4 col1\" >131.0720</td>\n",
       "      <td id=\"T_d2945_row4_col2\" class=\"data row4 col2\" >131.0850</td>\n",
       "      <td id=\"T_d2945_row4_col3\" class=\"data row4 col3\" >130.8260</td>\n",
       "      <td id=\"T_d2945_row4_col4\" class=\"data row4 col4\" >131.0770</td>\n",
       "      <td id=\"T_d2945_row4_col5\" class=\"data row4 col5\" >131.0880</td>\n",
       "      <td id=\"T_d2945_row4_col6\" class=\"data row4 col6\" >131.1020</td>\n",
       "      <td id=\"T_d2945_row4_col7\" class=\"data row4 col7\" >130.8420</td>\n",
       "      <td id=\"T_d2945_row4_col8\" class=\"data row4 col8\" >31791</td>\n",
       "    </tr>\n",
       "  </tbody>\n",
       "</table>\n"
      ],
      "text/plain": [
       "<pandas.io.formats.style.Styler at 0x7f88709e7f10>"
      ]
     },
     "execution_count": 14,
     "metadata": {},
     "output_type": "execute_result"
    }
   ],
   "source": [
    "pretty(\"api.get_candles('USD/JPY')\")\n",
    "api.get_candles('USD/JPY').head(5).style.format(precision = 4)"
   ]
  },
  {
   "cell_type": "code",
   "execution_count": 15,
   "id": "9f5ed964-8063-49d9-a33b-27367d997ac1",
   "metadata": {
    "tags": []
   },
   "outputs": [
    {
     "data": {
      "text/html": [
       "<style type=\"text/css\">\n",
       "#T_8ac2e .row0 {\n",
       "  background-color: #A523FF;\n",
       "  color: white;\n",
       "  font-size: 15px;\n",
       "  font-weight: bold;\n",
       "  text-align: left;\n",
       "  padding: 8px;\n",
       "}\n",
       "#T_8ac2e tbody {\n",
       "  border: 1px solid;\n",
       "  border-color: black;\n",
       "}\n",
       "#T_8ac2e tr {\n",
       "  border: 0.8px solid;\n",
       "  border-color: black;\n",
       "}\n",
       "</style>\n",
       "<table id=\"T_8ac2e\">\n",
       "  <thead>\n",
       "  </thead>\n",
       "  <tbody>\n",
       "    <tr>\n",
       "      <td id=\"T_8ac2e_row0_col0\" class=\"data row0 col0\" >api.get_candles('GBP/USD')</td>\n",
       "    </tr>\n",
       "  </tbody>\n",
       "</table>\n"
      ],
      "text/plain": [
       "<pandas.io.formats.style.Styler at 0x7f886329f250>"
      ]
     },
     "metadata": {},
     "output_type": "display_data"
    },
    {
     "name": "stdout",
     "output_type": "stream",
     "text": [
      "\n"
     ]
    },
    {
     "data": {
      "text/html": [
       "<style type=\"text/css\">\n",
       "</style>\n",
       "<table id=\"T_45d85\">\n",
       "  <thead>\n",
       "    <tr>\n",
       "      <th class=\"blank level0\" >&nbsp;</th>\n",
       "      <th id=\"T_45d85_level0_col0\" class=\"col_heading level0 col0\" >bidopen</th>\n",
       "      <th id=\"T_45d85_level0_col1\" class=\"col_heading level0 col1\" >bidclose</th>\n",
       "      <th id=\"T_45d85_level0_col2\" class=\"col_heading level0 col2\" >bidhigh</th>\n",
       "      <th id=\"T_45d85_level0_col3\" class=\"col_heading level0 col3\" >bidlow</th>\n",
       "      <th id=\"T_45d85_level0_col4\" class=\"col_heading level0 col4\" >askopen</th>\n",
       "      <th id=\"T_45d85_level0_col5\" class=\"col_heading level0 col5\" >askclose</th>\n",
       "      <th id=\"T_45d85_level0_col6\" class=\"col_heading level0 col6\" >askhigh</th>\n",
       "      <th id=\"T_45d85_level0_col7\" class=\"col_heading level0 col7\" >asklow</th>\n",
       "      <th id=\"T_45d85_level0_col8\" class=\"col_heading level0 col8\" >tickqty</th>\n",
       "    </tr>\n",
       "    <tr>\n",
       "      <th class=\"index_name level0\" >date</th>\n",
       "      <th class=\"blank col0\" >&nbsp;</th>\n",
       "      <th class=\"blank col1\" >&nbsp;</th>\n",
       "      <th class=\"blank col2\" >&nbsp;</th>\n",
       "      <th class=\"blank col3\" >&nbsp;</th>\n",
       "      <th class=\"blank col4\" >&nbsp;</th>\n",
       "      <th class=\"blank col5\" >&nbsp;</th>\n",
       "      <th class=\"blank col6\" >&nbsp;</th>\n",
       "      <th class=\"blank col7\" >&nbsp;</th>\n",
       "      <th class=\"blank col8\" >&nbsp;</th>\n",
       "    </tr>\n",
       "  </thead>\n",
       "  <tbody>\n",
       "    <tr>\n",
       "      <th id=\"T_45d85_level0_row0\" class=\"row_heading level0 row0\" >2023-02-03 12:00:00</th>\n",
       "      <td id=\"T_45d85_row0_col0\" class=\"data row0 col0\" >1.2259</td>\n",
       "      <td id=\"T_45d85_row0_col1\" class=\"data row0 col1\" >1.2245</td>\n",
       "      <td id=\"T_45d85_row0_col2\" class=\"data row0 col2\" >1.2263</td>\n",
       "      <td id=\"T_45d85_row0_col3\" class=\"data row0 col3\" >1.2245</td>\n",
       "      <td id=\"T_45d85_row0_col4\" class=\"data row0 col4\" >1.2260</td>\n",
       "      <td id=\"T_45d85_row0_col5\" class=\"data row0 col5\" >1.2246</td>\n",
       "      <td id=\"T_45d85_row0_col6\" class=\"data row0 col6\" >1.2265</td>\n",
       "      <td id=\"T_45d85_row0_col7\" class=\"data row0 col7\" >1.2246</td>\n",
       "      <td id=\"T_45d85_row0_col8\" class=\"data row0 col8\" >21767</td>\n",
       "    </tr>\n",
       "    <tr>\n",
       "      <th id=\"T_45d85_level0_row1\" class=\"row_heading level0 row1\" >2023-02-03 13:00:00</th>\n",
       "      <td id=\"T_45d85_row1_col0\" class=\"data row1 col0\" >1.2245</td>\n",
       "      <td id=\"T_45d85_row1_col1\" class=\"data row1 col1\" >1.2127</td>\n",
       "      <td id=\"T_45d85_row1_col2\" class=\"data row1 col2\" >1.2260</td>\n",
       "      <td id=\"T_45d85_row1_col3\" class=\"data row1 col3\" >1.2100</td>\n",
       "      <td id=\"T_45d85_row1_col4\" class=\"data row1 col4\" >1.2246</td>\n",
       "      <td id=\"T_45d85_row1_col5\" class=\"data row1 col5\" >1.2129</td>\n",
       "      <td id=\"T_45d85_row1_col6\" class=\"data row1 col6\" >1.2261</td>\n",
       "      <td id=\"T_45d85_row1_col7\" class=\"data row1 col7\" >1.2102</td>\n",
       "      <td id=\"T_45d85_row1_col8\" class=\"data row1 col8\" >69253</td>\n",
       "    </tr>\n",
       "    <tr>\n",
       "      <th id=\"T_45d85_level0_row2\" class=\"row_heading level0 row2\" >2023-02-03 14:00:00</th>\n",
       "      <td id=\"T_45d85_row2_col0\" class=\"data row2 col0\" >1.2127</td>\n",
       "      <td id=\"T_45d85_row2_col1\" class=\"data row2 col1\" >1.2132</td>\n",
       "      <td id=\"T_45d85_row2_col2\" class=\"data row2 col2\" >1.2147</td>\n",
       "      <td id=\"T_45d85_row2_col3\" class=\"data row2 col3\" >1.2111</td>\n",
       "      <td id=\"T_45d85_row2_col4\" class=\"data row2 col4\" >1.2129</td>\n",
       "      <td id=\"T_45d85_row2_col5\" class=\"data row2 col5\" >1.2135</td>\n",
       "      <td id=\"T_45d85_row2_col6\" class=\"data row2 col6\" >1.2149</td>\n",
       "      <td id=\"T_45d85_row2_col7\" class=\"data row2 col7\" >1.2113</td>\n",
       "      <td id=\"T_45d85_row2_col8\" class=\"data row2 col8\" >65906</td>\n",
       "    </tr>\n",
       "    <tr>\n",
       "      <th id=\"T_45d85_level0_row3\" class=\"row_heading level0 row3\" >2023-02-03 15:00:00</th>\n",
       "      <td id=\"T_45d85_row3_col0\" class=\"data row3 col0\" >1.2132</td>\n",
       "      <td id=\"T_45d85_row3_col1\" class=\"data row3 col1\" >1.2104</td>\n",
       "      <td id=\"T_45d85_row3_col2\" class=\"data row3 col2\" >1.2132</td>\n",
       "      <td id=\"T_45d85_row3_col3\" class=\"data row3 col3\" >1.2062</td>\n",
       "      <td id=\"T_45d85_row3_col4\" class=\"data row3 col4\" >1.2135</td>\n",
       "      <td id=\"T_45d85_row3_col5\" class=\"data row3 col5\" >1.2106</td>\n",
       "      <td id=\"T_45d85_row3_col6\" class=\"data row3 col6\" >1.2135</td>\n",
       "      <td id=\"T_45d85_row3_col7\" class=\"data row3 col7\" >1.2063</td>\n",
       "      <td id=\"T_45d85_row3_col8\" class=\"data row3 col8\" >81080</td>\n",
       "    </tr>\n",
       "    <tr>\n",
       "      <th id=\"T_45d85_level0_row4\" class=\"row_heading level0 row4\" >2023-02-03 16:00:00</th>\n",
       "      <td id=\"T_45d85_row4_col0\" class=\"data row4 col0\" >1.2104</td>\n",
       "      <td id=\"T_45d85_row4_col1\" class=\"data row4 col1\" >1.2071</td>\n",
       "      <td id=\"T_45d85_row4_col2\" class=\"data row4 col2\" >1.2115</td>\n",
       "      <td id=\"T_45d85_row4_col3\" class=\"data row4 col3\" >1.2065</td>\n",
       "      <td id=\"T_45d85_row4_col4\" class=\"data row4 col4\" >1.2106</td>\n",
       "      <td id=\"T_45d85_row4_col5\" class=\"data row4 col5\" >1.2072</td>\n",
       "      <td id=\"T_45d85_row4_col6\" class=\"data row4 col6\" >1.2117</td>\n",
       "      <td id=\"T_45d85_row4_col7\" class=\"data row4 col7\" >1.2067</td>\n",
       "      <td id=\"T_45d85_row4_col8\" class=\"data row4 col8\" >42910</td>\n",
       "    </tr>\n",
       "  </tbody>\n",
       "</table>\n"
      ],
      "text/plain": [
       "<pandas.io.formats.style.Styler at 0x7f886166e320>"
      ]
     },
     "execution_count": 15,
     "metadata": {},
     "output_type": "execute_result"
    }
   ],
   "source": [
    "pretty(\"api.get_candles('GBP/USD')\")\n",
    "api.get_candles('GBP/USD').head(5).style.format(precision = 4)"
   ]
  },
  {
   "cell_type": "code",
   "execution_count": 16,
   "id": "bd4c3a86-856c-43cd-8f77-985eb535f7ff",
   "metadata": {},
   "outputs": [],
   "source": [
    "api.close()"
   ]
  },
  {
   "cell_type": "markdown",
   "id": "21badbde-d5b7-478e-91aa-83a9a751c555",
   "metadata": {},
   "source": [
    "<a name = 'head'></a>\n",
    "\n",
    "<html>\n",
    "\t<table style=\"width:100%;\">\n",
    "\t\t<tr>\n",
    "\t\t\t<th style = 'background-color: #A523FF; padding: 5px 5px 3px 5px; line-height: 1.5; color:white;border-radius: 3px;; text-align: center; border-bottom: 1.5px solid white;' colspan=\"3\"><font size = 6>Intraday Frequency</font></th>\n",
    "\t\t</tr>\n",
    "\t\t<tr>\n",
    "\t\t\t<th style = 'font-size: 15px; font-weight: 500; background-color: #FFB83C; padding: 8px; line-height: 1.5; color:black; border-radius: 3px; text-align: left;' colspan=\"3\">- <b><i>period</b></i>: string, the granularity of the data<br>- Must be one of: 'm1', 'm5', 'm15', 'm30', 'H1', 'H2', 'H3', 'H4', 'H6', 'H8', 'D1', 'W1', or 'M1'<br>- <b><i>number</b></i>: integer (default 10),\n",
    "        the number of candles to receive.</font></th>\n",
    "\t\t</tr>\n",
    "\t</table>\n",
    "</html>"
   ]
  },
  {
   "cell_type": "code",
   "execution_count": 17,
   "id": "1b505fb0-83cf-422b-a4e0-285651e11c22",
   "metadata": {},
   "outputs": [],
   "source": [
    "api_key = '697845399f900ead7ae7004308c5eb7c00b2cd6b'\n",
    "api = fxcmpy.fxcmpy(access_token = api_key, log_level = 'error')"
   ]
  },
  {
   "cell_type": "code",
   "execution_count": 18,
   "id": "252ff63d-4298-4ac0-b347-57ade374cb86",
   "metadata": {},
   "outputs": [
    {
     "data": {
      "text/html": [
       "<style type=\"text/css\">\n",
       "#T_14839 .row0 {\n",
       "  background-color: #A523FF;\n",
       "  color: white;\n",
       "  font-size: 15px;\n",
       "  font-weight: bold;\n",
       "  text-align: left;\n",
       "  padding: 8px;\n",
       "}\n",
       "#T_14839 tbody {\n",
       "  border: 1px solid;\n",
       "  border-color: black;\n",
       "}\n",
       "#T_14839 tr {\n",
       "  border: 0.8px solid;\n",
       "  border-color: black;\n",
       "}\n",
       "</style>\n",
       "<table id=\"T_14839\">\n",
       "  <thead>\n",
       "  </thead>\n",
       "  <tbody>\n",
       "    <tr>\n",
       "      <td id=\"T_14839_row0_col0\" class=\"data row0 col0\" >api.get_candles('EUR/USD', period = 'D1'</td>\n",
       "    </tr>\n",
       "  </tbody>\n",
       "</table>\n"
      ],
      "text/plain": [
       "<pandas.io.formats.style.Styler at 0x7f8858122d10>"
      ]
     },
     "metadata": {},
     "output_type": "display_data"
    },
    {
     "name": "stdout",
     "output_type": "stream",
     "text": [
      "\n"
     ]
    },
    {
     "data": {
      "text/html": [
       "<style type=\"text/css\">\n",
       "</style>\n",
       "<table id=\"T_f2928\">\n",
       "  <thead>\n",
       "    <tr>\n",
       "      <th class=\"blank level0\" >&nbsp;</th>\n",
       "      <th id=\"T_f2928_level0_col0\" class=\"col_heading level0 col0\" >bidopen</th>\n",
       "      <th id=\"T_f2928_level0_col1\" class=\"col_heading level0 col1\" >bidclose</th>\n",
       "      <th id=\"T_f2928_level0_col2\" class=\"col_heading level0 col2\" >bidhigh</th>\n",
       "      <th id=\"T_f2928_level0_col3\" class=\"col_heading level0 col3\" >bidlow</th>\n",
       "      <th id=\"T_f2928_level0_col4\" class=\"col_heading level0 col4\" >askopen</th>\n",
       "      <th id=\"T_f2928_level0_col5\" class=\"col_heading level0 col5\" >askclose</th>\n",
       "      <th id=\"T_f2928_level0_col6\" class=\"col_heading level0 col6\" >askhigh</th>\n",
       "      <th id=\"T_f2928_level0_col7\" class=\"col_heading level0 col7\" >asklow</th>\n",
       "      <th id=\"T_f2928_level0_col8\" class=\"col_heading level0 col8\" >tickqty</th>\n",
       "    </tr>\n",
       "    <tr>\n",
       "      <th class=\"index_name level0\" >date</th>\n",
       "      <th class=\"blank col0\" >&nbsp;</th>\n",
       "      <th class=\"blank col1\" >&nbsp;</th>\n",
       "      <th class=\"blank col2\" >&nbsp;</th>\n",
       "      <th class=\"blank col3\" >&nbsp;</th>\n",
       "      <th class=\"blank col4\" >&nbsp;</th>\n",
       "      <th class=\"blank col5\" >&nbsp;</th>\n",
       "      <th class=\"blank col6\" >&nbsp;</th>\n",
       "      <th class=\"blank col7\" >&nbsp;</th>\n",
       "      <th class=\"blank col8\" >&nbsp;</th>\n",
       "    </tr>\n",
       "  </thead>\n",
       "  <tbody>\n",
       "    <tr>\n",
       "      <th id=\"T_f2928_level0_row0\" class=\"row_heading level0 row0\" >2023-01-24 22:00:00</th>\n",
       "      <td id=\"T_f2928_row0_col0\" class=\"data row0 col0\" >1.0868</td>\n",
       "      <td id=\"T_f2928_row0_col1\" class=\"data row0 col1\" >1.0882</td>\n",
       "      <td id=\"T_f2928_row0_col2\" class=\"data row0 col2\" >1.0897</td>\n",
       "      <td id=\"T_f2928_row0_col3\" class=\"data row0 col3\" >1.0834</td>\n",
       "      <td id=\"T_f2928_row0_col4\" class=\"data row0 col4\" >1.0876</td>\n",
       "      <td id=\"T_f2928_row0_col5\" class=\"data row0 col5\" >1.0891</td>\n",
       "      <td id=\"T_f2928_row0_col6\" class=\"data row0 col6\" >1.0899</td>\n",
       "      <td id=\"T_f2928_row0_col7\" class=\"data row0 col7\" >1.0836</td>\n",
       "      <td id=\"T_f2928_row0_col8\" class=\"data row0 col8\" >232099</td>\n",
       "    </tr>\n",
       "    <tr>\n",
       "      <th id=\"T_f2928_level0_row1\" class=\"row_heading level0 row1\" >2023-01-25 22:00:00</th>\n",
       "      <td id=\"T_f2928_row1_col0\" class=\"data row1 col0\" >1.0881</td>\n",
       "      <td id=\"T_f2928_row1_col1\" class=\"data row1 col1\" >1.0912</td>\n",
       "      <td id=\"T_f2928_row1_col2\" class=\"data row1 col2\" >1.0923</td>\n",
       "      <td id=\"T_f2928_row1_col3\" class=\"data row1 col3\" >1.0856</td>\n",
       "      <td id=\"T_f2928_row1_col4\" class=\"data row1 col4\" >1.0892</td>\n",
       "      <td id=\"T_f2928_row1_col5\" class=\"data row1 col5\" >1.0920</td>\n",
       "      <td id=\"T_f2928_row1_col6\" class=\"data row1 col6\" >1.0924</td>\n",
       "      <td id=\"T_f2928_row1_col7\" class=\"data row1 col7\" >1.0858</td>\n",
       "      <td id=\"T_f2928_row1_col8\" class=\"data row1 col8\" >234914</td>\n",
       "    </tr>\n",
       "    <tr>\n",
       "      <th id=\"T_f2928_level0_row2\" class=\"row_heading level0 row2\" >2023-01-26 22:00:00</th>\n",
       "      <td id=\"T_f2928_row2_col0\" class=\"data row2 col0\" >1.0915</td>\n",
       "      <td id=\"T_f2928_row2_col1\" class=\"data row2 col1\" >1.0888</td>\n",
       "      <td id=\"T_f2928_row2_col2\" class=\"data row2 col2\" >1.0929</td>\n",
       "      <td id=\"T_f2928_row2_col3\" class=\"data row2 col3\" >1.0850</td>\n",
       "      <td id=\"T_f2928_row2_col4\" class=\"data row2 col4\" >1.0918</td>\n",
       "      <td id=\"T_f2928_row2_col5\" class=\"data row2 col5\" >1.0896</td>\n",
       "      <td id=\"T_f2928_row2_col6\" class=\"data row2 col6\" >1.0931</td>\n",
       "      <td id=\"T_f2928_row2_col7\" class=\"data row2 col7\" >1.0851</td>\n",
       "      <td id=\"T_f2928_row2_col8\" class=\"data row2 col8\" >242276</td>\n",
       "    </tr>\n",
       "    <tr>\n",
       "      <th id=\"T_f2928_level0_row3\" class=\"row_heading level0 row3\" >2023-01-27 22:00:00</th>\n",
       "      <td id=\"T_f2928_row3_col0\" class=\"data row3 col0\" >1.0888</td>\n",
       "      <td id=\"T_f2928_row3_col1\" class=\"data row3 col1\" >1.0865</td>\n",
       "      <td id=\"T_f2928_row3_col2\" class=\"data row3 col2\" >1.0900</td>\n",
       "      <td id=\"T_f2928_row3_col3\" class=\"data row3 col3\" >1.0837</td>\n",
       "      <td id=\"T_f2928_row3_col4\" class=\"data row3 col4\" >1.0896</td>\n",
       "      <td id=\"T_f2928_row3_col5\" class=\"data row3 col5\" >1.0872</td>\n",
       "      <td id=\"T_f2928_row3_col6\" class=\"data row3 col6\" >1.0901</td>\n",
       "      <td id=\"T_f2928_row3_col7\" class=\"data row3 col7\" >1.0838</td>\n",
       "      <td id=\"T_f2928_row3_col8\" class=\"data row3 col8\" >201659</td>\n",
       "    </tr>\n",
       "    <tr>\n",
       "      <th id=\"T_f2928_level0_row4\" class=\"row_heading level0 row4\" >2023-01-29 22:00:00</th>\n",
       "      <td id=\"T_f2928_row4_col0\" class=\"data row4 col0\" >1.0866</td>\n",
       "      <td id=\"T_f2928_row4_col1\" class=\"data row4 col1\" >1.0864</td>\n",
       "      <td id=\"T_f2928_row4_col2\" class=\"data row4 col2\" >1.0872</td>\n",
       "      <td id=\"T_f2928_row4_col3\" class=\"data row4 col3\" >1.0860</td>\n",
       "      <td id=\"T_f2928_row4_col4\" class=\"data row4 col4\" >1.0875</td>\n",
       "      <td id=\"T_f2928_row4_col5\" class=\"data row4 col5\" >1.0871</td>\n",
       "      <td id=\"T_f2928_row4_col6\" class=\"data row4 col6\" >1.0879</td>\n",
       "      <td id=\"T_f2928_row4_col7\" class=\"data row4 col7\" >1.0865</td>\n",
       "      <td id=\"T_f2928_row4_col8\" class=\"data row4 col8\" >179</td>\n",
       "    </tr>\n",
       "  </tbody>\n",
       "</table>\n"
      ],
      "text/plain": [
       "<pandas.io.formats.style.Styler at 0x7f88630fca90>"
      ]
     },
     "execution_count": 18,
     "metadata": {},
     "output_type": "execute_result"
    }
   ],
   "source": [
    "pretty(\"api.get_candles('EUR/USD', period = 'D1'\")\n",
    "api.get_candles('EUR/USD', period = 'D1').head(5).style.format(precision = 4)"
   ]
  },
  {
   "cell_type": "code",
   "execution_count": 19,
   "id": "69ef3320-1d59-42ec-931f-2bfb436419c8",
   "metadata": {},
   "outputs": [
    {
     "data": {
      "text/html": [
       "<style type=\"text/css\">\n",
       "#T_c60fb .row0 {\n",
       "  background-color: #A523FF;\n",
       "  color: white;\n",
       "  font-size: 15px;\n",
       "  font-weight: bold;\n",
       "  text-align: left;\n",
       "  padding: 8px;\n",
       "}\n",
       "#T_c60fb tbody {\n",
       "  border: 1px solid;\n",
       "  border-color: black;\n",
       "}\n",
       "#T_c60fb tr {\n",
       "  border: 0.8px solid;\n",
       "  border-color: black;\n",
       "}\n",
       "</style>\n",
       "<table id=\"T_c60fb\">\n",
       "  <thead>\n",
       "  </thead>\n",
       "  <tbody>\n",
       "    <tr>\n",
       "      <td id=\"T_c60fb_row0_col0\" class=\"data row0 col0\" >api.get_candles('EUR/USD', period = 'm1')</td>\n",
       "    </tr>\n",
       "  </tbody>\n",
       "</table>\n"
      ],
      "text/plain": [
       "<pandas.io.formats.style.Styler at 0x7f8863320580>"
      ]
     },
     "metadata": {},
     "output_type": "display_data"
    },
    {
     "name": "stdout",
     "output_type": "stream",
     "text": [
      "\n"
     ]
    },
    {
     "data": {
      "text/html": [
       "<style type=\"text/css\">\n",
       "</style>\n",
       "<table id=\"T_99706\">\n",
       "  <thead>\n",
       "    <tr>\n",
       "      <th class=\"blank level0\" >&nbsp;</th>\n",
       "      <th id=\"T_99706_level0_col0\" class=\"col_heading level0 col0\" >bidopen</th>\n",
       "      <th id=\"T_99706_level0_col1\" class=\"col_heading level0 col1\" >bidclose</th>\n",
       "      <th id=\"T_99706_level0_col2\" class=\"col_heading level0 col2\" >bidhigh</th>\n",
       "      <th id=\"T_99706_level0_col3\" class=\"col_heading level0 col3\" >bidlow</th>\n",
       "      <th id=\"T_99706_level0_col4\" class=\"col_heading level0 col4\" >askopen</th>\n",
       "      <th id=\"T_99706_level0_col5\" class=\"col_heading level0 col5\" >askclose</th>\n",
       "      <th id=\"T_99706_level0_col6\" class=\"col_heading level0 col6\" >askhigh</th>\n",
       "      <th id=\"T_99706_level0_col7\" class=\"col_heading level0 col7\" >asklow</th>\n",
       "      <th id=\"T_99706_level0_col8\" class=\"col_heading level0 col8\" >tickqty</th>\n",
       "    </tr>\n",
       "    <tr>\n",
       "      <th class=\"index_name level0\" >date</th>\n",
       "      <th class=\"blank col0\" >&nbsp;</th>\n",
       "      <th class=\"blank col1\" >&nbsp;</th>\n",
       "      <th class=\"blank col2\" >&nbsp;</th>\n",
       "      <th class=\"blank col3\" >&nbsp;</th>\n",
       "      <th class=\"blank col4\" >&nbsp;</th>\n",
       "      <th class=\"blank col5\" >&nbsp;</th>\n",
       "      <th class=\"blank col6\" >&nbsp;</th>\n",
       "      <th class=\"blank col7\" >&nbsp;</th>\n",
       "      <th class=\"blank col8\" >&nbsp;</th>\n",
       "    </tr>\n",
       "  </thead>\n",
       "  <tbody>\n",
       "    <tr>\n",
       "      <th id=\"T_99706_level0_row0\" class=\"row_heading level0 row0\" >2023-02-03 21:50:00</th>\n",
       "      <td id=\"T_99706_row0_col0\" class=\"data row0 col0\" >1.0792</td>\n",
       "      <td id=\"T_99706_row0_col1\" class=\"data row0 col1\" >1.0793</td>\n",
       "      <td id=\"T_99706_row0_col2\" class=\"data row0 col2\" >1.0793</td>\n",
       "      <td id=\"T_99706_row0_col3\" class=\"data row0 col3\" >1.0792</td>\n",
       "      <td id=\"T_99706_row0_col4\" class=\"data row0 col4\" >1.0794</td>\n",
       "      <td id=\"T_99706_row0_col5\" class=\"data row0 col5\" >1.0794</td>\n",
       "      <td id=\"T_99706_row0_col6\" class=\"data row0 col6\" >1.0795</td>\n",
       "      <td id=\"T_99706_row0_col7\" class=\"data row0 col7\" >1.0794</td>\n",
       "      <td id=\"T_99706_row0_col8\" class=\"data row0 col8\" >66</td>\n",
       "    </tr>\n",
       "    <tr>\n",
       "      <th id=\"T_99706_level0_row1\" class=\"row_heading level0 row1\" >2023-02-03 21:51:00</th>\n",
       "      <td id=\"T_99706_row1_col0\" class=\"data row1 col0\" >1.0793</td>\n",
       "      <td id=\"T_99706_row1_col1\" class=\"data row1 col1\" >1.0793</td>\n",
       "      <td id=\"T_99706_row1_col2\" class=\"data row1 col2\" >1.0793</td>\n",
       "      <td id=\"T_99706_row1_col3\" class=\"data row1 col3\" >1.0792</td>\n",
       "      <td id=\"T_99706_row1_col4\" class=\"data row1 col4\" >1.0794</td>\n",
       "      <td id=\"T_99706_row1_col5\" class=\"data row1 col5\" >1.0794</td>\n",
       "      <td id=\"T_99706_row1_col6\" class=\"data row1 col6\" >1.0795</td>\n",
       "      <td id=\"T_99706_row1_col7\" class=\"data row1 col7\" >1.0794</td>\n",
       "      <td id=\"T_99706_row1_col8\" class=\"data row1 col8\" >66</td>\n",
       "    </tr>\n",
       "    <tr>\n",
       "      <th id=\"T_99706_level0_row2\" class=\"row_heading level0 row2\" >2023-02-03 21:52:00</th>\n",
       "      <td id=\"T_99706_row2_col0\" class=\"data row2 col0\" >1.0793</td>\n",
       "      <td id=\"T_99706_row2_col1\" class=\"data row2 col1\" >1.0793</td>\n",
       "      <td id=\"T_99706_row2_col2\" class=\"data row2 col2\" >1.0793</td>\n",
       "      <td id=\"T_99706_row2_col3\" class=\"data row2 col3\" >1.0793</td>\n",
       "      <td id=\"T_99706_row2_col4\" class=\"data row2 col4\" >1.0794</td>\n",
       "      <td id=\"T_99706_row2_col5\" class=\"data row2 col5\" >1.0794</td>\n",
       "      <td id=\"T_99706_row2_col6\" class=\"data row2 col6\" >1.0794</td>\n",
       "      <td id=\"T_99706_row2_col7\" class=\"data row2 col7\" >1.0794</td>\n",
       "      <td id=\"T_99706_row2_col8\" class=\"data row2 col8\" >32</td>\n",
       "    </tr>\n",
       "    <tr>\n",
       "      <th id=\"T_99706_level0_row3\" class=\"row_heading level0 row3\" >2023-02-03 21:53:00</th>\n",
       "      <td id=\"T_99706_row3_col0\" class=\"data row3 col0\" >1.0793</td>\n",
       "      <td id=\"T_99706_row3_col1\" class=\"data row3 col1\" >1.0793</td>\n",
       "      <td id=\"T_99706_row3_col2\" class=\"data row3 col2\" >1.0793</td>\n",
       "      <td id=\"T_99706_row3_col3\" class=\"data row3 col3\" >1.0793</td>\n",
       "      <td id=\"T_99706_row3_col4\" class=\"data row3 col4\" >1.0794</td>\n",
       "      <td id=\"T_99706_row3_col5\" class=\"data row3 col5\" >1.0795</td>\n",
       "      <td id=\"T_99706_row3_col6\" class=\"data row3 col6\" >1.0795</td>\n",
       "      <td id=\"T_99706_row3_col7\" class=\"data row3 col7\" >1.0794</td>\n",
       "      <td id=\"T_99706_row3_col8\" class=\"data row3 col8\" >30</td>\n",
       "    </tr>\n",
       "    <tr>\n",
       "      <th id=\"T_99706_level0_row4\" class=\"row_heading level0 row4\" >2023-02-03 21:54:00</th>\n",
       "      <td id=\"T_99706_row4_col0\" class=\"data row4 col0\" >1.0793</td>\n",
       "      <td id=\"T_99706_row4_col1\" class=\"data row4 col1\" >1.0792</td>\n",
       "      <td id=\"T_99706_row4_col2\" class=\"data row4 col2\" >1.0793</td>\n",
       "      <td id=\"T_99706_row4_col3\" class=\"data row4 col3\" >1.0792</td>\n",
       "      <td id=\"T_99706_row4_col4\" class=\"data row4 col4\" >1.0795</td>\n",
       "      <td id=\"T_99706_row4_col5\" class=\"data row4 col5\" >1.0794</td>\n",
       "      <td id=\"T_99706_row4_col6\" class=\"data row4 col6\" >1.0795</td>\n",
       "      <td id=\"T_99706_row4_col7\" class=\"data row4 col7\" >1.0794</td>\n",
       "      <td id=\"T_99706_row4_col8\" class=\"data row4 col8\" >67</td>\n",
       "    </tr>\n",
       "  </tbody>\n",
       "</table>\n"
      ],
      "text/plain": [
       "<pandas.io.formats.style.Styler at 0x7f8858183280>"
      ]
     },
     "execution_count": 19,
     "metadata": {},
     "output_type": "execute_result"
    }
   ],
   "source": [
    "pretty(\"api.get_candles('EUR/USD', period = 'm1')\")\n",
    "api.get_candles('EUR/USD', period = 'm1').head(5).style.format(precision = 4)"
   ]
  },
  {
   "cell_type": "code",
   "execution_count": 26,
   "id": "8b4f6592-b8a9-4864-909e-ce9df258656b",
   "metadata": {},
   "outputs": [],
   "source": [
    "import random\n",
    "instrument = random.choice(trading_instruments)"
   ]
  },
  {
   "cell_type": "code",
   "execution_count": 29,
   "id": "db0d609c-f25d-46c0-8aba-fc794a29ff04",
   "metadata": {},
   "outputs": [
    {
     "data": {
      "text/html": [
       "<style type=\"text/css\">\n",
       "#T_2e495 .row0 {\n",
       "  background-color: #A523FF;\n",
       "  color: white;\n",
       "  font-size: 15px;\n",
       "  font-weight: bold;\n",
       "  text-align: left;\n",
       "  padding: 8px;\n",
       "}\n",
       "#T_2e495 tbody {\n",
       "  border: 1px solid;\n",
       "  border-color: black;\n",
       "}\n",
       "#T_2e495 tr {\n",
       "  border: 0.8px solid;\n",
       "  border-color: black;\n",
       "}\n",
       "</style>\n",
       "<table id=\"T_2e495\">\n",
       "  <thead>\n",
       "  </thead>\n",
       "  <tbody>\n",
       "    <tr>\n",
       "      <td id=\"T_2e495_row0_col0\" class=\"data row0 col0\" >api.get_candles('Copper', period = 'H3')</td>\n",
       "    </tr>\n",
       "  </tbody>\n",
       "</table>\n"
      ],
      "text/plain": [
       "<pandas.io.formats.style.Styler at 0x7f8863769750>"
      ]
     },
     "metadata": {},
     "output_type": "display_data"
    },
    {
     "name": "stdout",
     "output_type": "stream",
     "text": [
      "\n"
     ]
    },
    {
     "data": {
      "text/html": [
       "<style type=\"text/css\">\n",
       "</style>\n",
       "<table id=\"T_8abe3\">\n",
       "  <thead>\n",
       "    <tr>\n",
       "      <th class=\"blank level0\" >&nbsp;</th>\n",
       "      <th id=\"T_8abe3_level0_col0\" class=\"col_heading level0 col0\" >bidopen</th>\n",
       "      <th id=\"T_8abe3_level0_col1\" class=\"col_heading level0 col1\" >bidclose</th>\n",
       "      <th id=\"T_8abe3_level0_col2\" class=\"col_heading level0 col2\" >bidhigh</th>\n",
       "      <th id=\"T_8abe3_level0_col3\" class=\"col_heading level0 col3\" >bidlow</th>\n",
       "      <th id=\"T_8abe3_level0_col4\" class=\"col_heading level0 col4\" >askopen</th>\n",
       "      <th id=\"T_8abe3_level0_col5\" class=\"col_heading level0 col5\" >askclose</th>\n",
       "      <th id=\"T_8abe3_level0_col6\" class=\"col_heading level0 col6\" >askhigh</th>\n",
       "      <th id=\"T_8abe3_level0_col7\" class=\"col_heading level0 col7\" >asklow</th>\n",
       "      <th id=\"T_8abe3_level0_col8\" class=\"col_heading level0 col8\" >tickqty</th>\n",
       "    </tr>\n",
       "    <tr>\n",
       "      <th class=\"index_name level0\" >date</th>\n",
       "      <th class=\"blank col0\" >&nbsp;</th>\n",
       "      <th class=\"blank col1\" >&nbsp;</th>\n",
       "      <th class=\"blank col2\" >&nbsp;</th>\n",
       "      <th class=\"blank col3\" >&nbsp;</th>\n",
       "      <th class=\"blank col4\" >&nbsp;</th>\n",
       "      <th class=\"blank col5\" >&nbsp;</th>\n",
       "      <th class=\"blank col6\" >&nbsp;</th>\n",
       "      <th class=\"blank col7\" >&nbsp;</th>\n",
       "      <th class=\"blank col8\" >&nbsp;</th>\n",
       "    </tr>\n",
       "  </thead>\n",
       "  <tbody>\n",
       "    <tr>\n",
       "      <th id=\"T_8abe3_level0_row0\" class=\"row_heading level0 row0\" >2023-02-02 16:00:00</th>\n",
       "      <td id=\"T_8abe3_row0_col0\" class=\"data row0 col0\" >4.1596</td>\n",
       "      <td id=\"T_8abe3_row0_col1\" class=\"data row0 col1\" >4.1008</td>\n",
       "      <td id=\"T_8abe3_row0_col2\" class=\"data row0 col2\" >4.1637</td>\n",
       "      <td id=\"T_8abe3_row0_col3\" class=\"data row0 col3\" >4.0837</td>\n",
       "      <td id=\"T_8abe3_row0_col4\" class=\"data row0 col4\" >4.1638</td>\n",
       "      <td id=\"T_8abe3_row0_col5\" class=\"data row0 col5\" >4.1050</td>\n",
       "      <td id=\"T_8abe3_row0_col6\" class=\"data row0 col6\" >4.1679</td>\n",
       "      <td id=\"T_8abe3_row0_col7\" class=\"data row0 col7\" >4.0879</td>\n",
       "      <td id=\"T_8abe3_row0_col8\" class=\"data row0 col8\" >10646</td>\n",
       "    </tr>\n",
       "    <tr>\n",
       "      <th id=\"T_8abe3_level0_row1\" class=\"row_heading level0 row1\" >2023-02-02 19:00:00</th>\n",
       "      <td id=\"T_8abe3_row1_col0\" class=\"data row1 col0\" >4.1006</td>\n",
       "      <td id=\"T_8abe3_row1_col1\" class=\"data row1 col1\" >4.0850</td>\n",
       "      <td id=\"T_8abe3_row1_col2\" class=\"data row1 col2\" >4.1043</td>\n",
       "      <td id=\"T_8abe3_row1_col3\" class=\"data row1 col3\" >4.0761</td>\n",
       "      <td id=\"T_8abe3_row1_col4\" class=\"data row1 col4\" >4.1048</td>\n",
       "      <td id=\"T_8abe3_row1_col5\" class=\"data row1 col5\" >4.0886</td>\n",
       "      <td id=\"T_8abe3_row1_col6\" class=\"data row1 col6\" >4.1085</td>\n",
       "      <td id=\"T_8abe3_row1_col7\" class=\"data row1 col7\" >4.0803</td>\n",
       "      <td id=\"T_8abe3_row1_col8\" class=\"data row1 col8\" >8424</td>\n",
       "    </tr>\n",
       "    <tr>\n",
       "      <th id=\"T_8abe3_level0_row2\" class=\"row_heading level0 row2\" >2023-02-02 22:00:00</th>\n",
       "      <td id=\"T_8abe3_row2_col0\" class=\"data row2 col0\" >4.0893</td>\n",
       "      <td id=\"T_8abe3_row2_col1\" class=\"data row2 col1\" >4.0956</td>\n",
       "      <td id=\"T_8abe3_row2_col2\" class=\"data row2 col2\" >4.0976</td>\n",
       "      <td id=\"T_8abe3_row2_col3\" class=\"data row2 col3\" >4.0836</td>\n",
       "      <td id=\"T_8abe3_row2_col4\" class=\"data row2 col4\" >4.0935</td>\n",
       "      <td id=\"T_8abe3_row2_col5\" class=\"data row2 col5\" >4.0998</td>\n",
       "      <td id=\"T_8abe3_row2_col6\" class=\"data row2 col6\" >4.1018</td>\n",
       "      <td id=\"T_8abe3_row2_col7\" class=\"data row2 col7\" >4.0878</td>\n",
       "      <td id=\"T_8abe3_row2_col8\" class=\"data row2 col8\" >1612</td>\n",
       "    </tr>\n",
       "    <tr>\n",
       "      <th id=\"T_8abe3_level0_row3\" class=\"row_heading level0 row3\" >2023-02-03 01:00:00</th>\n",
       "      <td id=\"T_8abe3_row3_col0\" class=\"data row3 col0\" >4.0978</td>\n",
       "      <td id=\"T_8abe3_row3_col1\" class=\"data row3 col1\" >4.1130</td>\n",
       "      <td id=\"T_8abe3_row3_col2\" class=\"data row3 col2\" >4.1198</td>\n",
       "      <td id=\"T_8abe3_row3_col3\" class=\"data row3 col3\" >4.0861</td>\n",
       "      <td id=\"T_8abe3_row3_col4\" class=\"data row3 col4\" >4.1020</td>\n",
       "      <td id=\"T_8abe3_row3_col5\" class=\"data row3 col5\" >4.1172</td>\n",
       "      <td id=\"T_8abe3_row3_col6\" class=\"data row3 col6\" >4.1240</td>\n",
       "      <td id=\"T_8abe3_row3_col7\" class=\"data row3 col7\" >4.0903</td>\n",
       "      <td id=\"T_8abe3_row3_col8\" class=\"data row3 col8\" >7704</td>\n",
       "    </tr>\n",
       "    <tr>\n",
       "      <th id=\"T_8abe3_level0_row4\" class=\"row_heading level0 row4\" >2023-02-03 04:00:00</th>\n",
       "      <td id=\"T_8abe3_row4_col0\" class=\"data row4 col0\" >4.1133</td>\n",
       "      <td id=\"T_8abe3_row4_col1\" class=\"data row4 col1\" >4.1228</td>\n",
       "      <td id=\"T_8abe3_row4_col2\" class=\"data row4 col2\" >4.1268</td>\n",
       "      <td id=\"T_8abe3_row4_col3\" class=\"data row4 col3\" >4.1055</td>\n",
       "      <td id=\"T_8abe3_row4_col4\" class=\"data row4 col4\" >4.1175</td>\n",
       "      <td id=\"T_8abe3_row4_col5\" class=\"data row4 col5\" >4.1270</td>\n",
       "      <td id=\"T_8abe3_row4_col6\" class=\"data row4 col6\" >4.1310</td>\n",
       "      <td id=\"T_8abe3_row4_col7\" class=\"data row4 col7\" >4.1097</td>\n",
       "      <td id=\"T_8abe3_row4_col8\" class=\"data row4 col8\" >4357</td>\n",
       "    </tr>\n",
       "  </tbody>\n",
       "</table>\n"
      ],
      "text/plain": [
       "<pandas.io.formats.style.Styler at 0x7f8863322080>"
      ]
     },
     "execution_count": 29,
     "metadata": {},
     "output_type": "execute_result"
    }
   ],
   "source": [
    "pretty(f\"api.get_candles('Copper', period = 'H3')\")\n",
    "api.get_candles('Copper', period = 'H3').head(5).style.format(precision = 4)"
   ]
  },
  {
   "cell_type": "code",
   "execution_count": 30,
   "id": "b6f07c95-de39-4f69-aef7-7c8c3a84fff8",
   "metadata": {},
   "outputs": [],
   "source": [
    "api.close()"
   ]
  },
  {
   "cell_type": "markdown",
   "id": "afac7ae8-675b-49eb-8181-ee2cba56718b",
   "metadata": {},
   "source": [
    "<a name = 'head'></a>\n",
    "\n",
    "<html>\n",
    "\t<table style=\"width:100%;\">\n",
    "\t\t<tr>\n",
    "\t\t\t<th style = 'background-color: #A523FF; padding: 5px 5px 3px 5px; line-height: 1.5; color:white;border-radius: 3px;; text-align: center; border-bottom: 1.5px solid white;' colspan=\"3\"><font size = 6>Defining Time Period</font></th>\n",
    "\t\t</tr>\n",
    "\t\t<tr>\n",
    "\t\t\t<th style = 'font-size: 16px; font-weight: 525; background-color: #FFB83C; padding: 8px; line-height: 1.5; color:black; border-radius: 3px; text-align: left;' colspan=\"3\">- Explanations</font></th>\n",
    "\t\t</tr>\n",
    "\t</table>\n",
    "</html>"
   ]
  },
  {
   "cell_type": "code",
   "execution_count": null,
   "id": "3fcb57ee-1f34-4eb7-b1c1-cbf688e399d5",
   "metadata": {},
   "outputs": [],
   "source": []
  },
  {
   "cell_type": "code",
   "execution_count": null,
   "id": "e629d448-a9cf-4a22-a355-4e1befd12262",
   "metadata": {},
   "outputs": [],
   "source": []
  },
  {
   "cell_type": "markdown",
   "id": "c08caa0e-cfec-4887-babb-c86b1e84ca3f",
   "metadata": {},
   "source": [
    "<a name = 'head'></a>\n",
    "\n",
    "<html>\n",
    "\t<table style=\"width:100%;\">\n",
    "\t\t<tr>\n",
    "\t\t\t<th style = 'background-color: #A523FF; padding: 5px 5px 3px 5px; line-height: 1.5; color:white;border-radius: 3px;; text-align: center; border-bottom: 1.5px solid white;' colspan=\"3\"><font size = 6>Section Title</font></th>\n",
    "\t\t</tr>\n",
    "\t\t<tr>\n",
    "\t\t\t<th style = 'font-size: 16px; font-weight: 525; background-color: #FFB83C; padding: 8px; line-height: 1.5; color:black; border-radius: 3px; text-align: left;' colspan=\"3\">- Explanations</font></th>\n",
    "\t\t</tr>\n",
    "\t</table>\n",
    "</html>"
   ]
  },
  {
   "cell_type": "markdown",
   "id": "9536bdb4-7613-4f36-a53f-f8ae4fd4e85f",
   "metadata": {},
   "source": [
    "<html>\n",
    "\t<table style=\"width:100%;\">\n",
    "\t\t<tr>\n",
    "\t\t\t<th style = 'font-size: 20px; font-weight: 525; background-color: #08CC5B; padding: 8px; line-height: 1.5; color:black; border-radius: 3px; text-align: center;' colspan=\"3\">Strong Topic</font></th>\n",
    "\t\t</tr>\n",
    "\t</table>\n",
    "</html>"
   ]
  },
  {
   "cell_type": "markdown",
   "id": "4f68ddf3-9d22-4077-b75e-e510c7cbf35d",
   "metadata": {},
   "source": [
    "<html>\n",
    "\t<table style=\"width:100%;\">\n",
    "\t\t<tr>\n",
    "\t\t\t<th style = 'font-size: 17px; font-weight: 525; background-color: #6C07B2; padding: 8px; line-height: 1.5; color:white; border-radius: 3px;; text-align: left;' colspan=\"3\">Topic</font></th>\n",
    "\t\t</tr>\n",
    "\t</table>\n",
    "</html>"
   ]
  },
  {
   "cell_type": "markdown",
   "id": "c5a8d83a-44fa-45d9-9c59-2c7d667be50b",
   "metadata": {},
   "source": [
    "<html>\n",
    "\t<table style=\"width:100%;\">\n",
    "\t\t<tr>\n",
    "\t\t\t<th style = 'font-size: 16px; font-weight: 500; background-color: #FFB83C; padding: 5px 5px 3px 10px; line-height: 1.5; text-align: left; color:black;border-radius: 3px;; text-align: left;' colspan=\"3\"><b><i>comment</i></b></font></th>\n",
    "\t\t</tr>\n",
    "\t</table>\n",
    "</html>"
   ]
  },
  {
   "cell_type": "code",
   "execution_count": null,
   "id": "ba253240-c6a5-4f14-b0d4-0892bd847778",
   "metadata": {},
   "outputs": [],
   "source": []
  }
 ],
 "metadata": {
  "kernelspec": {
   "display_name": "Python 3 (ipykernel)",
   "language": "python",
   "name": "python3"
  },
  "language_info": {
   "codemirror_mode": {
    "name": "ipython",
    "version": 3
   },
   "file_extension": ".py",
   "mimetype": "text/x-python",
   "name": "python",
   "nbconvert_exporter": "python",
   "pygments_lexer": "ipython3",
   "version": "3.10.9"
  }
 },
 "nbformat": 4,
 "nbformat_minor": 5
}
