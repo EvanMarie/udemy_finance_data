{
 "cells": [
  {
   "cell_type": "markdown",
   "id": "41a37414-1d57-49b4-b072-16b52ab782b3",
   "metadata": {},
   "source": [
    "<a name = 'head'></a>\n",
    "\n",
    "<hr class=\"dashed\" style = 'color: #08CC5B'>\n",
    "\n",
    "<html>\n",
    "\t<table style=\"width:100%;\">\n",
    "\t\t<tr>\n",
    "\t\t\t<th style = 'background-color: #6C07B2; padding: 5px 5px 3px 5px; line-height: 1.5; color:white; border-radius: 3px; font-size: 14px; font-weight: 475; text-align: center; border-top: 2px solid #FFB83C; border-bottom: 2px solid #FFB83C;'  colspan=\"3\"> |  <a href=\"#head\">Top</a>  |  <a href=\"#link\">Link</a>  |  <a href=\"#link\">Link</a>   |  <a href=\"#link\">Link</a>  |  <a href=\"#link\">Link</a> |  <a href=\"#link\">Link</a>  |  <a href=\"#link\">Link</a>  |  <a href=\"#link\">Link</a>  |  </font></th>\n",
    "\t\t</tr>\n",
    "\t</table>\n",
    "</html>\n",
    "\n",
    "<hr class=\"dashed\" style = 'color: #08CC5B'>\n",
    "\n"
   ]
  },
  {
   "cell_type": "markdown",
   "id": "a8a7cbe8-9633-4259-a9d8-71c8b576742a",
   "metadata": {
    "tags": []
   },
   "source": [
    "<html>\n",
    "\t<table style=\"width:100%;\">\n",
    "\t\t<tr>\n",
    "\t\t\t<th style = 'background-color: #A523FF; padding: 5px 5px 3px 5px; line-height: 1.5; color:white; border-radius: 3px;; text-align: center; border-top: 2px solid #A523FF; border-bottom: 2px solid #FFB83C; font-size: 26px;' colspan=\"3\">Notebook Title</font></th>\n",
    "\t\t</tr>\n",
    "\t\t<tr>\n",
    "\t\t\t<th style = 'font-size: 17px; font-weight: 525; background-color: #0F793C; padding: 8px; line-height: 1.5; color:white; border-radius: 3px; text-align: center;' colspan=\"3\">|  <a href = 'link'>Link</a>  |  <a href = 'link'>Link</a>  |</font></th>\n",
    "\t\t</tr>\n",
    "\t</table>\n",
    "</html>\n",
    "\n",
    "<html>\n",
    "\t<table>\n",
    "\t<tr style = 'border-top: 2px solid #08CC5B; background-color: #6C07B2; color: white; border-bottom: px solid #08CC5B;' colspan = 3> \n",
    "\t\t\t<td style = 'font-size: 13px; text-align: center;' colspan = 5><b>Evan Marie online</b>:  |  <a href = 'https://www.evanmarie.com/'>EvanMarie.com</a>|  <a href = 'mailto:evanmarie@proton.me'>EvanMarie@Proton.me</a>  |  <a href = 'https://www.linkedin.com/in/evanmarie/'>Linked In</a>  |  <a href = 'https://github.com/EvanMarie'>GitHub</a>   |  <a href = 'https://huggingface.co/EvanMarie'>Hugging Face</a>  |  <a href = 'https://sigmoid.social/@EvanMarie'>Mastadon</a>  |  <a href = 'https://jovian.ai/evanmarie'>Jovian.ai</a>  |  <a href = 'https://www.tiktok.com/@evanmarie_123'>TikTok</a>  |  <a href = 'https://www.codewars.com/users/EvanMarie'>CodeWars</a>  |  <b>Discord ⇨ ✨ EvanMarie ✨#6114</b>  |\n",
    "\t\t\t</td></tr>\n",
    "\t</table>\n",
    "</html>"
   ]
  },
  {
   "cell_type": "code",
   "execution_count": 7,
   "id": "13a5a480-eb41-424b-95f5-a02d76f8b132",
   "metadata": {},
   "outputs": [],
   "source": [
    "from helpers_mardi_gras import *\n",
    "import_all()\n",
    "plt.style.use('mardi_gras.mplstyle')"
   ]
  },
  {
   "cell_type": "code",
   "execution_count": 9,
   "id": "fcdd7e02-dec2-4394-b650-84b4f66cf807",
   "metadata": {},
   "outputs": [
    {
     "data": {
      "text/html": [
       "<style>\n",
       "a:link {color: #FFB83C !important; font-weight: 600 !important;}\n",
       "a:visited {color: #FFB83C !important; font-weight: 600 !important;}\n",
       "</style>\n"
      ],
      "text/plain": [
       "<IPython.core.display.HTML object>"
      ]
     },
     "metadata": {},
     "output_type": "display_data"
    }
   ],
   "source": [
    "%%html\n",
    "<style>\n",
    "a:link {color: #FFB83C !important; font-weight: 600 !important;}\n",
    "a:visited {color: #FFB83C !important; font-weight: 600 !important;}\n",
    "</style>"
   ]
  },
  {
   "cell_type": "code",
   "execution_count": null,
   "id": "610e4988-4ee2-4da1-9eb5-f9513d16f22c",
   "metadata": {},
   "outputs": [],
   "source": []
  },
  {
   "cell_type": "code",
   "execution_count": null,
   "id": "f9234c55-dab6-44ab-baa4-3ebc448a1219",
   "metadata": {},
   "outputs": [],
   "source": []
  },
  {
   "cell_type": "code",
   "execution_count": null,
   "id": "7940876d-04fe-4309-884b-4dc48470c8de",
   "metadata": {},
   "outputs": [],
   "source": []
  },
  {
   "cell_type": "code",
   "execution_count": null,
   "id": "6a892e5c-8cad-4050-adee-94bbdfe0c869",
   "metadata": {},
   "outputs": [],
   "source": []
  },
  {
   "cell_type": "markdown",
   "id": "c08caa0e-cfec-4887-babb-c86b1e84ca3f",
   "metadata": {},
   "source": [
    "<a name = 'head'></a>\n",
    "\n",
    "<html>\n",
    "\t<table style=\"width:100%;\">\n",
    "\t\t<tr>\n",
    "\t\t\t<th style = 'background-color: #6C07B2; padding: 5px 5px 3px 5px; line-height: 1.5; color:white;border-radius: 3px;; text-align: center; border-bottom: 1.5px solid white;' colspan=\"3\"><font size = 6>Section Title</font></th>\n",
    "\t\t</tr>\n",
    "\t\t<tr>\n",
    "\t\t\t<th style = 'font-size: 16px; font-weight: 525; background-color: #FFB83C; padding: 8px; line-height: 1.5; color:black; border-radius: 3px; text-align: left;' colspan=\"3\">- Explanations</font></th>\n",
    "\t\t</tr>\n",
    "\t</table>\n",
    "</html>"
   ]
  },
  {
   "cell_type": "markdown",
   "id": "9536bdb4-7613-4f36-a53f-f8ae4fd4e85f",
   "metadata": {},
   "source": [
    "<html>\n",
    "\t<table style=\"width:100%;\">\n",
    "\t\t<tr>\n",
    "\t\t\t<th style = 'font-size: 20px; font-weight: 525; background-color: #08CC5B; padding: 8px; line-height: 1.5; color:black; border-radius: 3px; text-align: center;' colspan=\"3\">Strong Topic</font></th>\n",
    "\t\t</tr>\n",
    "\t</table>\n",
    "</html>"
   ]
  },
  {
   "cell_type": "markdown",
   "id": "4f68ddf3-9d22-4077-b75e-e510c7cbf35d",
   "metadata": {},
   "source": [
    "<html>\n",
    "\t<table style=\"width:100%;\">\n",
    "\t\t<tr>\n",
    "\t\t\t<th style = 'font-size: 17px; font-weight: 525; background-color: #A523FF; padding: 8px; line-height: 1.5; color:white; border-radius: 3px;; text-align: left;' colspan=\"3\">Topic</font></th>\n",
    "\t\t</tr>\n",
    "\t</table>\n",
    "</html>"
   ]
  },
  {
   "cell_type": "markdown",
   "id": "c5a8d83a-44fa-45d9-9c59-2c7d667be50b",
   "metadata": {},
   "source": [
    "<html>\n",
    "\t<table style=\"width:100%;\">\n",
    "\t\t<tr>\n",
    "\t\t\t<th style = 'font-size: 16px; font-weight: 500; background-color: #FFB83C; padding: 5px 5px 3px 10px; line-height: 1.5; text-align: left; color:black;border-radius: 3px;; text-align: left;' colspan=\"3\"><b><i>comment</i></b></font></th>\n",
    "\t\t</tr>\n",
    "\t</table>\n",
    "</html>"
   ]
  },
  {
   "cell_type": "code",
   "execution_count": null,
   "id": "ba253240-c6a5-4f14-b0d4-0892bd847778",
   "metadata": {},
   "outputs": [],
   "source": []
  }
 ],
 "metadata": {
  "kernelspec": {
   "display_name": "Python 3 (ipykernel)",
   "language": "python",
   "name": "python3"
  },
  "language_info": {
   "codemirror_mode": {
    "name": "ipython",
    "version": 3
   },
   "file_extension": ".py",
   "mimetype": "text/x-python",
   "name": "python",
   "nbconvert_exporter": "python",
   "pygments_lexer": "ipython3",
   "version": "3.10.9"
  }
 },
 "nbformat": 4,
 "nbformat_minor": 5
}
