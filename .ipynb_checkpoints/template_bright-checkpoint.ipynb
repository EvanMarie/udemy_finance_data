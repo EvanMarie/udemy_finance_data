{
 "cells": [
  {
   "cell_type": "markdown",
   "id": "41a37414-1d57-49b4-b072-16b52ab782b3",
   "metadata": {},
   "source": [
    "<a name = 'head'></a>\n",
    "\n",
    "<hr class=\"dashed\" style = 'color: #04B2D9'>\n",
    "\n",
    "<html>\n",
    "\t<table style=\"width:100%;\">\n",
    "\t\t<tr>\n",
    "\t\t\t<th style = 'background-color: #04D94F; padding: 5px 5px 3px 5px; line-height: 1.5; color:white; border-radius: 3px; font-size: 14px; font-weight: 475; text-align: center;'  colspan=\"3\"> |  <a href=\"#head\">Top</a>  |  <a href=\"#link\">Link</a>  |  <a href=\"#link\">Link</a>   |  <a href=\"#link\">Link</a>  |  <a href=\"#link\">Link</a> |  <a href=\"#link\">Link</a>  |  <a href=\"#link\">Link</a>  |  <a href=\"#link\">Link</a>  |  </font></th>\n",
    "\t\t</tr>\n",
    "\t</table>\n",
    "</html>\n",
    "\n",
    "<hr class=\"dashed\" style = 'color: #04B2D9'>\n",
    "\n"
   ]
  },
  {
   "cell_type": "markdown",
   "id": "a8a7cbe8-9633-4259-a9d8-71c8b576742a",
   "metadata": {
    "tags": []
   },
   "source": [
    "<html>\n",
    "\t<table style=\"width:100%;\">\n",
    "\t\t<tr>\n",
    "\t\t\t<th style = 'background-color: #F2059F; padding: 8; line-height: 1.5; color:white; border-radius: 3px;; text-align: center; border-top: 2px solid white; border-bottom: 3px solid #04B2D9; border-top: 3px solid #04B2D9;font-size: 33px;' colspan=\"3\">Notebook Title</font></th>\n",
    "\t\t</tr>\n",
    "\t\t<tr>\n",
    "\t\t\t<th style = 'font-size: 17px; font-weight: 525; background-color: #F28705; padding: 8px; line-height: 1.5; color:white; border-radius: 3px; text-align: center; border-bottom: 3px solid #04B2D9' colspan=\"3\">|  <a href = 'link'>Link</a>  |  <a href = 'link'>Link</a>  |</font></th>\n",
    "\t\t</tr>\n",
    "\t</table>\n",
    "</html>\n",
    "\n",
    "<html>\n",
    "\t<table>\n",
    "\t<tr style = 'background-color: #04D94F; border-top: 2px solid #F2CB05; border-bottom: 2px solid #F2CB05; color: white;' colspan = 3> \n",
    "\t\t\t<td style = 'font-size: 13px; text-align: center;' colspan = 5><b>Evan Marie online</b>:  |  <a href = 'https://www.evanmarie.com/'>EvanMarie.com</a>|  <a href = 'mailto:evanmarie@proton.me'>EvanMarie@Proton.me</a>  |  <a href = 'https://www.linkedin.com/in/evanmarie/'>Linked In</a>  |  <a href = 'https://github.com/EvanMarie'>GitHub</a>   |  <a href = 'https://huggingface.co/EvanMarie'>Hugging Face</a>  |  <a href = 'https://sigmoid.social/@EvanMarie'>Mastadon</a>  |  <a href = 'https://jovian.ai/evanmarie'>Jovian.ai</a>  |  <a href = 'https://www.tiktok.com/@evanmarie_123'>TikTok</a>  |  <a href = 'https://www.codewars.com/users/EvanMarie'>CodeWars</a>  |  <b>Discord ⇨ ✨ EvanMarie ✨#6114</b>  |\n",
    "\t\t\t</td></tr>\n",
    "\t</table>\n",
    "</html>"
   ]
  },
  {
   "cell_type": "code",
   "execution_count": 1,
   "id": "13a5a480-eb41-424b-95f5-a02d76f8b132",
   "metadata": {},
   "outputs": [],
   "source": [
    "from helpers_elegant import *\n",
    "import_all()\n",
    "plt.style.use('elegant.mplstyle')"
   ]
  },
  {
   "cell_type": "code",
   "execution_count": 1,
   "id": "fcdd7e02-dec2-4394-b650-84b4f66cf807",
   "metadata": {},
   "outputs": [
    {
     "data": {
      "text/html": [
       "<style>\n",
       "a:link {color: purple !important; font-weight: 600 !important;}\n",
       "a:visited {color: purple !important; font-weight: 600 !important;}\n",
       "</style>\n"
      ],
      "text/plain": [
       "<IPython.core.display.HTML object>"
      ]
     },
     "metadata": {},
     "output_type": "display_data"
    }
   ],
   "source": [
    "%%html\n",
    "<style>\n",
    "a:link {color: purple !important; font-weight: 600 !important;}\n",
    "a:visited {color: purple !important; font-weight: 600 !important;}\n",
    "</style>"
   ]
  },
  {
   "cell_type": "code",
   "execution_count": null,
   "id": "610e4988-4ee2-4da1-9eb5-f9513d16f22c",
   "metadata": {},
   "outputs": [],
   "source": []
  },
  {
   "cell_type": "code",
   "execution_count": null,
   "id": "f9234c55-dab6-44ab-baa4-3ebc448a1219",
   "metadata": {},
   "outputs": [],
   "source": []
  },
  {
   "cell_type": "code",
   "execution_count": null,
   "id": "7940876d-04fe-4309-884b-4dc48470c8de",
   "metadata": {},
   "outputs": [],
   "source": []
  },
  {
   "cell_type": "code",
   "execution_count": null,
   "id": "6a892e5c-8cad-4050-adee-94bbdfe0c869",
   "metadata": {},
   "outputs": [],
   "source": []
  },
  {
   "cell_type": "code",
   "execution_count": null,
   "id": "eb3de26a-9445-4410-ba7d-f84f3731f08c",
   "metadata": {},
   "outputs": [],
   "source": []
  },
  {
   "cell_type": "markdown",
   "id": "d181787c-4024-4bfa-bfd5-478ea0544d3b",
   "metadata": {},
   "source": [
    "<html>\n",
    "\t<table style=\"width:100%;\">\n",
    "\t\t<tr>\n",
    "\t\t\t<th style = 'font-size: 19px; font-weight: 525; background-color: #F2059F; padding: 8px; line-height: 1.5; color:white; border-radius: 3px; text-align: left; border-bottom: 3px solid white; border-top: 3px solid white;' colspan=\"3\">Section Title</font></th>\n",
    "\t\t</tr>\n",
    "\t</table>\n",
    "</html>"
   ]
  },
  {
   "cell_type": "markdown",
   "id": "d85cd97f-c949-4d5e-96d0-14ad4b5aa882",
   "metadata": {},
   "source": [
    "<html>\n",
    "\t<table style=\"width:100%;\">\n",
    "\t\t<th style = 'font-size: 14px; font-weight: 500; background-color: #F2CB05; padding: 5px 5px 3px 10px; line-height: 1.5; text-align: left; color:black;border-radius: 3px; text-align: left;border-bottom: 3px solid white; border-top: 3px solid white;' colspan=\"3\">Section Text\n",
    "\t\t</tr></th>\n",
    "\t</table>\n",
    "</html>"
   ]
  },
  {
   "cell_type": "markdown",
   "id": "0a27aae6-dda6-441f-8008-82410aae58f4",
   "metadata": {},
   "source": [
    "<html>\n",
    "\t<table style=\"width:100%;\">\n",
    "\t\t<tr>\n",
    "\t\t\t<th style = 'font-size: 14px; font-weight: 500; background-color: #04D94F; padding: 8px; line-height: 1.5; color:black; border-radius: 3px; text-align: left;border-bottom: 3px solid white; border-top: 3px solid white;' colspan=\"3\">Section Text</th>\n",
    "\t\t</tr>\n",
    "\t</table>\n",
    "</html>"
   ]
  },
  {
   "cell_type": "markdown",
   "id": "16e650b7-9af2-493a-9ba1-ec5f974ee50d",
   "metadata": {},
   "source": [
    "<html>\n",
    "\t<table style=\"width:100%;\">\n",
    "\t\t<tr>\n",
    "\t\t\t<th style = 'font-size: 14px; font-weight: 500; background-color: #04B2D9; padding: 5px 5px 3px 10px; line-height: 1.5; text-align: left; color:white;border-radius: 3px; text-align: left;border-bottom: 3px solid white; border-top: 3px solid white;' colspan=\"3\">Section Text</th>\n",
    "\t\t</tr>\n",
    "\t</table>\n",
    "</html>"
   ]
  },
  {
   "cell_type": "markdown",
   "id": "97c0e5cc-80d6-46c3-b52a-4331c8df3517",
   "metadata": {},
   "source": [
    "<html>\n",
    "\t<table style=\"width:100%;\">\n",
    "\t\t<tr>\n",
    "\t\t\t<th style = 'font-size: 14px; font-weight: 500; background-color: #F28705; padding: 8px; line-height: 1.5; color:white; border-radius: 3px; text-align: left;border-bottom: 3px solid white; border-top: 3px solid white;' colspan=\"3\">Section Text</th>\n",
    "\t\t</tr>\n",
    "\t</table>\n",
    "</html>"
   ]
  },
  {
   "cell_type": "markdown",
   "id": "a0102bb5-127d-45a4-b95f-9da5673a5dd5",
   "metadata": {},
   "source": [
    "<html>\n",
    "\t<table style=\"width:100%;\">\n",
    "\t\t<tr>\n",
    "\t\t\t<th style = 'font-size: 19px; font-weight: 525; background-color: #F2059F; padding: 8px; line-height: 1.5; color:white; border-radius: 3px; text-align: left; border-bottom: 3px solid white; border-top: 3px solid white;' colspan=\"3\">Section Title</font></th>\n",
    "\t\t</tr>\n",
    "\t\t<tr>\n",
    "\t\t\t<th style = 'font-size: 14px; font-weight: 500; background-color: #04B2D9; padding: 5px 5px 3px 10px; line-height: 1.5; text-align: left; color:white;border-radius: 3px; text-align: left;border-bottom: 3px solid white; border-top: 3px solid white;' colspan=\"3\">Section Text</th>\n",
    "\t\t</tr>\n",
    "\t\t<tr>\n",
    "\t\t\t<th style = 'font-size: 14px; font-weight: 500; background-color: #04D94F; padding: 8px; line-height: 1.5; color:black; border-radius: 3px; text-align: left;border-bottom: 3px solid white; border-top: 3px solid white;' colspan=\"3\">Section Text</th>\n",
    "\t\t</tr>\n",
    "\t\t<tr>\n",
    "\t\t\t<th style = 'font-size: 14px; font-weight: 500; background-color: #F2CB05; padding: 5px 5px 3px 10px; line-height: 1.5; text-align: left; color:black;border-radius: 3px; text-align: left;border-bottom: 3px solid white; border-top: 3px solid white;' colspan=\"3\">Section Text\n",
    "\t\t</tr></th>\n",
    "\t\t<tr>\n",
    "\t\t\t<th style = 'font-size: 14px; font-weight: 500; background-color: #F28705; padding: 8px; line-height: 1.5; color:white; border-radius: 3px; text-align: left;border-bottom: 3px solid white; border-top: 3px solid white;' colspan=\"3\">Section Text</th>\n",
    "\t\t</tr>\n",
    "\t</table>\n",
    "</html>"
   ]
  },
  {
   "cell_type": "markdown",
   "id": "e8d2b8f8-0e1d-4135-84d8-35e0d71d7be0",
   "metadata": {},
   "source": [
    "<html>\n",
    "\t<table style=\"width:100%;\">\n",
    "\t\t<tr>\n",
    "\t\t\t<th style = 'background-color: #F2059F; padding: 5px 5px 3px 5px; line-height: 1.5; color:white;border-radius: 3px; text-align: center; border-bottom: 3px solid #F2CB05; border-top: 3px solid #F2CB05;' colspan=\"3\"><font size = 6>Section Title</font></th>\n",
    "\t\t</tr>\n",
    "\t\t<tr>\n",
    "\t\t\t<th style = 'font-size: 14px; font-weight: 500; background-color: #04B2D9; padding: 8px; line-height: 1.5; color:white; border-radius: 3px; text-align: left; border-bottom: 3px solid #F2CB05; border-top: 3px solid #F2CB05' colspan=\"3\">- Explanations</font></th>\n",
    "\t\t</tr>\n",
    "\t</table>\n",
    "</html>"
   ]
  },
  {
   "cell_type": "markdown",
   "id": "f2a8ff9f-810a-4582-9ed0-91dd73d5f426",
   "metadata": {},
   "source": [
    "<html>\n",
    "\t<table style=\"width:100%;\">\n",
    "\t\t<tr>\n",
    "\t\t\t<th style = 'font-size: 20px; font-weight: 500; background-color: #04D94F; padding: 8px; line-height: 1.5; color:black; border-radius: 3px; text-align: center; border-bottom: 3px solid #F2CB05; border-top: 3px solid #F2CB05;' colspan=\"3\">Strong Topic</font></th>\n",
    "\t\t</tr>\n",
    "\t</table>\n",
    "</html>"
   ]
  },
  {
   "cell_type": "markdown",
   "id": "8d95174d-ce6c-4129-ae47-452e41a99ddf",
   "metadata": {},
   "source": [
    "<html>\n",
    "\t<table style=\"width:100%;\">\n",
    "\t\t<tr>\n",
    "\t\t\t<th style = 'font-size: 14px; font-weight: 500; background-color: #F2CB05; padding: 5px 5px 3px 10px; line-height: 1.5; text-align: left; color:black; border-radius: 3px; text-align: left;border-bottom: 3px solid #04B2D9; border-top: 3px solid #04B2D9;' colspan=\"3\"><b><i>comment</i></b></font></th>\n",
    "\t\t</tr>\n",
    "\t</table>\n",
    "</html>"
   ]
  },
  {
   "cell_type": "markdown",
   "id": "261b0edd-54d9-4b03-9d4e-15e9822176ac",
   "metadata": {},
   "source": [
    "<html>\n",
    "\t<table style=\"width:100%;\">\n",
    "\t\t<tr>\n",
    "\t\t\t<th style = 'font-size: 17px; font-weight: 525; background-color: #F28705; padding: 8px; line-height: 1.5; color:white; border-radius: 3px; text-align: left; border-top: 3px solid #04D94F; border-bottom: 3px solid #04D94F;' colspan=\"3\">Topic</font></th>\n",
    "\t\t</tr>\n",
    "\t</table>\n",
    "</html>"
   ]
  },
  {
   "cell_type": "code",
   "execution_count": null,
   "id": "6e00d92b-5407-40af-b3bf-ad94ca83e14d",
   "metadata": {},
   "outputs": [],
   "source": []
  }
 ],
 "metadata": {
  "kernelspec": {
   "display_name": "Python 3 (ipykernel)",
   "language": "python",
   "name": "python3"
  },
  "language_info": {
   "codemirror_mode": {
    "name": "ipython",
    "version": 3
   },
   "file_extension": ".py",
   "mimetype": "text/x-python",
   "name": "python",
   "nbconvert_exporter": "python",
   "pygments_lexer": "ipython3",
   "version": "3.10.9"
  }
 },
 "nbformat": 4,
 "nbformat_minor": 5
}
