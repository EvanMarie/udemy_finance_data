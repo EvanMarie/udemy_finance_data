{
 "cells": [
  {
   "cell_type": "markdown",
   "id": "f9616b8b-514a-426d-8ced-563155532e03",
   "metadata": {},
   "source": [
    "<a name = ''></a>\n",
    "\n",
    "---\n",
    "\n",
    "\n",
    "<html>\n",
    "\t<table style=\"width:100%;\">\n",
    "\t\t<tr>\n",
    "\t\t\t<th style = 'background-color: #f6b48f; padding: 5px 5px 3px 5px; line-height: 1.5; color:black; border-radius: 3px; font-size: 14px; font-weight: 475;'  colspan=\"3\"> |  <a href=\"#link\">Link</a>  |  <a href=\"#link\">Link</a>  |  <a href=\"#link\">Link</a>   |  <a href=\"#link\">Link</a>  |  <a href=\"#link\">Link</a>  |  <a href=\"#link\">Link</a>  |  <a href=\"#link\">Link</a>  |  <a href=\"#link\">Link</a>  |  <a href=\"#link\">Link</a>  |  <a href=\"#link\">Link</a>  |  <a href=\"#link\">Link</a>  |  <a href=\"#link\">Link</a>  |  <a href=\"#link\">Link</a></font></th>\n",
    "\t\t</tr>\n",
    "\t\t<tr>\n",
    "\t\t\t<th style = 'background-color: #35193e; padding: 5px 5px 3px 5px; line-height: 1.5; color:white;border-radius: 3px;' colspan=\"3\"><font size = 6>Section Title</font></th>\n",
    "\t\t</tr>\n",
    "\t</table>\n",
    "</html>"
   ]
  },
  {
   "cell_type": "code",
   "execution_count": 2,
   "id": "ff020e30-a37a-405d-bb81-f452aa2729bd",
   "metadata": {},
   "outputs": [],
   "source": [
    "from helpers_new import *\n",
    "import_all()\n",
    "css_styling()\n",
    "import matplotlib.pyplot as plt\n",
    "import tweepy as tw\n",
    "plt.style.use('pinks.mplstyle')\n",
    "# colors = sns.color_palette(\"rocket\")\n",
    "# colors.as_hex()[:]"
   ]
  },
  {
   "cell_type": "code",
   "execution_count": 9,
   "id": "b9431e22-0cb8-4398-a526-24a8afa839e0",
   "metadata": {},
   "outputs": [
    {
     "data": {
      "text/html": [
       "<style>\n",
       "a:link {color: #35193e !important; font-weight: 600 !important;}\n",
       "a:visited {color: #35193e !important; font-weight: 600 !important;}\n",
       "</style>\n"
      ],
      "text/plain": [
       "<IPython.core.display.HTML object>"
      ]
     },
     "metadata": {},
     "output_type": "display_data"
    }
   ],
   "source": [
    "%%html\n",
    "<style>\n",
    "a:link {color: #35193e !important; font-weight: 600 !important;}\n",
    "a:visited {color: #35193e !important; font-weight: 600 !important;}\n",
    "</style>"
   ]
  },
  {
   "cell_type": "markdown",
   "id": "71c4dc1e-dcdf-4d0b-b363-bd20878e14b9",
   "metadata": {},
   "source": [
    "<html>\n",
    "\t<table style=\"width:100%;\">\n",
    "\t\t<tr>\n",
    "\t\t\t<th style = 'font-size: 17px; font-weight: 525; background-color: #ad1759; padding: 3px 3px 2px 3px; line-height: 1.5; color:white; border-radius: 3px;' colspan=\"3\">Topic</font></th>\n",
    "\t\t</tr>\n",
    "\t</table>\n",
    "</html>"
   ]
  },
  {
   "cell_type": "code",
   "execution_count": null,
   "id": "f2f1c91e-b345-4356-9545-7a457a386cd7",
   "metadata": {},
   "outputs": [],
   "source": [
    "auth = tweepy.OAuth2BearerHandler(\"Bearer Token here\")\n",
    "api = tweepy.API(auth)"
   ]
  },
  {
   "cell_type": "markdown",
   "id": "40ee25a3-d89a-49c5-9405-07d44eaa9a03",
   "metadata": {},
   "source": [
    "<html>\n",
    "\t<table style=\"width:100%;\">\n",
    "\t\t<tr>\n",
    "\t\t\t<th style = 'font-size: 20px; font-weight: 525; background-color: #701f57; padding: 5px 5px 3px 5px; line-height: 1.5; color:white; border-radius: 3px;' colspan=\"3\">Strong Topic</font></th>\n",
    "\t\t</tr>\n",
    "\t</table>\n",
    "</html>"
   ]
  },
  {
   "cell_type": "code",
   "execution_count": null,
   "id": "5a304533-5abe-4c7a-8d35-f2bc239bad38",
   "metadata": {},
   "outputs": [],
   "source": []
  },
  {
   "cell_type": "markdown",
   "id": "fc1e600f-4d5f-4ce4-9bd3-67f7bcc707c8",
   "metadata": {},
   "source": [
    "<html>\n",
    "\t<table style=\"width:100%;\">\n",
    "\t\t<tr>\n",
    "\t\t\t<th style = 'font-size: 16px; font-weight: 500; background-color: #f6b48f; padding: 5px 5px 3px 10px; line-height: 1.5; text-align: left; color:black;border-radius: 3px;' colspan=\"3\">comment</font></th>\n",
    "\t\t</tr>\n",
    "\t</table>\n",
    "</html>"
   ]
  },
  {
   "cell_type": "code",
   "execution_count": null,
   "id": "8cb61164-681c-4777-8a88-babc3ed1d304",
   "metadata": {},
   "outputs": [],
   "source": []
  },
  {
   "cell_type": "code",
   "execution_count": null,
   "id": "707c385a-4fc2-4626-9e37-8f235a83eeed",
   "metadata": {},
   "outputs": [],
   "source": []
  },
  {
   "cell_type": "code",
   "execution_count": null,
   "id": "430dd8de-1804-4f35-83d7-5663ef2610ac",
   "metadata": {},
   "outputs": [],
   "source": []
  },
  {
   "cell_type": "code",
   "execution_count": null,
   "id": "c4b1a9ee-aba6-4156-84c4-c5f8f43ebd7f",
   "metadata": {},
   "outputs": [],
   "source": []
  },
  {
   "cell_type": "code",
   "execution_count": null,
   "id": "a4e53500-9fc8-4331-899b-87b7b1e53f23",
   "metadata": {},
   "outputs": [],
   "source": []
  },
  {
   "cell_type": "code",
   "execution_count": null,
   "id": "65d7f0da-d288-4110-9aaf-dd21dea1c11c",
   "metadata": {},
   "outputs": [],
   "source": []
  },
  {
   "cell_type": "code",
   "execution_count": null,
   "id": "94bafa3b-9812-43a9-8365-e3e7d122cbf7",
   "metadata": {},
   "outputs": [],
   "source": []
  },
  {
   "cell_type": "code",
   "execution_count": null,
   "id": "e947a515-f8a3-411b-948e-f9ce940b1c1a",
   "metadata": {},
   "outputs": [],
   "source": []
  }
 ],
 "metadata": {
  "kernelspec": {
   "display_name": "Python 3 (ipykernel)",
   "language": "python",
   "name": "python3"
  },
  "language_info": {
   "codemirror_mode": {
    "name": "ipython",
    "version": 3
   },
   "file_extension": ".py",
   "mimetype": "text/x-python",
   "name": "python",
   "nbconvert_exporter": "python",
   "pygments_lexer": "ipython3",
   "version": "3.10.9"
  }
 },
 "nbformat": 4,
 "nbformat_minor": 5
}
