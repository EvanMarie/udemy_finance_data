{
 "cells": [
  {
   "cell_type": "markdown",
   "id": "4ee953ef-8a80-403d-a693-fc26c955310e",
   "metadata": {
    "tags": []
   },
   "source": [
    "<a name = ''></a>\n",
    "\n",
    "---\n",
    "\n",
    "\n",
    "<html>\n",
    "\t<table style=\"width:100%;\">\n",
    "\t\t<tr>\n",
    "\t\t\t<th style = 'background-color: #f6b48f; padding: 5px 5px 3px 5px; line-height: 1.5; color:black; border-radius: 3px; font-size: 14px; font-weight: 475; text-align: center;'  colspan=\"3\"> |  <a href=\"#link\">Link</a>  |  <a href=\"#link\">Link</a>  |  <a href=\"#link\">Link</a>   |  <a href=\"#link\">Link</a>  |  <a href=\"#link\">Link</a>  |  <a href=\"#link\">Link</a>  |  <a href=\"#link\">Link</a>  |  <a href=\"#link\">Link</a>  |  <a href=\"#link\">Link</a>  |  <a href=\"#link\">Link</a>  |  <a href=\"#link\">Link</a>  |  <a href=\"#link\">Link</a>  |  <a href=\"#link\">Link</a></font></th>\n",
    "\t\t</tr>\n",
    "\t\t<tr>\n",
    "\t\t\t<th style = 'background-color: #35193e; padding: 5px 5px 3px 5px; line-height: 1.5; color:white; border-radius: 3px;; text-align: center; border-top: 2px solid white; border-bottom: 2px solid white; font-size: 26px;' colspan=\"3\">Udemy Finance APIs: Alpha Vantage</font></th>\n",
    "\t\t</tr>\n",
    "\t\t<tr>\n",
    "\t\t\t<th style = 'font-size: 17px; font-weight: 525; background-color: #f6b48f; padding: 8px; line-height: 1.5; color:black; border-radius: 3px;; text-align: center;' colspan=\"3\">|  <a href = 'https://www.alphavantage.co/'>Alpha Vantage</a>  |  <a href = 'https://www.udemy.com/course/importing-free-financial-data-with-python/learn/lecture/15955758#questions'>Udemy Course Page</a>  |  <a href = 'https://www.alphavantage.co/academy/'>Alpha Academy</a>  |  </font></th>\n",
    "\t\t</tr>\n",
    "\t</table>\n",
    "</html>\n",
    "\n",
    "<font size = 4><b>About Alpha Vantage:</b></font>\n",
    "\n",
    "* real-time and historical stock data\n",
    "* foreign exchange and cryptocurrencies\n",
    "* 50 technical indicators\n",
    "* global coverage\n",
    "* composed of a community of researchers, engineers, and business professionals\n",
    "* leading provider of financial data\n",
    "* XMC27CD0UMQPVAPR\n",
    "\n",
    "<br>\n",
    "\n",
    "<font size = 4><b>Pros and Cons of Alpha Vantage:</b></font><br>\n",
    "**Pros**\n",
    "* Free (5 calls per minute, 500 per day), and premium is available\n",
    "* Large datasets for crypto, stocks, etc\n",
    "* 50+ technical indicators (such as SMA, Bollinger Bands)\n",
    "\n",
    "**Cons**\n",
    "* Limited call requests\n",
    "* API key needed\n",
    "* No high frequency or real time data\n",
    "* No data for bonds, funds, indexes, or commodities"
   ]
  },
  {
   "cell_type": "code",
   "execution_count": 4,
   "id": "6867d918-7f57-4801-b77f-cd013fce2e48",
   "metadata": {},
   "outputs": [],
   "source": [
    "from helpers_new import *\n",
    "import_all()\n",
    "css_styling()\n",
    "plt.style.use('pinks.mplstyle')\n",
    "from alpha_vantage.timeseries import TimeSeries"
   ]
  },
  {
   "cell_type": "code",
   "execution_count": 2,
   "id": "879f5e6d-11b4-4289-a6c8-7ec00bc2bf2d",
   "metadata": {},
   "outputs": [
    {
     "data": {
      "text/html": [
       "<style>\n",
       "a:link {color: #35193e !important; font-weight: 600 !important;}\n",
       "a:visited {color: #35193e !important; font-weight: 600 !important;}\n",
       "</style>\n"
      ],
      "text/plain": [
       "<IPython.core.display.HTML object>"
      ]
     },
     "metadata": {},
     "output_type": "display_data"
    }
   ],
   "source": [
    "%%html\n",
    "<style>\n",
    "a:link {color: #35193e !important; font-weight: 600 !important;}\n",
    "a:visited {color: #35193e !important; font-weight: 600 !important;}\n",
    "</style>"
   ]
  },
  {
   "cell_type": "code",
   "execution_count": 7,
   "id": "1030c008-f681-4a6f-bb7d-fd64fe083127",
   "metadata": {},
   "outputs": [
    {
     "data": {
      "text/plain": [
       "<alpha_vantage.timeseries.TimeSeries at 0x7f93585d0970>"
      ]
     },
     "execution_count": 7,
     "metadata": {},
     "output_type": "execute_result"
    }
   ],
   "source": [
    "api_key = 'XMC27CD0UMQPVAPR'\n",
    "ts = TimeSeries(key = api_key, output_format = 'pandas')\n",
    "ts"
   ]
  },
  {
   "cell_type": "code",
   "execution_count": 8,
   "id": "96fad27e-5db0-4fdf-a19c-23b6a2b0ba50",
   "metadata": {},
   "outputs": [
    {
     "ename": "ValueError",
     "evalue": "Thank you for using Alpha Vantage! This is a premium endpoint. You may subscribe to any of the premium plans at https://www.alphavantage.co/premium/ to instantly unlock all premium endpoints",
     "output_type": "error",
     "traceback": [
      "\u001B[0;31m---------------------------------------------------------------------------\u001B[0m",
      "\u001B[0;31mValueError\u001B[0m                                Traceback (most recent call last)",
      "Cell \u001B[0;32mIn[8], line 1\u001B[0m\n\u001B[0;32m----> 1\u001B[0m GE \u001B[38;5;241m=\u001B[39m \u001B[43mts\u001B[49m\u001B[38;5;241;43m.\u001B[39;49m\u001B[43mget_daily\u001B[49m\u001B[43m(\u001B[49m\u001B[38;5;124;43m\"\u001B[39;49m\u001B[38;5;124;43mGE\u001B[39;49m\u001B[38;5;124;43m\"\u001B[39;49m\u001B[43m)\u001B[49m\n",
      "File \u001B[0;32m~/opt/anaconda3/envs/udemy_finance_data/lib/python3.10/site-packages/alpha_vantage/alphavantage.py:218\u001B[0m, in \u001B[0;36mAlphaVantage._output_format.<locals>._format_wrapper\u001B[0;34m(self, *args, **kwargs)\u001B[0m\n\u001B[1;32m    216\u001B[0m \u001B[38;5;129m@wraps\u001B[39m(func)\n\u001B[1;32m    217\u001B[0m \u001B[38;5;28;01mdef\u001B[39;00m \u001B[38;5;21m_format_wrapper\u001B[39m(\u001B[38;5;28mself\u001B[39m, \u001B[38;5;241m*\u001B[39margs, \u001B[38;5;241m*\u001B[39m\u001B[38;5;241m*\u001B[39mkwargs):\n\u001B[0;32m--> 218\u001B[0m     call_response, data_key, meta_data_key \u001B[38;5;241m=\u001B[39m \u001B[43mfunc\u001B[49m\u001B[43m(\u001B[49m\n\u001B[1;32m    219\u001B[0m \u001B[43m        \u001B[49m\u001B[38;5;28;43mself\u001B[39;49m\u001B[43m,\u001B[49m\u001B[43m \u001B[49m\u001B[38;5;241;43m*\u001B[39;49m\u001B[43margs\u001B[49m\u001B[43m,\u001B[49m\u001B[43m \u001B[49m\u001B[38;5;241;43m*\u001B[39;49m\u001B[38;5;241;43m*\u001B[39;49m\u001B[43mkwargs\u001B[49m\u001B[43m)\u001B[49m\n\u001B[1;32m    220\u001B[0m     \u001B[38;5;28;01mif\u001B[39;00m \u001B[38;5;124m'\u001B[39m\u001B[38;5;124mjson\u001B[39m\u001B[38;5;124m'\u001B[39m \u001B[38;5;129;01min\u001B[39;00m \u001B[38;5;28mself\u001B[39m\u001B[38;5;241m.\u001B[39moutput_format\u001B[38;5;241m.\u001B[39mlower() \u001B[38;5;129;01mor\u001B[39;00m \u001B[38;5;124m'\u001B[39m\u001B[38;5;124mpandas\u001B[39m\u001B[38;5;124m'\u001B[39m \\\n\u001B[1;32m    221\u001B[0m             \u001B[38;5;129;01min\u001B[39;00m \u001B[38;5;28mself\u001B[39m\u001B[38;5;241m.\u001B[39moutput_format\u001B[38;5;241m.\u001B[39mlower():\n\u001B[1;32m    222\u001B[0m         \u001B[38;5;28;01mif\u001B[39;00m data_key \u001B[38;5;129;01mis\u001B[39;00m \u001B[38;5;129;01mnot\u001B[39;00m \u001B[38;5;28;01mNone\u001B[39;00m:\n",
      "File \u001B[0;32m~/opt/anaconda3/envs/udemy_finance_data/lib/python3.10/site-packages/alpha_vantage/alphavantage.py:160\u001B[0m, in \u001B[0;36mAlphaVantage._call_api_on_func.<locals>._call_wrapper\u001B[0;34m(self, *args, **kwargs)\u001B[0m\n\u001B[1;32m    158\u001B[0m \u001B[38;5;28;01melse\u001B[39;00m:\n\u001B[1;32m    159\u001B[0m     url \u001B[38;5;241m=\u001B[39m \u001B[38;5;124m'\u001B[39m\u001B[38;5;132;01m{}\u001B[39;00m\u001B[38;5;132;01m{}\u001B[39;00m\u001B[38;5;124m'\u001B[39m\u001B[38;5;241m.\u001B[39mformat(url, apikey_parameter)\n\u001B[0;32m--> 160\u001B[0m \u001B[38;5;28;01mreturn\u001B[39;00m \u001B[38;5;28;43mself\u001B[39;49m\u001B[38;5;241;43m.\u001B[39;49m\u001B[43m_handle_api_call\u001B[49m\u001B[43m(\u001B[49m\u001B[43murl\u001B[49m\u001B[43m)\u001B[49m, data_key, meta_data_key\n",
      "File \u001B[0;32m~/opt/anaconda3/envs/udemy_finance_data/lib/python3.10/site-packages/alpha_vantage/alphavantage.py:361\u001B[0m, in \u001B[0;36mAlphaVantage._handle_api_call\u001B[0;34m(self, url)\u001B[0m\n\u001B[1;32m    359\u001B[0m     \u001B[38;5;28;01mraise\u001B[39;00m \u001B[38;5;167;01mValueError\u001B[39;00m(json_response[\u001B[38;5;124m\"\u001B[39m\u001B[38;5;124mError Message\u001B[39m\u001B[38;5;124m\"\u001B[39m])\n\u001B[1;32m    360\u001B[0m \u001B[38;5;28;01melif\u001B[39;00m \u001B[38;5;124m\"\u001B[39m\u001B[38;5;124mInformation\u001B[39m\u001B[38;5;124m\"\u001B[39m \u001B[38;5;129;01min\u001B[39;00m json_response \u001B[38;5;129;01mand\u001B[39;00m \u001B[38;5;28mself\u001B[39m\u001B[38;5;241m.\u001B[39mtreat_info_as_error:\n\u001B[0;32m--> 361\u001B[0m     \u001B[38;5;28;01mraise\u001B[39;00m \u001B[38;5;167;01mValueError\u001B[39;00m(json_response[\u001B[38;5;124m\"\u001B[39m\u001B[38;5;124mInformation\u001B[39m\u001B[38;5;124m\"\u001B[39m])\n\u001B[1;32m    362\u001B[0m \u001B[38;5;28;01melif\u001B[39;00m \u001B[38;5;124m\"\u001B[39m\u001B[38;5;124mNote\u001B[39m\u001B[38;5;124m\"\u001B[39m \u001B[38;5;129;01min\u001B[39;00m json_response \u001B[38;5;129;01mand\u001B[39;00m \u001B[38;5;28mself\u001B[39m\u001B[38;5;241m.\u001B[39mtreat_info_as_error:\n\u001B[1;32m    363\u001B[0m     \u001B[38;5;28;01mraise\u001B[39;00m \u001B[38;5;167;01mValueError\u001B[39;00m(json_response[\u001B[38;5;124m\"\u001B[39m\u001B[38;5;124mNote\u001B[39m\u001B[38;5;124m\"\u001B[39m])\n",
      "\u001B[0;31mValueError\u001B[0m: Thank you for using Alpha Vantage! This is a premium endpoint. You may subscribe to any of the premium plans at https://www.alphavantage.co/premium/ to instantly unlock all premium endpoints"
     ]
    }
   ],
   "source": [
    "GE = ts.get_daily(\"GE\")"
   ]
  },
  {
   "cell_type": "code",
   "execution_count": null,
   "id": "8a16bc6a-8a1e-4171-bd83-208241a1301d",
   "metadata": {},
   "outputs": [],
   "source": []
  },
  {
   "cell_type": "code",
   "execution_count": null,
   "id": "7597d886-97b1-4b28-9006-08dd786dca72",
   "metadata": {},
   "outputs": [],
   "source": []
  },
  {
   "cell_type": "code",
   "execution_count": null,
   "id": "02fac004-8cc9-4af7-803c-f78e8a52c193",
   "metadata": {},
   "outputs": [],
   "source": []
  },
  {
   "cell_type": "code",
   "execution_count": null,
   "id": "c09cbe8c-5fda-43c2-a634-c81c9f96f32f",
   "metadata": {},
   "outputs": [],
   "source": []
  },
  {
   "cell_type": "code",
   "execution_count": null,
   "id": "5d101c17-05f0-46d6-93b3-469fafc2726d",
   "metadata": {},
   "outputs": [],
   "source": []
  },
  {
   "cell_type": "code",
   "execution_count": null,
   "id": "b625a040-43f8-470b-816d-25560f366603",
   "metadata": {},
   "outputs": [],
   "source": []
  },
  {
   "cell_type": "markdown",
   "id": "03e6d8cc-8728-4a65-b725-bfcb115c7cfd",
   "metadata": {},
   "source": [
    "<a name = ''></a>\n",
    "\n",
    "---\n",
    "\n",
    "\n",
    "<html>\n",
    "\t<table style=\"width:100%;\">\n",
    "\t\t<tr>\n",
    "\t\t\t<th style = 'background-color: #f6b48f; padding: 5px 5px 3px 5px; line-height: 1.5; color:black; border-radius: 3px; font-size: 14px; font-weight: 475;; text-align: center;'  colspan=\"3\"> |  <a href=\"#link\">Link</a>  |  <a href=\"#link\">Link</a>  |  <a href=\"#link\">Link</a>   |  <a href=\"#link\">Link</a>  |  <a href=\"#link\">Link</a>  |  <a href=\"#link\">Link</a>  |  <a href=\"#link\">Link</a>  |  <a href=\"#link\">Link</a>  |  <a href=\"#link\">Link</a>  |  <a href=\"#link\">Link</a>  |  <a href=\"#link\">Link</a>  |  <a href=\"#link\">Link</a>  |  <a href=\"#link\">Link</a></font></th>\n",
    "\t\t</tr>\n",
    "\t\t<tr>\n",
    "\t\t\t<th style = 'background-color: #35193e; padding: 5px 5px 3px 5px; line-height: 1.5; color:white;border-radius: 3px;; text-align: center;' colspan=\"3\"><font size = 6>Section Title</font></th>\n",
    "\t\t</tr>\n",
    "\t</table>\n",
    "</html>"
   ]
  },
  {
   "cell_type": "markdown",
   "id": "110cf85c-9b2d-436f-b539-af0eb2680a4f",
   "metadata": {},
   "source": [
    "<html>\n",
    "\t<table style=\"width:100%;\">\n",
    "\t\t<tr>\n",
    "\t\t\t<th style = 'font-size: 17px; font-weight: 525; background-color: #ad1759; padding: 8px; line-height: 1.5; color:white; border-radius: 3px;; text-align: left;' colspan=\"3\">Topic</font></th>\n",
    "\t\t</tr>\n",
    "\t</table>\n",
    "</html>"
   ]
  },
  {
   "cell_type": "markdown",
   "id": "6452cad3-c1d6-4a88-b763-f87030236437",
   "metadata": {},
   "source": [
    "<html>\n",
    "\t<table style=\"width:100%;\">\n",
    "\t\t<tr>\n",
    "\t\t\t<th style = 'font-size: 20px; font-weight: 525; background-color: #701f57; padding: 8px; line-height: 1.5; color:white; border-radius: 3px; text-align: center;' colspan=\"3\">Strong Topic</font></th>\n",
    "\t\t</tr>\n",
    "\t</table>\n",
    "</html>"
   ]
  },
  {
   "cell_type": "markdown",
   "id": "5498c030-2fff-4eb4-9cb1-2190459184f2",
   "metadata": {},
   "source": [
    "<html>\n",
    "\t<table style=\"width:100%;\">\n",
    "\t\t<tr>\n",
    "\t\t\t<th style = 'font-size: 16px; font-weight: 500; background-color: #f6b48f; padding: 5px 5px 3px 10px; line-height: 1.5; text-align: left; color:black;border-radius: 3px;; text-align: left;' colspan=\"3\">comment</font></th>\n",
    "\t\t</tr>\n",
    "\t</table>\n",
    "</html>"
   ]
  },
  {
   "cell_type": "code",
   "execution_count": null,
   "id": "6bd7576b-d6fe-4779-b09b-6012c6fbe973",
   "metadata": {},
   "outputs": [],
   "source": []
  }
 ],
 "metadata": {
  "kernelspec": {
   "display_name": "Python 3 (ipykernel)",
   "language": "python",
   "name": "python3"
  },
  "language_info": {
   "codemirror_mode": {
    "name": "ipython",
    "version": 3
   },
   "file_extension": ".py",
   "mimetype": "text/x-python",
   "name": "python",
   "nbconvert_exporter": "python",
   "pygments_lexer": "ipython3",
   "version": "3.10.9"
  }
 },
 "nbformat": 4,
 "nbformat_minor": 5
}
