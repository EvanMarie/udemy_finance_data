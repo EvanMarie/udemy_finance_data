{
 "cells": [
  {
   "cell_type": "markdown",
   "id": "4ee953ef-8a80-403d-a693-fc26c955310e",
   "metadata": {},
   "source": [
    "<a name = ''></a>\n",
    "\n",
    "---\n",
    "\n",
    "\n",
    "<html>\n",
    "\t<table style=\"width:100%;\">\n",
    "\t\t<tr>\n",
    "\t\t\t<th style = 'background-color: #f6b48f; padding: 5px 5px 3px 5px; line-height: 1.5; color:black; border-radius: 3px; font-size: 14px; font-weight: 475; text-align: center;'  colspan=\"3\"> |  <a href=\"#link\">Link</a>  |  <a href=\"#link\">Link</a>  |  <a href=\"#link\">Link</a>   |  <a href=\"#link\">Link</a>  |  <a href=\"#link\">Link</a>  |  <a href=\"#link\">Link</a>  |  <a href=\"#link\">Link</a>  |  <a href=\"#link\">Link</a>  |  <a href=\"#link\">Link</a>  |  <a href=\"#link\">Link</a>  |  <a href=\"#link\">Link</a>  |  <a href=\"#link\">Link</a>  |  <a href=\"#link\">Link</a></font></th>\n",
    "\t\t</tr>\n",
    "\t\t<tr>\n",
    "\t\t\t<th style = 'background-color: #35193e; padding: 5px 5px 3px 5px; line-height: 1.5; color:white;border-radius: 3px;; text-align: center;' colspan=\"3\"><font size = 6>Section Title</font></th>\n",
    "\t\t</tr>\n",
    "\t</table>\n",
    "</html>"
   ]
  },
  {
   "cell_type": "code",
   "execution_count": 2,
   "id": "6867d918-7f57-4801-b77f-cd013fce2e48",
   "metadata": {},
   "outputs": [],
   "source": [
    "from helpers_new import *\n",
    "import_all()\n",
    "css_styling()\n",
    "plt.style.use('pinks.mplstyle')"
   ]
  },
  {
   "cell_type": "code",
   "execution_count": 3,
   "id": "879f5e6d-11b4-4289-a6c8-7ec00bc2bf2d",
   "metadata": {},
   "outputs": [
    {
     "data": {
      "text/html": [
       "<style>\n",
       "a:link {color: #35193e !important; font-weight: 600 !important;}\n",
       "a:visited {color: #35193e !important; font-weight: 600 !important;}\n",
       "</style>\n"
      ],
      "text/plain": [
       "<IPython.core.display.HTML object>"
      ]
     },
     "metadata": {},
     "output_type": "display_data"
    }
   ],
   "source": [
    "%%html\n",
    "<style>\n",
    "a:link {color: #35193e !important; font-weight: 600 !important;}\n",
    "a:visited {color: #35193e !important; font-weight: 600 !important;}\n",
    "</style>"
   ]
  },
  {
   "cell_type": "code",
   "execution_count": null,
   "id": "1030c008-f681-4a6f-bb7d-fd64fe083127",
   "metadata": {},
   "outputs": [],
   "source": []
  },
  {
   "cell_type": "code",
   "execution_count": null,
   "id": "96fad27e-5db0-4fdf-a19c-23b6a2b0ba50",
   "metadata": {},
   "outputs": [],
   "source": []
  },
  {
   "cell_type": "code",
   "execution_count": null,
   "id": "8a16bc6a-8a1e-4171-bd83-208241a1301d",
   "metadata": {},
   "outputs": [],
   "source": []
  },
  {
   "cell_type": "code",
   "execution_count": null,
   "id": "7597d886-97b1-4b28-9006-08dd786dca72",
   "metadata": {},
   "outputs": [],
   "source": []
  },
  {
   "cell_type": "code",
   "execution_count": null,
   "id": "02fac004-8cc9-4af7-803c-f78e8a52c193",
   "metadata": {},
   "outputs": [],
   "source": []
  },
  {
   "cell_type": "code",
   "execution_count": null,
   "id": "c09cbe8c-5fda-43c2-a634-c81c9f96f32f",
   "metadata": {},
   "outputs": [],
   "source": []
  },
  {
   "cell_type": "code",
   "execution_count": null,
   "id": "5d101c17-05f0-46d6-93b3-469fafc2726d",
   "metadata": {},
   "outputs": [],
   "source": []
  },
  {
   "cell_type": "code",
   "execution_count": null,
   "id": "b625a040-43f8-470b-816d-25560f366603",
   "metadata": {},
   "outputs": [],
   "source": []
  },
  {
   "cell_type": "markdown",
   "id": "03e6d8cc-8728-4a65-b725-bfcb115c7cfd",
   "metadata": {},
   "source": [
    "<a name = ''></a>\n",
    "\n",
    "---\n",
    "\n",
    "\n",
    "<html>\n",
    "\t<table style=\"width:100%;\">\n",
    "\t\t<tr>\n",
    "\t\t\t<th style = 'background-color: #f6b48f; padding: 5px 5px 3px 5px; line-height: 1.5; color:black; border-radius: 3px; font-size: 14px; font-weight: 475;; text-align: center;'  colspan=\"3\"> |  <a href=\"#link\">Link</a>  |  <a href=\"#link\">Link</a>  |  <a href=\"#link\">Link</a>   |  <a href=\"#link\">Link</a>  |  <a href=\"#link\">Link</a>  |  <a href=\"#link\">Link</a>  |  <a href=\"#link\">Link</a>  |  <a href=\"#link\">Link</a>  |  <a href=\"#link\">Link</a>  |  <a href=\"#link\">Link</a>  |  <a href=\"#link\">Link</a>  |  <a href=\"#link\">Link</a>  |  <a href=\"#link\">Link</a></font></th>\n",
    "\t\t</tr>\n",
    "\t\t<tr>\n",
    "\t\t\t<th style = 'background-color: #35193e; padding: 5px 5px 3px 5px; line-height: 1.5; color:white;border-radius: 3px;; text-align: center;' colspan=\"3\"><font size = 6>Section Title</font></th>\n",
    "\t\t</tr>\n",
    "\t</table>\n",
    "</html>"
   ]
  },
  {
   "cell_type": "markdown",
   "id": "110cf85c-9b2d-436f-b539-af0eb2680a4f",
   "metadata": {},
   "source": [
    "<html>\n",
    "\t<table style=\"width:100%;\">\n",
    "\t\t<tr>\n",
    "\t\t\t<th style = 'font-size: 17px; font-weight: 525; background-color: #ad1759; padding: 8px; line-height: 1.5; color:white; border-radius: 3px;; text-align: left;' colspan=\"3\">Topic</font></th>\n",
    "\t\t</tr>\n",
    "\t</table>\n",
    "</html>"
   ]
  },
  {
   "cell_type": "markdown",
   "id": "6452cad3-c1d6-4a88-b763-f87030236437",
   "metadata": {},
   "source": [
    "<html>\n",
    "\t<table style=\"width:100%;\">\n",
    "\t\t<tr>\n",
    "\t\t\t<th style = 'font-size: 20px; font-weight: 525; background-color: #701f57; padding: 8px; line-height: 1.5; color:white; border-radius: 3px; text-align: center;' colspan=\"3\">Strong Topic</font></th>\n",
    "\t\t</tr>\n",
    "\t</table>\n",
    "</html>"
   ]
  },
  {
   "cell_type": "markdown",
   "id": "5498c030-2fff-4eb4-9cb1-2190459184f2",
   "metadata": {},
   "source": [
    "<html>\n",
    "\t<table style=\"width:100%;\">\n",
    "\t\t<tr>\n",
    "\t\t\t<th style = 'font-size: 16px; font-weight: 500; background-color: #f6b48f; padding: 5px 5px 3px 10px; line-height: 1.5; text-align: left; color:black;border-radius: 3px;; text-align: left;' colspan=\"3\">comment</font></th>\n",
    "\t\t</tr>\n",
    "\t</table>\n",
    "</html>"
   ]
  },
  {
   "cell_type": "code",
   "execution_count": null,
   "id": "6bd7576b-d6fe-4779-b09b-6012c6fbe973",
   "metadata": {},
   "outputs": [],
   "source": []
  }
 ],
 "metadata": {
  "kernelspec": {
   "display_name": "Python 3 (ipykernel)",
   "language": "python",
   "name": "python3"
  },
  "language_info": {
   "codemirror_mode": {
    "name": "ipython",
    "version": 3
   },
   "file_extension": ".py",
   "mimetype": "text/x-python",
   "name": "python",
   "nbconvert_exporter": "python",
   "pygments_lexer": "ipython3",
   "version": "3.10.9"
  }
 },
 "nbformat": 4,
 "nbformat_minor": 5
}
