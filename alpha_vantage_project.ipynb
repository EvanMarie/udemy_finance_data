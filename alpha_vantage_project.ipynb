{
 "cells": [
  {
   "cell_type": "markdown",
   "id": "c8d4dbab-d831-4c22-87fb-d2f84b1cf6de",
   "metadata": {},
   "source": [
    "<a name = 'top'></a>\n",
    "\n",
    "<hr class=\"dashed\" style = 'color: #ad1759'>\n",
    "\n",
    "<html>\n",
    "\t<table style=\"width:100%;\">\n",
    "\t\t<tr>\n",
    "\t\t\t<th style = 'background-color: #f6b48f; padding: 5px 5px 3px 5px; line-height: 1.5; color:white; border-radius: 3px; font-size: 14px; font-weight: 475; text-align: center;'  colspan=\"3\"> |  <a href=\"#top\">Top</a>  |  <a href=\"#data\">Getting Data</a>  |  <a href=\"#splits\">Splits & Dividends</a>   |  <a href=\"#datetime\">The Datetime Index</a>  |  <a href=\"#intervals\">Frequency & Intervals</a>  |  <a href=\"#indicators\">Technical Indicators</a>  |  <a href=\"#foreign\">Foreign Exchange</a>  |  <a href=\"#crypto\">Cryptocurrencies</a>  |  </font></th>\n",
    "\t\t</tr>\n",
    "\t</table>\n",
    "</html>\n",
    "\n",
    "<hr class=\"dashed\" style = 'color: #ad1759'>\n",
    "\n"
   ]
  },
  {
   "cell_type": "markdown",
   "id": "4ee953ef-8a80-403d-a693-fc26c955310e",
   "metadata": {
    "tags": []
   },
   "source": [
    "<html>\n",
    "\t<table style=\"width:100%;\">\n",
    "\t\t<tr>\n",
    "\t\t\t<th style = 'background-color: #35193e; padding: 5px 5px 3px 5px; line-height: 1.5; color:white; border-radius: 3px;; text-align: center; border-top: 2px solid white; border-bottom: 2px solid white; font-size: 26px;' colspan=\"3\">Alpha Vantage API Overview</font></th>\n",
    "\t\t</tr>\n",
    "\t\t<tr>\n",
    "\t\t\t<th style = 'font-size: 17px; font-weight: 525; background-color: #f6b48f; padding: 8px; line-height: 1.5; color:white; border-radius: 3px;; text-align: center;' colspan=\"3\">|  <a href = 'https://www.alphavantage.co/'>Alpha Vantage</a>  |  <a href = 'https://pypi.org/project/alpha-vantage/#description'>alpha_vantage Module</a>  |</font></th>\n",
    "\t\t</tr>\n",
    "\t</table>\n",
    "</html>\n",
    "\n",
    "<html>\n",
    "\t<table>\n",
    "\t<tr style = 'border-top: 2px solid #ad1759; border-bottom: 2px solid #ad1759;' colspan = 3> \n",
    "\t\t\t<td style = 'font-size: 13px; text-align: center;' colspan = 5><b>Evan Marie online</b>:  |  <a href = 'https://www.evanmarie.com/'>EvanMarie.com</a>|  <a href = 'mailto:evanmarie@proton.me'>EvanMarie@Proton.me</a>  |  <a href = 'https://www.linkedin.com/in/evanmarie/'>Linked In</a>  |  <a href = 'https://github.com/EvanMarie'>GitHub</a>   |  <a href = 'https://huggingface.co/EvanMarie'>Hugging Face</a>  |  <a href = 'https://sigmoid.social/@EvanMarie'>Mastadon</a>  |  <a href = 'https://jovian.ai/evanmarie'>Jovian.ai</a>  |  <a href = 'https://www.tiktok.com/@evanmarie_123'>TikTok</a>  |  <a href = 'https://www.codewars.com/users/EvanMarie'>CodeWars</a>  |  <b>Discord ⇨ ✨ EvanMarie ✨#6114</b>  |\n",
    "\t\t\t</td></tr>\n",
    "\t</table>\n",
    "</html>\n",
    "\n",
    "\n",
    "<font size = 4><b>About Alpha Vantage:</b></font>\n",
    "\n",
    "* real-time and historical stock data\n",
    "* foreign exchange and cryptocurrencies\n",
    "* 50 technical indicators\n",
    "* global coverage\n",
    "* composed of a community of researchers, engineers, and business professionals\n",
    "* leading provider of financial data\n",
    "\n",
    "<br>\n",
    "\n",
    "<font size = 4><b>Pros and Cons of Alpha Vantage:</b></font><br>\n",
    "**Pros**\n",
    "* Free (5 calls per minute, 500 per day), and premium is available\n",
    "* Large datasets for crypto, stocks, etc\n",
    "* 50+ technical indicators (such as SMA, Bollinger Bands)\n",
    "\n",
    "**Cons**\n",
    "* Limited call requests\n",
    "* API key needed, compared to yfinance that requires no key\n",
    "* No high frequency or real time data\n",
    "* No data for bonds, funds, indexes, or commodities"
   ]
  },
  {
   "cell_type": "code",
   "execution_count": 1,
   "id": "6867d918-7f57-4801-b77f-cd013fce2e48",
   "metadata": {},
   "outputs": [],
   "source": [
    "from helpers_02_04 import *\n",
    "import_all()\n",
    "plt.style.use('pinks.mplstyle')\n",
    "from alpha_vantage.timeseries import TimeSeries\n",
    "%matplotlib inline"
   ]
  },
  {
   "cell_type": "code",
   "execution_count": 2,
   "id": "879f5e6d-11b4-4289-a6c8-7ec00bc2bf2d",
   "metadata": {},
   "outputs": [
    {
     "data": {
      "text/html": [
       "<style>\n",
       "a:link {color: #35193e !important; font-weight: 600 !important;}\n",
       "a:visited {color: #35193e !important; font-weight: 600 !important;}\n",
       "</style>\n"
      ],
      "text/plain": [
       "<IPython.core.display.HTML object>"
      ]
     },
     "metadata": {},
     "output_type": "display_data"
    }
   ],
   "source": [
    "%%html\n",
    "<style>\n",
    "a:link {color: #35193e !important; font-weight: 600 !important;}\n",
    "a:visited {color: #35193e !important; font-weight: 600 !important;}\n",
    "</style>"
   ]
  },
  {
   "cell_type": "markdown",
   "id": "ee42b270-04f9-4942-84ef-606b59d84e4f",
   "metadata": {},
   "source": [
    "<a name = 'data'></a>\n",
    "\n",
    "<hr class=\"dashed\" style = 'color: #ad1759'>\n",
    "\n",
    "<html>\n",
    "\t<table style=\"width:100%;\">\n",
    "\t\t<tr>\n",
    "\t\t\t<th style = 'background-color: #f6b48f; padding: 5px 5px 3px 5px; line-height: 1.5; color:white; border-radius: 3px; font-size: 14px; font-weight: 475; text-align: center;'  colspan=\"3\"> |  <a href=\"#top\">Top</a>  |  <a href=\"#data\">Getting Data</a>  |  <a href=\"#splits\">Splits & Dividends</a>   |  <a href=\"#datetime\">The Datetime Index</a>  |  <a href=\"#intervals\">Frequency & Intervals</a>  |  <a href=\"#indicators\">Technical Indicators</a>  |  <a href=\"#foreign\">Foreign Exchange</a>  |  <a href=\"#crypto\">Cryptocurrencies</a>  |  </font></th>\n",
    "\t\t</tr>\n",
    "\t</table>\n",
    "</html>\n",
    "\n",
    "<hr class=\"dashed\" style = 'color: #ad1759'>\n",
    "\n"
   ]
  },
  {
   "cell_type": "markdown",
   "id": "b1ac8034-1eca-4550-88c8-0481c727d772",
   "metadata": {},
   "source": [
    "<html>\n",
    "\t<table style=\"width:100%;\">\n",
    "\t\t<tr>\n",
    "\t\t\t<th style = 'background-color: #35193e; padding: 5px 5px 3px 5px; line-height: 1.5; color:white;border-radius: 3px; text-align: center; border-top: 1.5px solid white;' colspan=\"3\"><font size = 6>Getting Data from Alpha Vantage</font></th>\n",
    "\t\t</tr>\n",
    "\t</table>\n",
    "</html>"
   ]
  },
  {
   "cell_type": "code",
   "execution_count": 4,
   "id": "1030c008-f681-4a6f-bb7d-fd64fe083127",
   "metadata": {},
   "outputs": [
    {
     "data": {
      "text/plain": [
       "<alpha_vantage.timeseries.TimeSeries at 0x7faef368c880>"
      ]
     },
     "execution_count": 4,
     "metadata": {},
     "output_type": "execute_result"
    }
   ],
   "source": [
    "api_key = 'XMC27CD0UMQPVAPR'\n",
    "ts = TimeSeries(key = api_key, output_format = 'pandas')\n",
    "ts"
   ]
  },
  {
   "cell_type": "markdown",
   "id": "03ac997e-975b-45a3-930d-4bf9ce8e84af",
   "metadata": {},
   "source": [
    "<html>\n",
    "\t<table style=\"width:100%;\">\n",
    "\t\t<tr>\n",
    "\t\t\t<th style = 'font-size: 17px; font-weight: 525; background-color: #ad1759; padding: 8px; line-height: 1.5; color:white; border-radius: 3px;; text-align: left;' colspan=\"3\">Time Series Object</font></th>\n",
    "\t\t</tr>\n",
    "\t</table>\n",
    "</html>"
   ]
  },
  {
   "cell_type": "code",
   "execution_count": null,
   "id": "b34c99ce-0ab7-41f0-a138-a04058fd0b0c",
   "metadata": {},
   "outputs": [],
   "source": [
    "pretty('TimeSeries()')\n",
    "help(ts)"
   ]
  },
  {
   "cell_type": "code",
   "execution_count": null,
   "id": "96fad27e-5db0-4fdf-a19c-23b6a2b0ba50",
   "metadata": {},
   "outputs": [],
   "source": [
    "GE = ts.get_daily(\"GE\")"
   ]
  },
  {
   "cell_type": "code",
   "execution_count": null,
   "id": "7df5261f-489a-4efd-a739-3e4e712fb91c",
   "metadata": {},
   "outputs": [],
   "source": [
    "pretty('ts.get_daily()')\n",
    "help(ts.get_daily)"
   ]
  },
  {
   "cell_type": "markdown",
   "id": "a6301e45-4c3d-4e62-acaf-8d1115507b3c",
   "metadata": {},
   "source": [
    "<html>\n",
    "\t<table style=\"width:100%;\">\n",
    "\t\t<tr>\n",
    "\t\t\t<th style = 'font-size: 17px; font-weight: 525; background-color: #ad1759; padding: 8px; line-height: 1.5; color:white; border-radius: 3px;; text-align: left;' colspan=\"3\">Resulting Data & Types</font></th>\n",
    "\t\t</tr>\n",
    "\t</table>\n",
    "</html>"
   ]
  },
  {
   "cell_type": "code",
   "execution_count": null,
   "id": "9669ef58-d9ae-46ae-a07d-50fb7600117f",
   "metadata": {},
   "outputs": [],
   "source": [
    "type(GE)"
   ]
  },
  {
   "cell_type": "code",
   "execution_count": null,
   "id": "f1f3e6de-f5a1-4227-aa2b-e64eec3071f1",
   "metadata": {},
   "outputs": [],
   "source": [
    "len(GE)"
   ]
  },
  {
   "cell_type": "code",
   "execution_count": null,
   "id": "470defda-0774-4433-8d60-1fa7e13cab91",
   "metadata": {},
   "outputs": [],
   "source": [
    "GE[0][0:5]"
   ]
  },
  {
   "cell_type": "code",
   "execution_count": null,
   "id": "c0703d83-f51e-48b7-9c36-5e6947e353de",
   "metadata": {},
   "outputs": [],
   "source": [
    "pretty('GE[1] contains meta information')\n",
    "GE[1]"
   ]
  },
  {
   "cell_type": "code",
   "execution_count": null,
   "id": "516667d8-af90-49ad-a6bf-0b7e813f124d",
   "metadata": {},
   "outputs": [],
   "source": [
    "pretty('GE[0] contains the DataFrame')\n",
    "df_overview(GE[0])"
   ]
  },
  {
   "cell_type": "markdown",
   "id": "df63857d-98b6-43b3-a136-b1c0c51fa347",
   "metadata": {},
   "source": [
    "<html>\n",
    "\t<table style=\"width:100%;\">\n",
    "\t\t<tr>\n",
    "\t\t\t<th style = 'font-size: 20px; font-weight: 525; background-color: #701f57; padding: 8px; line-height: 1.5; color:white; border-radius: 3px; text-align: center;' colspan=\"3\">Setting Specific Time Periods</font></th>\n",
    "\t\t</tr>\n",
    "\t</table>\n",
    "</html>"
   ]
  },
  {
   "cell_type": "code",
   "execution_count": null,
   "id": "0abc6ed7-e760-4b1d-8e72-06c542b70dfb",
   "metadata": {},
   "outputs": [],
   "source": [
    "GE = ts.get_daily('GE', outputsize = 'compact')[0]"
   ]
  },
  {
   "cell_type": "markdown",
   "id": "ce6f8deb-5edc-4665-acdf-f68d7f3d4e56",
   "metadata": {},
   "source": [
    "<html>\n",
    "\t<table style=\"width:100%;\">\n",
    "\t\t<tr>\n",
    "\t\t\t<th style = 'font-size: 16px; font-weight: 500; background-color: #f6b48f; padding: 5px 5px 3px 10px; line-height: 1.5; text-align: left; color:black;border-radius: 3px;; text-align: left;' colspan=\"3\"><b><i>compact</i></b> returns the last 100 timestamps (default)</font></th>\n",
    "\t\t</tr>\n",
    "\t</table>\n",
    "</html>"
   ]
  },
  {
   "cell_type": "code",
   "execution_count": null,
   "id": "8a94a4f6-35f7-4b27-8438-98b8fc5b8550",
   "metadata": {},
   "outputs": [],
   "source": [
    "see(GE.head(3), 'outputsize = \"compact\"')"
   ]
  },
  {
   "cell_type": "code",
   "execution_count": null,
   "id": "44c706e7-6d78-4e96-b0fd-329b09617864",
   "metadata": {},
   "outputs": [],
   "source": [
    "pretty(len(GE), 'len(GE)')"
   ]
  },
  {
   "cell_type": "code",
   "execution_count": null,
   "id": "ff7fb989-4065-44e6-ab6b-6f2009ca6bd1",
   "metadata": {},
   "outputs": [],
   "source": [
    "GE_full = ts.get_daily('GE', outputsize = 'full')[0]"
   ]
  },
  {
   "cell_type": "markdown",
   "id": "31769964-7cc2-40a8-ba68-722d3cb677d5",
   "metadata": {},
   "source": [
    "<html>\n",
    "\t<table style=\"width:100%;\">\n",
    "\t\t<tr>\n",
    "\t\t\t<th style = 'font-size: 16px; font-weight: 500; background-color: #f6b48f; padding: 5px 5px 3px 10px; line-height: 1.5; text-align: left; color:black;border-radius: 3px;; text-align: left;' colspan=\"3\"><b><i>full</i></b> returns the last 100 timestamps</font></th>\n",
    "\t\t</tr>\n",
    "\t</table>\n",
    "</html>"
   ]
  },
  {
   "cell_type": "code",
   "execution_count": null,
   "id": "27d910a0-4139-4ec5-9a1d-48371775b488",
   "metadata": {},
   "outputs": [],
   "source": [
    "see(GE_full.head(3), 'outputsize = \"full\"')"
   ]
  },
  {
   "cell_type": "code",
   "execution_count": null,
   "id": "712aac08-eaa6-4477-a4da-6e802d80c04a",
   "metadata": {},
   "outputs": [],
   "source": [
    "pretty(f'{len(GE_full):,}', 'len(GE_full)')"
   ]
  },
  {
   "cell_type": "markdown",
   "id": "04fd81ce-b6d5-4c41-b65e-4ceb435c53fb",
   "metadata": {},
   "source": [
    "<a name = 'splits'></a>\n",
    "\n",
    "<hr class=\"dashed\" style = 'color: #ad1759'>\n",
    "\n",
    "<html>\n",
    "\t<table style=\"width:100%;\">\n",
    "\t\t<tr>\n",
    "\t\t\t<th style = 'background-color: #f6b48f; padding: 5px 5px 3px 5px; line-height: 1.5; color:white; border-radius: 3px; font-size: 14px; font-weight: 475; text-align: center;'  colspan=\"3\"> |  <a href=\"#top\">Top</a>  |  <a href=\"#data\">Getting Data</a>  |  <a href=\"#splits\">Splits & Dividends</a>   |  <a href=\"#datetime\">The Datetime Index</a>  |  <a href=\"#intervals\">Frequency & Intervals</a>  |  <a href=\"#indicators\">Technical Indicators</a>  |  <a href=\"#foreign\">Foreign Exchange</a>  |  <a href=\"#crypto\">Cryptocurrencies</a>  |  </font></th>\n",
    "\t\t</tr>\n",
    "\t</table>\n",
    "</html>\n",
    "\n",
    "<hr class=\"dashed\" style = 'color: #ad1759'>\n",
    "\n"
   ]
  },
  {
   "cell_type": "markdown",
   "id": "8aa16fd9-6793-4228-ad8b-a111364d7505",
   "metadata": {},
   "source": [
    "<html>\n",
    "\t<table style=\"width:100%;\">\n",
    "\t\t<tr>\n",
    "\t\t\t<th style = 'background-color: #35193e; padding: 5px 5px 3px 5px; line-height: 1.5; color:white;border-radius: 3px;; text-align: center; border-top: 1.5px solid white;' colspan=\"3\"><font size = 6>Stock Splits & Dividends</font></th>\n",
    "\t\t</tr>\n",
    "\t</table>\n",
    "</html>"
   ]
  },
  {
   "cell_type": "code",
   "execution_count": null,
   "id": "6dbca972-74b4-499d-a0c6-c78da1350014",
   "metadata": {},
   "outputs": [],
   "source": [
    "import yfinance as yf"
   ]
  },
  {
   "cell_type": "code",
   "execution_count": null,
   "id": "02fac004-8cc9-4af7-803c-f78e8a52c193",
   "metadata": {},
   "outputs": [],
   "source": [
    "ticker = 'GE'"
   ]
  },
  {
   "cell_type": "code",
   "execution_count": null,
   "id": "540b32a1-72f3-4660-bda1-64d53de3eb83",
   "metadata": {},
   "outputs": [],
   "source": [
    "GE_full = ts.get_daily(ticker, outputsize = 'full')[0]"
   ]
  },
  {
   "cell_type": "code",
   "execution_count": null,
   "id": "b106a5d0-1db5-46ea-804a-6d6792347f83",
   "metadata": {},
   "outputs": [],
   "source": [
    "pretty('GE_full meta informtation')\n",
    "ts.get_daily(ticker, outputsize = 'full')[1]"
   ]
  },
  {
   "cell_type": "markdown",
   "id": "7860a15a-ceed-464c-9e6b-2b1fc199421b",
   "metadata": {},
   "source": [
    "<html>\n",
    "\t<table style=\"width:100%;\">\n",
    "\t\t<tr>\n",
    "\t\t\t<th style = 'font-size: 16px; font-weight: 500; background-color: #f6b48f; padding: 5px 5px 3px 10px; line-height: 1.5; text-align: left; color:black;border-radius: 3px;; text-align: left;' colspan=\"3\">Observing differences in importing from Alpha Vantage versus yfinance</font></th>\n",
    "\t\t</tr>\n",
    "\t</table>\n",
    "</html>"
   ]
  },
  {
   "cell_type": "code",
   "execution_count": null,
   "id": "2b20def4-0cc2-4ac9-9421-b61940b7603b",
   "metadata": {},
   "outputs": [],
   "source": [
    "see(GE_full.head(3), 'Alpha Vantage Version, outputsize = \"full\"')"
   ]
  },
  {
   "cell_type": "markdown",
   "id": "6b16ce55-ceaa-4024-b027-e7ba047fc437",
   "metadata": {},
   "source": [
    "<html>\n",
    "\t<table style=\"width:100%;\">\n",
    "\t\t<tr>\n",
    "\t\t\t<th style = 'font-size: 16px; font-weight: 500; background-color: #f6b48f; padding: 5px 5px 3px 10px; line-height: 1.5; text-align: left; color:black;border-radius: 3px;; text-align: left;' colspan=\"3\"><b><i>Adj Close</b></i> - Adjusted for stock splits and dividends</font></th>\n",
    "\t\t</tr>\n",
    "\t</table>\n",
    "</html>"
   ]
  },
  {
   "cell_type": "code",
   "execution_count": null,
   "id": "917adeda-79b0-4677-aa86-83de6dfb253a",
   "metadata": {},
   "outputs": [],
   "source": [
    "see(yf.download(ticker, start = GE_full.index[0]), \n",
    "\t'yfinance version, same time period')"
   ]
  },
  {
   "cell_type": "markdown",
   "id": "f67e0f49-916c-405e-a780-fa04169b8c93",
   "metadata": {},
   "source": [
    "<html>\n",
    "\t<table style=\"width:100%;\">\n",
    "\t\t<tr>\n",
    "\t\t\t<th style = 'font-size: 16px; font-weight: 500; background-color: #f6b48f; padding: 5px 5px 3px 10px; line-height: 1.5; text-align: left; color:black;border-radius: 3px;; text-align: left;' colspan=\"3\"><b><i>ts.get_daily_adjusted()</b></i> - also returns the dividend amount and split coefficient</font></th>\n",
    "\t\t</tr>\n",
    "\t</table>\n",
    "</html>"
   ]
  },
  {
   "cell_type": "code",
   "execution_count": null,
   "id": "d4c694eb-a377-4ddc-909d-954d68594a71",
   "metadata": {},
   "outputs": [],
   "source": [
    "GE_adj = ts.get_daily_adjusted(ticker, outputsize = 'full')[0]"
   ]
  },
  {
   "cell_type": "code",
   "execution_count": null,
   "id": "a6cc120c-92d2-42ed-a126-65d46ba00250",
   "metadata": {},
   "outputs": [],
   "source": [
    "pretty('ts.get_daily_adjusted()')\n",
    "help(ts.get_daily_adjusted)"
   ]
  },
  {
   "cell_type": "code",
   "execution_count": null,
   "id": "05b7dc42-bc91-4963-82e2-8866adf80478",
   "metadata": {},
   "outputs": [],
   "source": [
    "pretty('GE_adj meta informtation')\n",
    "ts.get_daily_adjusted(ticker, outputsize = 'full')[1]"
   ]
  },
  {
   "cell_type": "code",
   "execution_count": null,
   "id": "fc1ccd86-6119-43e6-a15d-cf274ad2f51b",
   "metadata": {},
   "outputs": [],
   "source": [
    "df_overview(GE_adj, title = \"GE 'get_daily_adjusted'\")"
   ]
  },
  {
   "cell_type": "markdown",
   "id": "91801073-345e-4cea-9422-ad4bad2310e9",
   "metadata": {},
   "source": [
    "<html>\n",
    "\t<table style=\"width:100%;\">\n",
    "\t\t<tr>\n",
    "\t\t\t<th style = 'font-size: 16px; font-weight: 500; background-color: #f6b48f; padding: 5px 5px 3px 10px; line-height: 1.5; text-align: left; color:black;border-radius: 3px;; text-align: left;' colspan=\"3\"><b><i>Splits</b></i> - There have been 3 stock splits within the timeframe of this data</font></th>\n",
    "\t\t</tr>\n",
    "\t</table>\n",
    "</html>"
   ]
  },
  {
   "cell_type": "code",
   "execution_count": null,
   "id": "87906b9e-4467-47cb-bfc8-22cb4f317255",
   "metadata": {},
   "outputs": [],
   "source": [
    "see(GE_adj.iloc[:, -1].value_counts(), 'Value counts for split coefficient column')"
   ]
  },
  {
   "cell_type": "markdown",
   "id": "6f65e3c0-f9ff-4cf5-afbb-519dbe2594a7",
   "metadata": {},
   "source": [
    "<html>\n",
    "\t<table style=\"width:100%;\">\n",
    "\t\t<tr>\n",
    "\t\t\t<th style = 'font-size: 16px; font-weight: 500; background-color: #f6b48f; padding: 5px 5px 3px 10px; line-height: 1.5; text-align: left; color:black;border-radius: 3px;; text-align: left;' colspan=\"3\"><b><i>split coefficient == 3</b></i> - Investigating when the stock split by 3</font></th>\n",
    "\t\t</tr>\n",
    "\t</table>\n",
    "</html>"
   ]
  },
  {
   "cell_type": "code",
   "execution_count": null,
   "id": "3a6b037a-ec1b-480e-a618-35bd4660dc9c",
   "metadata": {},
   "outputs": [],
   "source": [
    "GE_adj[GE_adj.iloc[:, -1] == 3]"
   ]
  },
  {
   "cell_type": "code",
   "execution_count": null,
   "id": "fa10147c-f336-4fb9-8f11-3b8c6aa2db4d",
   "metadata": {},
   "outputs": [],
   "source": [
    "header_text('Price Effects of Stock Split')\n",
    "\n",
    "apply_style(GE_adj.loc['2000-05-03' : '2000-05-10'],\n",
    "\t\t\tlambda value: 'color: #ad1759;\\\n",
    "\t\t\t\t\t\t   font-weight: 600;\\\n",
    "\t\t\t\t\t\t   font-size: 16px;\\\n",
    "\t\t\t\t\t\t   background-color: yellow'\n",
    "\t\t\tif (value < 100) & (value > 3) else None).format(precision = 2)"
   ]
  },
  {
   "cell_type": "markdown",
   "id": "386faef7-39f0-49cb-9591-dc4c78e7656f",
   "metadata": {},
   "source": [
    "<a name = 'datetime'></a>\n",
    "\n",
    "<hr class=\"dashed\" style = 'color: #ad1759'>\n",
    "\n",
    "<html>\n",
    "\t<table style=\"width:100%;\">\n",
    "\t\t<tr>\n",
    "\t\t\t<th style = 'background-color: #f6b48f; padding: 5px 5px 3px 5px; line-height: 1.5; color:white; border-radius: 3px; font-size: 14px; font-weight: 475; text-align: center;'  colspan=\"3\"> |  <a href=\"#top\">Top</a>  |  <a href=\"#data\">Getting Data</a>  |  <a href=\"#splits\">Splits & Dividends</a>   |  <a href=\"#datetime\">The Datetime Index</a>  |  <a href=\"#intervals\">Frequency & Intervals</a>  |  <a href=\"#indicators\">Technical Indicators</a>  |  <a href=\"#foreign\">Foreign Exchange</a>  |  <a href=\"#crypto\">Cryptocurrencies</a>  |  </font></th>\n",
    "\t\t</tr>\n",
    "\t</table>\n",
    "</html>\n",
    "\n",
    "<hr class=\"dashed\" style = 'color: #ad1759'>\n",
    "\n"
   ]
  },
  {
   "cell_type": "markdown",
   "id": "640836c0-349f-4584-b599-29ddf8650c06",
   "metadata": {},
   "source": [
    "<html>\n",
    "\t<table style=\"width:100%;\">\n",
    "\t\t<tr>\n",
    "\t\t\t<th style = 'background-color: #35193e; padding: 5px 5px 3px 5px; line-height: 1.5; color:white;border-radius: 3px;; text-align: center; border-top: 1.5px solid white;' colspan=\"3\"><font size = 6>Datetime Index</font></th>\n",
    "\t\t</tr>\n",
    "\t</table>\n",
    "</html>"
   ]
  },
  {
   "cell_type": "code",
   "execution_count": null,
   "id": "57ab7aff-55f4-4b91-952a-7e721e3781d4",
   "metadata": {},
   "outputs": [],
   "source": [
    "see(GE_full.head(3), 'Alpha Vantage Data')"
   ]
  },
  {
   "cell_type": "code",
   "execution_count": null,
   "id": "74e5c9c1-31cc-405e-a7a0-d7dd6ab9cf2a",
   "metadata": {},
   "outputs": [],
   "source": [
    "GE_full.columns = ['open', 'high', 'low', 'close', 'volume']"
   ]
  },
  {
   "cell_type": "code",
   "execution_count": null,
   "id": "d169f617-e548-4db2-878c-190759e3a04c",
   "metadata": {},
   "outputs": [],
   "source": [
    "timeseries_overview(GE_full, 'close')"
   ]
  },
  {
   "cell_type": "markdown",
   "id": "3cbd9938-242c-461d-86a2-576c66f5e3ea",
   "metadata": {},
   "source": [
    "<html>\n",
    "\t<table style=\"width:100%;\">\n",
    "\t\t<tr>\n",
    "\t\t\t<th style = 'font-size: 16px; font-weight: 500; background-color: #f6b48f; padding: 5px 5px 3px 10px; line-height: 1.5; text-align: left; color:black;border-radius: 3px;; text-align: left;' colspan=\"3\">Getting a single year</font></th>\n",
    "\t\t</tr>\n",
    "\t</table>\n",
    "</html>"
   ]
  },
  {
   "cell_type": "code",
   "execution_count": null,
   "id": "64e60a15-287d-4d72-8700-0de6f9244879",
   "metadata": {},
   "outputs": [],
   "source": [
    "GE_full.loc['2017']"
   ]
  },
  {
   "cell_type": "markdown",
   "id": "c1fc8d38-aefa-4cd2-8c54-a6f1e0a5b25a",
   "metadata": {},
   "source": [
    "<a name = 'intervals'></a>\n",
    "\n",
    "<hr class=\"dashed\" style = 'color: #ad1759'>\n",
    "\n",
    "<html>\n",
    "\t<table style=\"width:100%;\">\n",
    "\t\t<tr>\n",
    "\t\t\t<th style = 'background-color: #f6b48f; padding: 5px 5px 3px 5px; line-height: 1.5; color:white; border-radius: 3px; font-size: 14px; font-weight: 475; text-align: center;'  colspan=\"3\"> |  <a href=\"#top\">Top</a>  |  <a href=\"#data\">Getting Data</a>  |  <a href=\"#splits\">Splits & Dividends</a>   |  <a href=\"#datetime\">The Datetime Index</a>  |  <a href=\"#intervals\">Frequency & Intervals</a>  |  <a href=\"#indicators\">Technical Indicators</a>  |  <a href=\"#foreign\">Foreign Exchange</a>  |  <a href=\"#crypto\">Cryptocurrencies</a>  |  </font></th>\n",
    "\t\t</tr>\n",
    "\t</table>\n",
    "</html>\n",
    "\n",
    "<hr class=\"dashed\" style = 'color: #ad1759'>\n",
    "\n"
   ]
  },
  {
   "cell_type": "markdown",
   "id": "796f88b6-8cf0-4775-a281-a30ca9974e08",
   "metadata": {},
   "source": [
    "<html>\n",
    "\t<table style=\"width:100%;\">\n",
    "\t\t<tr>\n",
    "\t\t\t<th style = 'background-color: #35193e; padding: 5px 5px 3px 5px; line-height: 1.5; color:white;border-radius: 3px;; text-align: center; border-top: 1.5px solid white;' colspan=\"3\"><font size = 6>Frequency & Interval Settings</font></th>\n",
    "\t\t</tr>\n",
    "\t</table>\n",
    "</html>"
   ]
  },
  {
   "cell_type": "code",
   "execution_count": null,
   "id": "442adcfa-4b03-4192-b105-5ef2fae8eb17",
   "metadata": {},
   "outputs": [],
   "source": [
    "ticker = 'MSFT'"
   ]
  },
  {
   "cell_type": "markdown",
   "id": "cffeb77f-5abf-4d3e-95a9-052424869484",
   "metadata": {},
   "source": [
    "<html>\n",
    "\t<table style=\"width:100%;\">\n",
    "\t\t<tr>\n",
    "\t\t\t<th style = 'font-size: 16px; font-weight: 500; background-color: #f6b48f; padding: 5px 5px 3px 10px; line-height: 1.5; text-align: left; color:black;border-radius: 3px;; text-align: left;' colspan=\"3\"><b><i>get_monthly_adjusted()</b></i> - monthly data</font></th>\n",
    "\t\t</tr>\n",
    "\t</table>\n",
    "</html>"
   ]
  },
  {
   "cell_type": "code",
   "execution_count": null,
   "id": "2630b7ef-fed3-4ba5-8ef6-a1b1b4acc39c",
   "metadata": {},
   "outputs": [],
   "source": [
    "pretty('ts.get_monthly_adjusted()')\n",
    "help(ts.get_monthly_adjusted)"
   ]
  },
  {
   "cell_type": "code",
   "execution_count": null,
   "id": "a68b28a5-60fd-47ec-b85b-d0b359a45d69",
   "metadata": {},
   "outputs": [],
   "source": [
    "ts.get_monthly_adjusted(ticker)[0].head(3)"
   ]
  },
  {
   "cell_type": "markdown",
   "id": "d56f4416-d5c3-46ec-b280-28d06bf24129",
   "metadata": {},
   "source": [
    "<html>\n",
    "\t<table style=\"width:100%;\">\n",
    "\t\t<tr>\n",
    "\t\t\t<th style = 'font-size: 16px; font-weight: 500; background-color: #f6b48f; padding: 5px 5px 3px 10px; line-height: 1.5; text-align: left; color:black;border-radius: 3px;; text-align: left;' colspan=\"3\"><b><i>get_weekly_adjusted()</b></i> - weekly data</font></th>\n",
    "\t\t</tr>\n",
    "\t</table>\n",
    "</html>"
   ]
  },
  {
   "cell_type": "code",
   "execution_count": null,
   "id": "442a552c-8d7f-4b0f-9d29-62c4688e0289",
   "metadata": {},
   "outputs": [],
   "source": [
    "pretty('ts.get_weekly_adjusted()')\n",
    "help(ts.get_weekly_adjusted)"
   ]
  },
  {
   "cell_type": "code",
   "execution_count": null,
   "id": "4a7970df-bea6-4140-a7b1-7234d7fde56d",
   "metadata": {},
   "outputs": [],
   "source": [
    "ts.get_weekly_adjusted(ticker)[0].head(3)"
   ]
  },
  {
   "cell_type": "markdown",
   "id": "6c97ff10-2e33-4993-8a41-42c60f22a7e8",
   "metadata": {},
   "source": [
    "<html>\n",
    "\t<table style=\"width:100%;\">\n",
    "\t\t<tr>\n",
    "\t\t\t<th style = 'font-size: 16px; font-weight: 500; background-color: #f6b48f; padding: 5px 5px 3px 10px; line-height: 1.5; text-align: left; color:black;border-radius: 3px;; text-align: left;' colspan=\"3\"><b><i>intraday</b></i> - interval of 60 minutes (default = 15 minutes)</font></th>\n",
    "\t\t</tr>\n",
    "\t</table>\n",
    "</html>"
   ]
  },
  {
   "cell_type": "code",
   "execution_count": null,
   "id": "6aed1edf-3bde-4f17-9d97-3b7ad2bae992",
   "metadata": {},
   "outputs": [],
   "source": [
    "pretty('ts.get_intraday()')\n",
    "help(ts.get_intraday)"
   ]
  },
  {
   "cell_type": "code",
   "execution_count": null,
   "id": "4b597b55-eac6-451f-a485-9e7c2c248d44",
   "metadata": {},
   "outputs": [],
   "source": [
    "ts.get_intraday(ticker, outputsize = 'full', interval = '60min')[0].head(3)"
   ]
  },
  {
   "cell_type": "markdown",
   "id": "3f33e51d-36b7-4610-aa37-a623e3088787",
   "metadata": {},
   "source": [
    "<html>\n",
    "\t<table style=\"width:100%;\">\n",
    "\t\t<tr>\n",
    "\t\t\t<th style = 'font-size: 16px; font-weight: 500; background-color: #f6b48f; padding: 5px 5px 3px 10px; line-height: 1.5; text-align: left; color:black;border-radius: 3px;; text-align: left;' colspan=\"3\"><b><i>intraday</b></i> - interval of 1 minute</font></th>\n",
    "\t\t</tr>\n",
    "\t</table>\n",
    "</html>"
   ]
  },
  {
   "cell_type": "code",
   "execution_count": null,
   "id": "74b14575-f45c-42b5-9392-038dda14f94f",
   "metadata": {},
   "outputs": [],
   "source": [
    "ts.get_intraday(ticker, outputsize = 'full', interval = '1min')[0].head(3)"
   ]
  },
  {
   "cell_type": "markdown",
   "id": "7393cca9-ec08-4573-8801-3265d147aee7",
   "metadata": {},
   "source": [
    "<a name = 'indicators'></a>\n",
    "\n",
    "<hr class=\"dashed\" style = 'color: #ad1759'>\n",
    "\n",
    "<html>\n",
    "\t<table style=\"width:100%;\">\n",
    "\t\t<tr>\n",
    "\t\t\t<th style = 'background-color: #f6b48f; padding: 5px 5px 3px 5px; line-height: 1.5; color:white; border-radius: 3px; font-size: 14px; font-weight: 475; text-align: center;'  colspan=\"3\"> |  <a href=\"#top\">Top</a>  |  <a href=\"#data\">Getting Data</a>  |  <a href=\"#splits\">Splits & Dividends</a>   |  <a href=\"#datetime\">The Datetime Index</a>  |  <a href=\"#intervals\">Frequency & Intervals</a>  |  <a href=\"#indicators\">Technical Indicators</a>  |  <a href=\"#foreign\">Foreign Exchange</a>  |  <a href=\"#crypto\">Cryptocurrencies</a>  |  </font></th>\n",
    "\t\t</tr>\n",
    "\t</table>\n",
    "</html>\n",
    "\n",
    "<hr class=\"dashed\" style = 'color: #ad1759'>\n",
    "\n"
   ]
  },
  {
   "cell_type": "markdown",
   "id": "b124a893-fcd0-4496-ab77-d74a7cf465b1",
   "metadata": {},
   "source": [
    "<html>\n",
    "\t<table style=\"width:100%;\">\n",
    "\t\t<tr>\n",
    "\t\t\t<th style = 'background-color: #35193e; padding: 5px 5px 3px 5px; line-height: 1.5; color:white;border-radius: 3px;; text-align: center; border-top: 1.5px solid white;' colspan=\"3\"><font size = 6>Technical Indicators</font></th>\n",
    "\t\t</tr>\n",
    "\t\t<tr>\n",
    "\t\t\t<th style = 'font-size: 15px; font-weight: 525; background-color: #ad1759; padding: 8px; line-height: 1.5; color:white; border-radius: 3px;; text-align: left; border-top: 1.5px solid white;' colspan=\"3\">- Typically used by day traders and technical analysts to find patterns in historical price and volume data<br>- Alpha Vantage offers 50 technical indicators </font></th>\n",
    "\t\t</tr>\n",
    "\t</table>\n",
    "</html>"
   ]
  },
  {
   "cell_type": "code",
   "execution_count": 5,
   "id": "6bb0ee5b-27f4-458a-9064-9407e6c1444a",
   "metadata": {},
   "outputs": [],
   "source": [
    "from alpha_vantage.techindicators import TechIndicators"
   ]
  },
  {
   "cell_type": "code",
   "execution_count": 6,
   "id": "110d0771-2a4c-440c-9132-2c2265f19948",
   "metadata": {},
   "outputs": [],
   "source": [
    "indicator = TechIndicators(key = api_key, output_format = 'pandas')"
   ]
  },
  {
   "cell_type": "code",
   "execution_count": 7,
   "id": "34d64dfd-b9bf-4aba-9d1b-04b9d3e7921d",
   "metadata": {},
   "outputs": [
    {
     "data": {
      "text/html": [
       "<style type=\"text/css\">\n",
       "#T_1bac5 .row0 {\n",
       "  background-color: #ad1759;\n",
       "  color: white;\n",
       "  font-size: 15px;\n",
       "  font-weight: bold;\n",
       "  text-align: left;\n",
       "  padding: 8px;\n",
       "}\n",
       "#T_1bac5 tbody {\n",
       "  border: 1px solid;\n",
       "  border-color: black;\n",
       "}\n",
       "#T_1bac5 tr {\n",
       "  border: 0.8px solid;\n",
       "  border-color: black;\n",
       "}\n",
       "</style>\n",
       "<table id=\"T_1bac5\">\n",
       "  <thead>\n",
       "  </thead>\n",
       "  <tbody>\n",
       "    <tr>\n",
       "      <td id=\"T_1bac5_row0_col0\" class=\"data row0 col0\" >TechIndicators()</td>\n",
       "    </tr>\n",
       "  </tbody>\n",
       "</table>\n"
      ],
      "text/plain": [
       "<pandas.io.formats.style.Styler at 0x7faef368caf0>"
      ]
     },
     "metadata": {},
     "output_type": "display_data"
    },
    {
     "name": "stdout",
     "output_type": "stream",
     "text": [
      "\n",
      "Help on TechIndicators in module alpha_vantage.techindicators object:\n",
      "\n",
      "class TechIndicators(alpha_vantage.alphavantage.AlphaVantage)\n",
      " |  TechIndicators(*args, **kwargs)\n",
      " |  \n",
      " |  This class implements all the technical indicator api calls\n",
      " |  \n",
      " |  Method resolution order:\n",
      " |      TechIndicators\n",
      " |      alpha_vantage.alphavantage.AlphaVantage\n",
      " |      builtins.object\n",
      " |  \n",
      " |  Methods defined here:\n",
      " |  \n",
      " |  __init__(self, *args, **kwargs)\n",
      " |      Inherit AlphaVantage base class with its default arguments\n",
      " |  \n",
      " |  get_ad(self, symbol, interval='daily')\n",
      " |      Return the Chaikin A/D line values in two json\n",
      " |      objects as data and meta_data. It raises ValueError when problems arise\n",
      " |      \n",
      " |      Keyword Arguments:\n",
      " |          symbol:  the symbol for the equity we want to get its data\n",
      " |          interval:  time interval between two conscutive values,\n",
      " |              supported values are '1min', '5min', '15min', '30min', '60min', 'daily',\n",
      " |              'weekly', 'monthly' (default 'daily')\n",
      " |  \n",
      " |  get_adosc(self, symbol, interval='daily', fastperiod=None, slowperiod=None)\n",
      " |      Return the Chaikin A/D oscillator values in two\n",
      " |      json objects as data and meta_data. It raises ValueError when problems\n",
      " |      arise\n",
      " |      \n",
      " |      Keyword Arguments:\n",
      " |          symbol:  the symbol for the equity we want to get its data\n",
      " |          interval:  time interval between two conscutive values,\n",
      " |              supported values are '1min', '5min', '15min', '30min', '60min', 'daily',\n",
      " |              'weekly', 'monthly' (default 'daily'\n",
      " |          fastperiod:  Positive integers are accepted (default=None)\n",
      " |          slowperiod:  Positive integers are accepted (default=None)\n",
      " |  \n",
      " |  get_adx(self, symbol, interval='daily', time_period=20)\n",
      " |      Return  the average directional movement index values in two json\n",
      " |      objects as data and meta_data. It raises ValueError when problems arise\n",
      " |      \n",
      " |      Keyword Arguments:\n",
      " |          symbol:  the symbol for the equity we want to get its data\n",
      " |          interval:  time interval between two conscutive values,\n",
      " |              supported values are '1min', '5min', '15min', '30min', '60min', 'daily',\n",
      " |              'weekly', 'monthly' (default 'daily')\n",
      " |          time_period:  How many data points to average (default 20)\n",
      " |  \n",
      " |  get_adxr(self, symbol, interval='daily', time_period=20)\n",
      " |      Return  the average directional movement index  rating in two json\n",
      " |      objects as data and meta_data. It raises ValueError when problems arise\n",
      " |      \n",
      " |      Keyword Arguments:\n",
      " |          symbol:  the symbol for the equity we want to get its data\n",
      " |          interval:  time interval between two conscutive values,\n",
      " |              supported values are '1min', '5min', '15min', '30min', '60min', 'daily',\n",
      " |              'weekly', 'monthly' (default 'daily')\n",
      " |          time_period:  How many data points to average (default 20)\n",
      " |  \n",
      " |  get_apo(self, symbol, interval='daily', series_type='close', fastperiod=None, slowperiod=None, matype=None)\n",
      " |      Return the absolute price oscillator values in two\n",
      " |      json objects as data and meta_data. It raises ValueError when problems\n",
      " |      arise\n",
      " |      \n",
      " |      Keyword Arguments:\n",
      " |          symbol:  the symbol for the equity we want to get its data\n",
      " |          interval:  time interval between two conscutive values,\n",
      " |              supported values are '1min', '5min', '15min', '30min', '60min', 'daily',\n",
      " |              'weekly', 'monthly' (default '60min)'\n",
      " |          series_type:  The desired price type in the time series. Four types\n",
      " |              are supported: 'close', 'open', 'high', 'low' (default 'close')\n",
      " |          fastperiod:  Positive integers are accepted (default=None)\n",
      " |          slowperiod:  Positive integers are accepted (default=None)\n",
      " |          matype    :  Moving average type. By default, fastmatype=0.\n",
      " |              Integers 0 - 8 are accepted (check  down the mappings) or the string\n",
      " |              containing the math type can also be used.\n",
      " |      \n",
      " |              * 0 = Simple Moving Average (SMA),\n",
      " |              * 1 = Exponential Moving Average (EMA),\n",
      " |              * 2 = Weighted Moving Average (WMA),\n",
      " |              * 3 = Double Exponential Moving Average (DEMA),\n",
      " |              * 4 = Triple Exponential Moving Average (TEMA),\n",
      " |              * 5 = Triangular Moving Average (TRIMA),\n",
      " |              * 6 = T3 Moving Average,\n",
      " |              * 7 = Kaufman Adaptive Moving Average (KAMA),\n",
      " |              * 8 = MESA Adaptive Moving Average (MAMA)\n",
      " |  \n",
      " |  get_aroon(self, symbol, interval='daily', time_period=20, series_type='close')\n",
      " |      Return the aroon values in two json\n",
      " |      objects as data and meta_data. It raises ValueError when problems arise\n",
      " |      \n",
      " |      Keyword Arguments:\n",
      " |          symbol:  the symbol for the equity we want to get its data\n",
      " |          interval:  time interval between two conscutive values,\n",
      " |              supported values are '1min', '5min', '15min', '30min', '60min', 'daily',\n",
      " |              'weekly', 'monthly' (default 'daily')\n",
      " |          time_period:  How many data points to average (default 20)\n",
      " |          series_type:  The desired price type in the time series. Four types\n",
      " |              are supported: 'close', 'open', 'high', 'low' (default 'close')\n",
      " |  \n",
      " |  get_aroonosc(self, symbol, interval='daily', time_period=20, series_type='close')\n",
      " |      Return the aroon oscillator values in two json\n",
      " |      objects as data and meta_data. It raises ValueError when problems arise\n",
      " |      \n",
      " |      Keyword Arguments:\n",
      " |          symbol:  the symbol for the equity we want to get its data\n",
      " |          interval:  time interval between two conscutive values,\n",
      " |              supported values are '1min', '5min', '15min', '30min', '60min', 'daily',\n",
      " |              'weekly', 'monthly' (default 'daily')\n",
      " |          time_period:  How many data points to average (default 20)\n",
      " |          series_type:  The desired price type in the time series. Four types\n",
      " |              are supported: 'close', 'open', 'high', 'low' (default 'close')\n",
      " |  \n",
      " |  get_atr(self, symbol, interval='daily', time_period=20)\n",
      " |      Return the average true range values in two json objects as\n",
      " |      data and meta_data. It raises ValueError when problems arise\n",
      " |      \n",
      " |      Keyword Arguments:\n",
      " |          symbol:  the symbol for the equity we want to get its data\n",
      " |          interval:  time interval between two conscutive values,\n",
      " |              supported values are '1min', '5min', '15min', '30min', '60min', 'daily',\n",
      " |              'weekly', 'monthly' (default 'daily')\n",
      " |          time_period:  How many data points to average (default 20)\n",
      " |  \n",
      " |  get_bbands(self, symbol, interval='daily', time_period=20, series_type='close', nbdevup=None, nbdevdn=None, matype=None)\n",
      " |      Return the bollinger bands values in two\n",
      " |      json objects as data and meta_data. It raises ValueError when problems\n",
      " |      arise\n",
      " |      \n",
      " |      Keyword Arguments:\n",
      " |          symbol:  the symbol for the equity we want to get its data\n",
      " |          interval:  time interval between two conscutive values,\n",
      " |              supported values are '1min', '5min', '15min', '30min', '60min', 'daily',\n",
      " |              'weekly', 'monthly' (default 'daily')\n",
      " |          time_period:  Number of data points used to calculate each BBANDS value.\n",
      " |              Positive integers are accepted (e.g., time_period=60, time_period=200)\n",
      " |              (default=20)\n",
      " |          series_type:  The desired price type in the time series. Four types\n",
      " |              are supported: 'close', 'open', 'high', 'low' (default 'close')\n",
      " |          nbdevup:  The standard deviation multiplier of the upper band. Positive\n",
      " |              integers are accepted as default (default=2)\n",
      " |          nbdevdn:  The standard deviation multiplier of the lower band. Positive\n",
      " |              integers are accepted as default (default=2)\n",
      " |          matype :  Moving average type. By default, matype=0.\n",
      " |              Integers 0 - 8 are accepted (check  down the mappings) or the string\n",
      " |              containing the math type can also be used.\n",
      " |      \n",
      " |              * 0 = Simple Moving Average (SMA),\n",
      " |              * 1 = Exponential Moving Average (EMA),\n",
      " |              * 2 = Weighted Moving Average (WMA),\n",
      " |              * 3 = Double Exponential Moving Average (DEMA),\n",
      " |              * 4 = Triple Exponential Moving Average (TEMA),\n",
      " |              * 5 = Triangular Moving Average (TRIMA),\n",
      " |              * 6 = T3 Moving Average,\n",
      " |              * 7 = Kaufman Adaptive Moving Average (KAMA),\n",
      " |              * 8 = MESA Adaptive Moving Average (MAMA)\n",
      " |  \n",
      " |  get_bop(self, symbol, interval='daily', time_period=20)\n",
      " |      Return the balance of power values in two json\n",
      " |      objects as data and meta_data. It raises ValueError when problems arise\n",
      " |      \n",
      " |      Keyword Arguments:\n",
      " |          symbol:  the symbol for the equity we want to get its data\n",
      " |          interval:  time interval between two conscutive values,\n",
      " |              supported values are '1min', '5min', '15min', '30min', '60min', 'daily',\n",
      " |              'weekly', 'monthly' (default 'daily')\n",
      " |          time_period:  How many data points to average (default 20)\n",
      " |  \n",
      " |  get_cci(self, symbol, interval='daily', time_period=20)\n",
      " |      Return the commodity channel index values  in two json\n",
      " |      objects as data and meta_data. It raises ValueError when problems arise\n",
      " |      \n",
      " |      Keyword Arguments:\n",
      " |          symbol:  the symbol for the equity we want to get its data\n",
      " |          interval:  time interval between two conscutive values,\n",
      " |              supported values are '1min', '5min', '15min', '30min', '60min', 'daily',\n",
      " |              'weekly', 'monthly' (default 'daily')\n",
      " |          time_period:  How many data points to average (default 20)\n",
      " |  \n",
      " |  get_cmo(self, symbol, interval='daily', time_period=20, series_type='close')\n",
      " |      Return the Chande momentum oscillator in two json\n",
      " |      objects as data and meta_data. It raises ValueError when problems arise\n",
      " |      \n",
      " |      Keyword Arguments:\n",
      " |          symbol:  the symbol for the equity we want to get its data\n",
      " |          interval:  time interval between two conscutive values,\n",
      " |              supported values are '1min', '5min', '15min', '30min', '60min', 'daily',\n",
      " |              'weekly', 'monthly' (default 'daily')\n",
      " |          time_period:  How many data points to average (default 20)\n",
      " |          series_type:  The desired price type in the time series. Four types\n",
      " |              are supported: 'close', 'open', 'high', 'low' (default 'close')\n",
      " |  \n",
      " |  get_dema(self, symbol, interval='daily', time_period=20, series_type='close')\n",
      " |      Return double exponential moving average time series in two json\n",
      " |      objects as data and meta_data. It raises ValueError when problems arise\n",
      " |      \n",
      " |      Keyword Arguments:\n",
      " |          symbol:  the symbol for the equity we want to get its data\n",
      " |          interval:  time interval between two conscutive values,\n",
      " |              supported values are '1min', '5min', '15min', '30min', '60min', 'daily',\n",
      " |              'weekly', 'monthly' (default 'daily')\n",
      " |          time_period:  How many data points to average (default 20)\n",
      " |          series_type:  The desired price type in the time series. Four types\n",
      " |              are supported: 'close', 'open', 'high', 'low' (default 'close')\n",
      " |  \n",
      " |  get_dx(self, symbol, interval='daily', time_period=20, series_type='close')\n",
      " |      Return the directional movement index values in two json objects as\n",
      " |      data and meta_data. It raises ValueError when problems arise\n",
      " |      \n",
      " |      Keyword Arguments:\n",
      " |          symbol:  the symbol for the equity we want to get its data\n",
      " |          interval:  time interval between two conscutive values,\n",
      " |              supported values are '1min', '5min', '15min', '30min', '60min', 'daily',\n",
      " |              'weekly', 'monthly' (default 'daily')\n",
      " |          time_period:  How many data points to average (default 20)\n",
      " |          series_type:  The desired price type in the time series. Four types\n",
      " |              are supported: 'close', 'open', 'high', 'low' (default 'close')\n",
      " |  \n",
      " |  get_ema(self, symbol, interval='daily', time_period=20, series_type='close')\n",
      " |      Return exponential moving average time series in two json objects\n",
      " |      as data and meta_data. It raises ValueError when problems arise\n",
      " |      \n",
      " |      Keyword Arguments:\n",
      " |          symbol:  the symbol for the equity we want to get its data\n",
      " |          interval:  time interval between two conscutive values,\n",
      " |              supported values are '1min', '5min', '15min', '30min', '60min', 'daily',\n",
      " |              'weekly', 'monthly' (default 'daily')\n",
      " |          time_period:  How many data points to average (default 20)\n",
      " |          series_type:  The desired price type in the time series. Four types\n",
      " |              are supported: 'close', 'open', 'high', 'low' (default 'close')\n",
      " |  \n",
      " |  get_ht_dcperiod(self, symbol, interval='daily', series_type='close')\n",
      " |      Return the Hilbert transform, dominant cycle period in two\n",
      " |      json objects as data and meta_data. It raises ValueError when problems arise\n",
      " |      \n",
      " |      Keyword Arguments:\n",
      " |          symbol:  the symbol for the equity we want to get its data\n",
      " |          interval:  time interval between two conscutive values,\n",
      " |              supported values are '1min', '5min', '15min', '30min', '60min', 'daily',\n",
      " |              'weekly', 'monthly' (default 'daily')\n",
      " |          series_type:  The desired price type in the time series. Four types\n",
      " |              are supported: 'close', 'open', 'high', 'low' (default 'close')\n",
      " |  \n",
      " |  get_ht_dcphase(self, symbol, interval='daily', series_type='close')\n",
      " |      Return the Hilbert transform, dominant cycle phase in two\n",
      " |      json objects as data and meta_data. It raises ValueError when problems arise\n",
      " |      \n",
      " |      Keyword Arguments:\n",
      " |          symbol:  the symbol for the equity we want to get its data\n",
      " |          interval:  time interval between two conscutive values,\n",
      " |              supported values are '1min', '5min', '15min', '30min', '60min', 'daily',\n",
      " |              'weekly', 'monthly' (default 'daily')\n",
      " |          series_type:  The desired price type in the time series. Four types\n",
      " |              are supported: 'close', 'open', 'high', 'low' (default 'close')\n",
      " |  \n",
      " |  get_ht_phasor(self, symbol, interval='daily', series_type='close')\n",
      " |      Return the Hilbert transform, phasor components in two\n",
      " |      json objects as data and meta_data. It raises ValueError when problems arise\n",
      " |      \n",
      " |      Keyword Arguments:\n",
      " |          symbol:  the symbol for the equity we want to get its data\n",
      " |          interval:  time interval between two conscutive values,\n",
      " |              supported values are '1min', '5min', '15min', '30min', '60min', 'daily',\n",
      " |              'weekly', 'monthly' (default 'daily')\n",
      " |          series_type:  The desired price type in the time series. Four types\n",
      " |              are supported: 'close', 'open', 'high', 'low' (default 'close')\n",
      " |  \n",
      " |  get_ht_sine(self, symbol, interval='daily', series_type='close')\n",
      " |      Return the Hilbert transform, sine wave values in two\n",
      " |      json objects as data and meta_data. It raises ValueError when problems arise\n",
      " |      \n",
      " |      Keyword Arguments:\n",
      " |          symbol:  the symbol for the equity we want to get its data\n",
      " |          interval:  time interval between two conscutive values,\n",
      " |              supported values are '1min', '5min', '15min', '30min', '60min', 'daily',\n",
      " |              'weekly', 'monthly' (default 'daily')\n",
      " |          series_type:  The desired price type in the time series. Four types\n",
      " |          are supported: 'close', 'open', 'high', 'low' (default 'close')\n",
      " |  \n",
      " |  get_ht_trendline(self, symbol, interval='daily', series_type='close')\n",
      " |      Return the Hilbert transform, instantaneous trendline values in two\n",
      " |      json objects as data and meta_data. It raises ValueError when problems arise\n",
      " |      \n",
      " |      Keyword Arguments:\n",
      " |          symbol:  the symbol for the equity we want to get its data\n",
      " |          interval:  time interval between two conscutive values,\n",
      " |              supported values are '1min', '5min', '15min', '30min', '60min', 'daily',\n",
      " |              'weekly', 'monthly' (default 'daily')\n",
      " |          series_type:  The desired price type in the time series. Four types\n",
      " |              are supported: 'close', 'open', 'high', 'low' (default 'close')\n",
      " |  \n",
      " |  get_ht_trendmode(self, symbol, interval='daily', series_type='close')\n",
      " |      Return the Hilbert transform, trend vs cycle mode in two\n",
      " |      json objects as data and meta_data. It raises ValueError when problems arise\n",
      " |      \n",
      " |      Keyword Arguments:\n",
      " |          symbol:  the symbol for the equity we want to get its data\n",
      " |          interval:  time interval between two conscutive values,\n",
      " |              supported values are '1min', '5min', '15min', '30min', '60min', 'daily',\n",
      " |              'weekly', 'monthly' (default 'daily')\n",
      " |          series_type:  The desired price type in the time series. Four types\n",
      " |              are supported: 'close', 'open', 'high', 'low' (default 'close')\n",
      " |  \n",
      " |  get_kama(self, symbol, interval='daily', time_period=20, series_type='close')\n",
      " |      Return Kaufman adaptative moving average time series in two json\n",
      " |      objects as data and meta_data. It raises ValueError when problems arise\n",
      " |      \n",
      " |      Keyword Arguments:\n",
      " |          symbol:  the symbol for the equity we want to get its data\n",
      " |          interval:  time interval between two conscutive values,\n",
      " |              supported values are '1min', '5min', '15min', '30min', '60min', 'daily',\n",
      " |              'weekly', 'monthly' (default 'daily')\n",
      " |          time_period:  How many data points to average (default 20)\n",
      " |          series_type:  The desired price type in the time series. Four types\n",
      " |              are supported: 'close', 'open', 'high', 'low' (default 'close')\n",
      " |  \n",
      " |  get_macd(self, symbol, interval='daily', series_type='close', fastperiod=None, slowperiod=None, signalperiod=None)\n",
      " |      Return the moving average convergence/divergence time series in two\n",
      " |      json objects as data and meta_data. It raises ValueError when problems\n",
      " |      arise\n",
      " |      \n",
      " |      Keyword Arguments:\n",
      " |          symbol:  the symbol for the equity we want to get its data\n",
      " |          interval:  time interval between two conscutive values,\n",
      " |              supported values are '1min', '5min', '15min', '30min', '60min', 'daily',\n",
      " |              'weekly', 'monthly' (default 'daily'\n",
      " |          series_type:  The desired price type in the time series. Four types\n",
      " |              are supported: 'close', 'open', 'high', 'low' (default 'close')\n",
      " |          fastperiod:  Positive integers are accepted (default=None)\n",
      " |          slowperiod:  Positive integers are accepted (default=None)\n",
      " |          signalperiod:  Positive integers are accepted (default=None)\n",
      " |  \n",
      " |  get_macdext(self, symbol, interval='daily', series_type='close', fastperiod=None, slowperiod=None, signalperiod=None, fastmatype=None, slowmatype=None, signalmatype=None)\n",
      " |      Return the moving average convergence/divergence time series in two\n",
      " |      json objects as data and meta_data. It raises ValueError when problems\n",
      " |      arise\n",
      " |      \n",
      " |      Keyword Arguments:\n",
      " |          symbol:  the symbol for the equity we want to get its data\n",
      " |          interval:  time interval between two conscutive values,\n",
      " |              supported values are '1min', '5min', '15min', '30min', '60min', 'daily',\n",
      " |              'weekly', 'monthly' (default 'daily')\n",
      " |          series_type:  The desired price type in the time series. Four types\n",
      " |              are supported: 'close', 'open', 'high', 'low' (default 'close')\n",
      " |          fastperiod:  Positive integers are accepted (default=None)\n",
      " |          slowperiod:  Positive integers are accepted (default=None)\n",
      " |          signalperiod:  Positive integers are accepted (default=None)\n",
      " |          fastmatype:  Moving average type for the faster moving average.\n",
      " |              By default, fastmatype=0. Integers 0 - 8 are accepted\n",
      " |              (check  down the mappings) or the string containing the math type can\n",
      " |              also be used.\n",
      " |          slowmatype:  Moving average type for the slower moving average.\n",
      " |              By default, slowmatype=0. Integers 0 - 8 are accepted\n",
      " |              (check down the mappings) or the string containing the math type can\n",
      " |              also be used.\n",
      " |          signalmatype:  Moving average type for the signal moving average.\n",
      " |              By default, signalmatype=0. Integers 0 - 8 are accepted\n",
      " |              (check down the mappings) or the string containing the math type can\n",
      " |              also be used.\n",
      " |      \n",
      " |              * 0 = Simple Moving Average (SMA),\n",
      " |              * 1 = Exponential Moving Average (EMA),\n",
      " |              * 2 = Weighted Moving Average (WMA),\n",
      " |              * 3 = Double Exponential Moving Average (DEMA),\n",
      " |              * 4 = Triple Exponential Moving Average (TEMA),\n",
      " |              * 5 = Triangular Moving Average (TRIMA),\n",
      " |              * 6 = T3 Moving Average,\n",
      " |              * 7 = Kaufman Adaptive Moving Average (KAMA),\n",
      " |              * 8 = MESA Adaptive Moving Average (MAMA)\n",
      " |  \n",
      " |  get_mama(self, symbol, interval='daily', series_type='close', fastlimit=None, slowlimit=None)\n",
      " |      Return MESA adaptative moving average time series in two json\n",
      " |      objects as data and meta_data. It raises ValueError when problems arise\n",
      " |      \n",
      " |      Keyword Arguments:\n",
      " |          symbol:  the symbol for the equity we want to get its data\n",
      " |          interval:  time interval between two conscutive values,\n",
      " |              supported values are '1min', '5min', '15min', '30min', '60min', 'daily',\n",
      " |              'weekly', 'monthly' (default 'daily')\n",
      " |          series_type:  The desired price type in the time series. Four types\n",
      " |              are supported: 'close', 'open', 'high', 'low' (default 'close')\n",
      " |          fastlimit:  Positive floats for the fast limit are accepted\n",
      " |              (default=None)\n",
      " |          slowlimit:  Positive floats for the slow limit are accepted\n",
      " |              (default=None)\n",
      " |  \n",
      " |  get_mfi(self, symbol, interval='daily', time_period=20, series_type='close')\n",
      " |      Return the money flow index values in two json\n",
      " |      objects as data and meta_data. It raises ValueError when problems arise\n",
      " |      \n",
      " |      Keyword Arguments:\n",
      " |          symbol:  the symbol for the equity we want to get its data\n",
      " |          interval:  time interval between two conscutive values,\n",
      " |              supported values are '1min', '5min', '15min', '30min', '60min', 'daily',\n",
      " |              'weekly', 'monthly' (default 'daily')\n",
      " |          time_period:  How many data points to average (default 20)\n",
      " |          series_type:  The desired price type in the time series. Four types\n",
      " |              are supported: 'close', 'open', 'high', 'low' (default 'close')\n",
      " |  \n",
      " |  get_midpoint(self, symbol, interval='daily', time_period=20, series_type='close')\n",
      " |      Return the midpoint values in two json objects as\n",
      " |      data and meta_data. It raises ValueError when problems arise\n",
      " |      \n",
      " |      Keyword Arguments:\n",
      " |          symbol:  the symbol for the equity we want to get its data\n",
      " |          interval:  time interval between two conscutive values,\n",
      " |              supported values are '1min', '5min', '15min', '30min', '60min', 'daily',\n",
      " |              'weekly', 'monthly' (default 'daily')\n",
      " |          time_period:  How many data points to average (default 20)\n",
      " |          series_type:  The desired price type in the time series. Four types\n",
      " |              are supported: 'close', 'open', 'high', 'low' (default 'close')\n",
      " |  \n",
      " |  get_midprice(self, symbol, interval='daily', time_period=20)\n",
      " |      Return the midprice values in two json objects as\n",
      " |      data and meta_data. It raises ValueError when problems arise\n",
      " |      \n",
      " |      Keyword Arguments:\n",
      " |          symbol:  the symbol for the equity we want to get its data\n",
      " |          interval:  time interval between two conscutive values,\n",
      " |              supported values are '1min', '5min', '15min', '30min', '60min', 'daily',\n",
      " |              'weekly', 'monthly' (default 'daily')\n",
      " |          time_period:  How many data points to average (default 20)\n",
      " |  \n",
      " |  get_minus_di(self, symbol, interval='daily', time_period=20)\n",
      " |      Return the minus directional indicator values in two json\n",
      " |      objects as data and meta_data. It raises ValueError when problems arise\n",
      " |      \n",
      " |      Keyword Arguments:\n",
      " |          symbol:  the symbol for the equity we want to get its data\n",
      " |          interval:  time interval between two conscutive values,\n",
      " |              supported values are '1min', '5min', '15min', '30min', '60min', 'daily',\n",
      " |              'weekly', 'monthly' (default 'daily')\n",
      " |          time_period:  How many data points to average (default 20)\n",
      " |  \n",
      " |  get_minus_dm(self, symbol, interval='daily', time_period=20)\n",
      " |      Return the minus directional movement values in two json\n",
      " |      objects as data and meta_data. It raises ValueError when problems arise\n",
      " |      \n",
      " |      Keyword Arguments:\n",
      " |          symbol:  the symbol for the equity we want to get its data\n",
      " |          interval:  time interval between two conscutive values,\n",
      " |              supported values are '1min', '5min', '15min', '30min', '60min', 'daily',\n",
      " |              'weekly', 'monthly' (default 'daily')\n",
      " |  \n",
      " |  get_mom(self, symbol, interval='daily', time_period=20, series_type='close')\n",
      " |      Return the momentum values in two json\n",
      " |      objects as data and meta_data. It raises ValueError when problems arise\n",
      " |      \n",
      " |      Keyword Arguments:\n",
      " |          symbol:  the symbol for the equity we want to get its data\n",
      " |          interval:  time interval between two conscutive values,\n",
      " |              supported values are '1min', '5min', '15min', '30min', '60min', 'daily',\n",
      " |              'weekly', 'monthly' (default 'daily')\n",
      " |          time_period:  How many data points to average (default 20)\n",
      " |          series_type:  The desired price type in the time series. Four types\n",
      " |              are supported: 'close', 'open', 'high', 'low' (default 'close')\n",
      " |  \n",
      " |  get_natr(self, symbol, interval='daily', time_period=20)\n",
      " |      Return the normalized average true range values in two json objects\n",
      " |      as data and meta_data. It raises ValueError when problems arise\n",
      " |      \n",
      " |      Keyword Arguments:\n",
      " |          symbol:  the symbol for the equity we want to get its data\n",
      " |          interval:  time interval between two conscutive values,\n",
      " |              supported values are '1min', '5min', '15min', '30min', '60min', 'daily',\n",
      " |              'weekly', 'monthly' (default 'daily')\n",
      " |          time_period:  How many data points to average (default 20)\n",
      " |  \n",
      " |  get_obv(self, symbol, interval='daily')\n",
      " |      Return the on balance volume values in two json\n",
      " |      objects as data and meta_data. It raises ValueError when problems arise\n",
      " |      \n",
      " |      Keyword Arguments:\n",
      " |          symbol:  the symbol for the equity we want to get its data\n",
      " |          interval:  time interval between two conscutive values,\n",
      " |              supported values are '1min', '5min', '15min', '30min', '60min', 'daily',\n",
      " |              'weekly', 'monthly' (default 'daily')\n",
      " |  \n",
      " |  get_plus_di(self, symbol, interval='daily', time_period=20)\n",
      " |      Return the plus directional indicator values in two json\n",
      " |      objects as data and meta_data. It raises ValueError when problems arise\n",
      " |      \n",
      " |      Keyword Arguments:\n",
      " |          symbol:  the symbol for the equity we want to get its data\n",
      " |          interval:  time interval between two conscutive values,\n",
      " |              supported values are '1min', '5min', '15min', '30min', '60min', 'daily',\n",
      " |              'weekly', 'monthly' (default 'daily')\n",
      " |          time_period:  How many data points to average (default 20)\n",
      " |  \n",
      " |  get_plus_dm(self, symbol, interval='daily', time_period=20)\n",
      " |      Return the plus directional movement values in two json\n",
      " |      objects as data and meta_data. It raises ValueError when problems arise\n",
      " |      \n",
      " |      Keyword Arguments:\n",
      " |          symbol:  the symbol for the equity we want to get its data\n",
      " |          interval:  time interval between two conscutive values,\n",
      " |              supported values are '1min', '5min', '15min', '30min', '60min', 'daily',\n",
      " |              'weekly', 'monthly' (default 'daily')\n",
      " |  \n",
      " |  get_ppo(self, symbol, interval='daily', series_type='close', fastperiod=None, slowperiod=None, matype=None)\n",
      " |      Return the percentage price oscillator values in two\n",
      " |      json objects as data and meta_data. It raises ValueError when problems\n",
      " |      arise\n",
      " |      \n",
      " |      Keyword Arguments:\n",
      " |          symbol:  the symbol for the equity we want to get its data\n",
      " |          interval:  time interval between two conscutive values,\n",
      " |              supported values are '1min', '5min', '15min', '30min', '60min', 'daily',\n",
      " |              'weekly', 'monthly' (default 'daily'\n",
      " |          series_type:  The desired price type in the time series. Four types\n",
      " |              are supported: 'close', 'open', 'high', 'low' (default 'close')\n",
      " |          fastperiod:  Positive integers are accepted (default=None)\n",
      " |          slowperiod:  Positive integers are accepted (default=None)\n",
      " |          matype    :  Moving average type. By default, fastmatype=0.\n",
      " |              Integers 0 - 8 are accepted (check  down the mappings) or the string\n",
      " |              containing the math type can also be used.\n",
      " |      \n",
      " |              * 0 = Simple Moving Average (SMA),\n",
      " |              * 1 = Exponential Moving Average (EMA),\n",
      " |              * 2 = Weighted Moving Average (WMA),\n",
      " |              * 3 = Double Exponential Moving Average (DEMA),\n",
      " |              * 4 = Triple Exponential Moving Average (TEMA),\n",
      " |              * 5 = Triangular Moving Average (TRIMA),\n",
      " |              * 6 = T3 Moving Average,\n",
      " |              * 7 = Kaufman Adaptive Moving Average (KAMA),\n",
      " |              * 8 = MESA Adaptive Moving Average (MAMA)\n",
      " |  \n",
      " |  get_roc(self, symbol, interval='daily', time_period=20, series_type='close')\n",
      " |      Return the rate of change values in two json\n",
      " |      objects as data and meta_data. It raises ValueError when problems arise\n",
      " |      \n",
      " |      Keyword Arguments:\n",
      " |          symbol:  the symbol for the equity we want to get its data\n",
      " |          interval:  time interval between two conscutive values,\n",
      " |              supported values are '1min', '5min', '15min', '30min', '60min', 'daily',\n",
      " |              'weekly', 'monthly' (default 'daily')\n",
      " |          time_period:  How many data points to average (default 20)\n",
      " |          series_type:  The desired price type in the time series. Four types\n",
      " |              are supported: 'close', 'open', 'high', 'low' (default 'close')\n",
      " |  \n",
      " |  get_rocr(self, symbol, interval='daily', time_period=20, series_type='close')\n",
      " |      Return the rate of change ratio values in two json\n",
      " |      objects as data and meta_data. It raises ValueError when problems arise\n",
      " |      \n",
      " |      Keyword Arguments:\n",
      " |          symbol:  the symbol for the equity we want to get its data\n",
      " |          interval:  time interval between two conscutive values,\n",
      " |              supported values are '1min', '5min', '15min', '30min', '60min', 'daily',\n",
      " |              'weekly', 'monthly' (default 'daily')\n",
      " |          time_period:  How many data points to average (default 20)\n",
      " |          series_type:  The desired price type in the time series. Four types\n",
      " |              are supported: 'close', 'open', 'high', 'low' (default 'close')\n",
      " |  \n",
      " |  get_rsi(self, symbol, interval='daily', time_period=20, series_type='close')\n",
      " |      Return the relative strength index time series in two json\n",
      " |      objects as data and meta_data. It raises ValueError when problems arise\n",
      " |      \n",
      " |      Keyword Arguments:\n",
      " |          symbol:  the symbol for the equity we want to get its data\n",
      " |          interval:  time interval between two conscutive values,\n",
      " |              supported values are '1min', '5min', '15min', '30min', '60min', 'daily',\n",
      " |              'weekly', 'monthly' (default 'daily')\n",
      " |          time_period:  How many data points to average (default 20)\n",
      " |          series_type:  The desired price type in the time series. Four types\n",
      " |              are supported: 'close', 'open', 'high', 'low' (default 'close')\n",
      " |  \n",
      " |  get_sar(self, symbol, interval='daily', acceleration=None, maximum=None)\n",
      " |      Return the midprice values in two json objects as\n",
      " |      data and meta_data. It raises ValueError when problems arise\n",
      " |      \n",
      " |      Keyword Arguments:\n",
      " |          symbol:  the symbol for the equity we want to get its data\n",
      " |          interval:  time interval between two conscutive values,\n",
      " |              supported values are '1min', '5min', '15min', '30min', '60min', 'daily',\n",
      " |              'weekly', 'monthly' (default 'daily')\n",
      " |          acceleration:  The acceleration factor. Positive floats are accepted (\n",
      " |              default 0.01)\n",
      " |          maximum:  The acceleration factor maximum value. Positive floats\n",
      " |              are accepted (default 0.20 )\n",
      " |  \n",
      " |  get_sma(self, symbol, interval='daily', time_period=20, series_type='close')\n",
      " |      Return simple moving average time series in two json objects as data and\n",
      " |      meta_data. It raises ValueError when problems arise\n",
      " |      \n",
      " |      Keyword Arguments:\n",
      " |          symbol:  the symbol for the equity we want to get its data\n",
      " |          interval:  time interval between two conscutive values,\n",
      " |              supported values are '1min', '5min', '15min', '30min', '60min', 'daily',\n",
      " |              'weekly', 'monthly' (default 'daily')\n",
      " |          time_period:  How many data points to average (default 20)\n",
      " |          series_type:  The desired price type in the time series. Four types\n",
      " |              are supported: 'close', 'open', 'high', 'low' (default 'close')\n",
      " |  \n",
      " |  get_stoch(self, symbol, interval='daily', fastkperiod=None, slowkperiod=None, slowdperiod=None, slowkmatype=None, slowdmatype=None)\n",
      " |      Return the stochatic oscillator values in two\n",
      " |      json objects as data and meta_data. It raises ValueError when problems\n",
      " |      arise\n",
      " |      \n",
      " |      Keyword Arguments:\n",
      " |          symbol:  the symbol for the equity we want to get its data\n",
      " |          interval:  time interval between two conscutive values,\n",
      " |              supported values are '1min', '5min', '15min', '30min', '60min', 'daily',\n",
      " |              'weekly', 'monthly' (default 'daily')\n",
      " |          fastkperiod:  The time period of the fastk moving average. Positive\n",
      " |              integers are accepted (default=None)\n",
      " |          slowkperiod:  The time period of the slowk moving average. Positive\n",
      " |              integers are accepted (default=None)\n",
      " |          slowdperiod: The time period of the slowd moving average. Positive\n",
      " |              integers are accepted (default=None)\n",
      " |          slowkmatype:  Moving average type for the slowk moving average.\n",
      " |              By default, fastmatype=0. Integers 0 - 8 are accepted\n",
      " |              (check  down the mappings) or the string containing the math type can\n",
      " |              also be used.\n",
      " |          slowdmatype:  Moving average type for the slowd moving average.\n",
      " |              By default, slowmatype=0. Integers 0 - 8 are accepted\n",
      " |              (check down the mappings) or the string containing the math type can\n",
      " |              also be used.\n",
      " |      \n",
      " |              * 0 = Simple Moving Average (SMA),\n",
      " |              * 1 = Exponential Moving Average (EMA),\n",
      " |              * 2 = Weighted Moving Average (WMA),\n",
      " |              * 3 = Double Exponential Moving Average (DEMA),\n",
      " |              * 4 = Triple Exponential Moving Average (TEMA),\n",
      " |              * 5 = Triangular Moving Average (TRIMA),\n",
      " |              * 6 = T3 Moving Average,\n",
      " |              * 7 = Kaufman Adaptive Moving Average (KAMA),\n",
      " |              * 8 = MESA Adaptive Moving Average (MAMA)\n",
      " |  \n",
      " |  get_stochf(self, symbol, interval='daily', fastkperiod=None, fastdperiod=None, fastdmatype=None)\n",
      " |      Return the stochatic oscillator values in two\n",
      " |      json objects as data and meta_data. It raises ValueError when problems\n",
      " |      arise\n",
      " |      \n",
      " |      Keyword Arguments:\n",
      " |          symbol:  the symbol for the equity we want to get its data\n",
      " |          interval:  time interval between two conscutive values,\n",
      " |              supported values are '1min', '5min', '15min', '30min', '60min', 'daily',\n",
      " |              'weekly', 'monthly' (default 'daily')\n",
      " |          fastkperiod:  The time period of the fastk moving average. Positive\n",
      " |              integers are accepted (default=None)\n",
      " |          fastdperiod:  The time period of the fastd moving average. Positive\n",
      " |              integers are accepted (default=None)\n",
      " |          fastdmatype:  Moving average type for the fastdmatype moving average.\n",
      " |              By default, fastmatype=0. Integers 0 - 8 are accepted\n",
      " |              (check  down the mappings) or the string containing the math type can\n",
      " |              also be used.\n",
      " |      \n",
      " |              * 0 = Simple Moving Average (SMA),\n",
      " |              * 1 = Exponential Moving Average (EMA),\n",
      " |              * 2 = Weighted Moving Average (WMA),\n",
      " |              * 3 = Double Exponential Moving Average (DEMA),\n",
      " |              * 4 = Triple Exponential Moving Average (TEMA),\n",
      " |              * 5 = Triangular Moving Average (TRIMA),\n",
      " |              * 6 = T3 Moving Average,\n",
      " |              * 7 = Kaufman Adaptive Moving Average (KAMA),\n",
      " |              * 8 = MESA Adaptive Moving Average (MAMA)\n",
      " |  \n",
      " |  get_stochrsi(self, symbol, interval='daily', time_period=20, series_type='close', fastkperiod=None, fastdperiod=None, fastdmatype=None)\n",
      " |      Return the stochatic relative strength index in two\n",
      " |      json objects as data and meta_data. It raises ValueError when problems\n",
      " |      arise\n",
      " |      \n",
      " |      Keyword Arguments:\n",
      " |          symbol:  the symbol for the equity we want to get its data\n",
      " |          interval:  time interval between two conscutive values,\n",
      " |              supported values are '1min', '5min', '15min', '30min', '60min', 'daily',\n",
      " |              'weekly', 'monthly' (default 'daily')\n",
      " |          time_period:  How many data points to average (default 20)\n",
      " |          series_type:  The desired price type in the time series. Four types\n",
      " |              are supported: 'close', 'open', 'high', 'low' (default 'close')\n",
      " |          fastkperiod:  The time period of the fastk moving average. Positive\n",
      " |              integers are accepted (default=None)\n",
      " |          fastdperiod:  The time period of the fastd moving average. Positive\n",
      " |              integers are accepted (default=None)\n",
      " |          fastdmatype:  Moving average type for the fastdmatype moving average.\n",
      " |              By default, fastmatype=0. Integers 0 - 8 are accepted\n",
      " |              (check  down the mappings) or the string containing the math type can\n",
      " |              also be used.\n",
      " |      \n",
      " |              * 0 = Simple Moving Average (SMA),\n",
      " |              * 1 = Exponential Moving Average (EMA),\n",
      " |              * 2 = Weighted Moving Average (WMA),\n",
      " |              * 3 = Double Exponential Moving Average (DEMA),\n",
      " |              * 4 = Triple Exponential Moving Average (TEMA),\n",
      " |              * 5 = Triangular Moving Average (TRIMA),\n",
      " |              * 6 = T3 Moving Average,\n",
      " |              * 7 = Kaufman Adaptive Moving Average (KAMA),\n",
      " |              * 8 = MESA Adaptive Moving Average (MAMA)\n",
      " |  \n",
      " |  get_t3(self, symbol, interval='daily', time_period=20, series_type='close')\n",
      " |      Return triple exponential moving average time series in two json\n",
      " |      objects as data and meta_data. It raises ValueError when problems arise\n",
      " |      \n",
      " |      Keyword Arguments:\n",
      " |          symbol:  the symbol for the equity we want to get its data\n",
      " |          interval:  time interval between two conscutive values,\n",
      " |              supported values are '1min', '5min', '15min', '30min', '60min', 'daily',\n",
      " |              'weekly', 'monthly' (default 'daily')\n",
      " |          time_period:  How many data points to average (default 20)\n",
      " |          series_type:  The desired price type in the time series. Four types\n",
      " |              are supported: 'close', 'open', 'high', 'low' (default 'close')\n",
      " |  \n",
      " |  get_tema(self, symbol, interval='daily', time_period=20, series_type='close')\n",
      " |      Return triple exponential moving average time series in two json\n",
      " |      objects as data and meta_data. It raises ValueError when problems arise\n",
      " |      \n",
      " |      Keyword Arguments:\n",
      " |          symbol:  the symbol for the equity we want to get its data\n",
      " |          interval:  time interval between two conscutive values,\n",
      " |              supported values are '1min', '5min', '15min', '30min', '60min', 'daily',\n",
      " |              'weekly', 'monthly' (default 'daily')\n",
      " |          time_period:  How many data points to average (default 20)\n",
      " |          series_type:  The desired price type in the time series. Four types\n",
      " |              are supported: 'close', 'open', 'high', 'low' (default 'close')\n",
      " |  \n",
      " |  get_trange(self, symbol, interval='daily')\n",
      " |      Return the true range values in two json\n",
      " |      objects as data and meta_data. It raises ValueError when problems arise\n",
      " |      \n",
      " |      Keyword Arguments:\n",
      " |          symbol:  the symbol for the equity we want to get its data\n",
      " |          interval:  time interval between two conscutive values,\n",
      " |              supported values are '1min', '5min', '15min', '30min', '60min', 'daily',\n",
      " |              'weekly', 'monthly' (default 'daily')\n",
      " |  \n",
      " |  get_trima(self, symbol, interval='daily', time_period=20, series_type='close')\n",
      " |      Return triangular moving average time series in two json\n",
      " |      objects as data and meta_data. It raises ValueError when problems arise\n",
      " |      \n",
      " |      Keyword Arguments:\n",
      " |          symbol:  the symbol for the equity we want to get its data\n",
      " |          interval:  time interval between two conscutive values,\n",
      " |              supported values are '1min', '5min', '15min', '30min', '60min', 'daily',\n",
      " |              'weekly', 'monthly' (default 'daily')\n",
      " |          time_period:  How many data points to average (default 20)\n",
      " |          series_type:  The desired price type in the time series. Four types\n",
      " |              are supported: 'close', 'open', 'high', 'low' (default 'close')\n",
      " |  \n",
      " |  get_trix(self, symbol, interval='daily', time_period=20, series_type='close')\n",
      " |      Return the1-day rate of change of a triple smooth exponential\n",
      " |      moving average in two json objects as data and meta_data.\n",
      " |      It raises ValueError when problems arise\n",
      " |      \n",
      " |      Keyword Arguments:\n",
      " |          symbol:  the symbol for the equity we want to get its data\n",
      " |          interval:  time interval between two conscutive values,\n",
      " |              supported values are '1min', '5min', '15min', '30min', '60min', 'daily',\n",
      " |              'weekly', 'monthly' (default 'daily')\n",
      " |          time_period:  How many data points to average (default 20)\n",
      " |          series_type:  The desired price type in the time series. Four types\n",
      " |              are supported: 'close', 'open', 'high', 'low' (default 'close')\n",
      " |  \n",
      " |  get_ultosc(self, symbol, interval='daily', timeperiod1=None, timeperiod2=None, timeperiod3=None)\n",
      " |      Return the ultimate oscillaror values in two json objects as\n",
      " |      data and meta_data. It raises ValueError when problems arise\n",
      " |      \n",
      " |      Keyword Arguments:\n",
      " |          symbol:  the symbol for the equity we want to get its data\n",
      " |          interval:  time interval between two conscutive values,\n",
      " |              supported values are '1min', '5min', '15min', '30min', '60min', 'daily',\n",
      " |              'weekly', 'monthly' (default 'daily')\n",
      " |          timeperiod1:  The first time period indicator. Positive integers are\n",
      " |              accepted. By default, timeperiod1=7\n",
      " |          timeperiod2:  The first time period indicator. Positive integers are\n",
      " |              accepted. By default, timeperiod2=14\n",
      " |          timeperiod3:  The first time period indicator. Positive integers are\n",
      " |              accepted. By default, timeperiod3=28\n",
      " |  \n",
      " |  get_vwap(self, symbol, interval='5min')\n",
      " |      Returns the volume weighted average price (VWAP) for intraday time series.\n",
      " |      \n",
      " |      Keyword Arguments:\n",
      " |          symbol:  the symbol for the equity we want to get its data\n",
      " |          interval:  time interval between two conscutive values,\n",
      " |              supported values are '1min', '5min', '15min', '30min', '60min' \n",
      " |              (default 5min)\n",
      " |  \n",
      " |  get_willr(self, symbol, interval='daily', time_period=20)\n",
      " |      Return the Williams' %R (WILLR) values in two json objects as data\n",
      " |      and meta_data. It raises ValueError when problems arise\n",
      " |      \n",
      " |      Keyword Arguments:\n",
      " |          symbol:  the symbol for the equity we want to get its data\n",
      " |          interval:  time interval between two conscutive values,\n",
      " |              supported values are '1min', '5min', '15min', '30min', '60min', 'daily',\n",
      " |              'weekly', 'monthly' (default 'daily')\n",
      " |          time_period:  How many data points to average (default 20)\n",
      " |  \n",
      " |  get_wma(self, symbol, interval='daily', time_period=20, series_type='close')\n",
      " |      Return weighted moving average time series in two json objects\n",
      " |      as data and meta_data. It raises ValueError when problems arise\n",
      " |      \n",
      " |      Keyword Arguments:\n",
      " |          symbol:  the symbol for the equity we want to get its data\n",
      " |          interval:  time interval between two conscutive values,\n",
      " |              supported values are '1min', '5min', '15min', '30min', '60min', 'daily',\n",
      " |              'weekly', 'monthly' (default 'daily')\n",
      " |          time_period:  How many data points to average (default 20)\n",
      " |          series_type:  The desired price type in the time series. Four types\n",
      " |              are supported: 'close', 'open', 'high', 'low' (default 'close')\n",
      " |  \n",
      " |  ----------------------------------------------------------------------\n",
      " |  Methods inherited from alpha_vantage.alphavantage.AlphaVantage:\n",
      " |  \n",
      " |  map_to_matype(self, matype)\n",
      " |      Convert to the alpha vantage math type integer. It returns an\n",
      " |      integer correspondent to the type of math to apply to a function. It\n",
      " |      raises ValueError if an integer greater than the supported math types\n",
      " |      is given.\n",
      " |      \n",
      " |      Keyword Arguments:\n",
      " |          matype:  The math type of the alpha vantage api. It accepts\n",
      " |          integers or a string representing the math type.\n",
      " |      \n",
      " |              * 0 = Simple Moving Average (SMA),\n",
      " |              * 1 = Exponential Moving Average (EMA),\n",
      " |              * 2 = Weighted Moving Average (WMA),\n",
      " |              * 3 = Double Exponential Moving Average (DEMA),\n",
      " |              * 4 = Triple Exponential Moving Average (TEMA),\n",
      " |              * 5 = Triangular Moving Average (TRIMA),\n",
      " |              * 6 = T3 Moving Average,\n",
      " |              * 7 = Kaufman Adaptive Moving Average (KAMA),\n",
      " |              * 8 = MESA Adaptive Moving Average (MAMA)\n",
      " |  \n",
      " |  set_proxy(self, proxy=None)\n",
      " |      Set a new proxy configuration\n",
      " |      \n",
      " |      Keyword Arguments:\n",
      " |          proxy: Dictionary mapping protocol or protocol and hostname to\n",
      " |          the URL of the proxy.\n",
      " |  \n",
      " |  ----------------------------------------------------------------------\n",
      " |  Data descriptors inherited from alpha_vantage.alphavantage.AlphaVantage:\n",
      " |  \n",
      " |  __dict__\n",
      " |      dictionary for instance variables (if defined)\n",
      " |  \n",
      " |  __weakref__\n",
      " |      list of weak references to the object (if defined)\n",
      "\n"
     ]
    }
   ],
   "source": [
    "pretty('TechIndicators()')\n",
    "help(indicator)"
   ]
  },
  {
   "cell_type": "markdown",
   "id": "53824c34-eaf3-4534-b7d0-f0ba34337389",
   "metadata": {},
   "source": [
    "<html>\n",
    "\t<table style=\"width:100%;\">\n",
    "\t\t<tr>\n",
    "\t\t\t<th style = 'font-size: 17px; font-weight: 500; background-color: #ad1759; padding: 8px; line-height: 1.5; color:white; border-radius: 3px;; text-align: left;' colspan=\"3\"><b><i>sma50</i></b> - 50 day moving average</font></th>\n",
    "\t\t</tr>\n",
    "\t\t<tr>\n",
    "\t\t\t<th style = 'font-size: 16px; font-weight: 500; background-color: #f6b48f; padding: 5px 5px 3px 10px; line-height: 1.5; text-align: left; color:black;border-radius: 3px;; text-align: left;' colspan=\"3\">- 50 and 200 days are typically used</font></th>\n",
    "\t\t</tr>\n",
    "\t</table>\n",
    "</html>"
   ]
  },
  {
   "cell_type": "code",
   "execution_count": 8,
   "id": "24dadaf5-50ce-4c5f-b9b5-5b22abf6c929",
   "metadata": {},
   "outputs": [
    {
     "data": {
      "text/html": [
       "<style type=\"text/css\">\n",
       "#T_be289 .row0 {\n",
       "  background-color: #ad1759;\n",
       "  color: white;\n",
       "  font-size: 15px;\n",
       "  font-weight: bold;\n",
       "  text-align: left;\n",
       "  padding: 8px;\n",
       "}\n",
       "#T_be289 tbody {\n",
       "  border: 1px solid;\n",
       "  border-color: black;\n",
       "}\n",
       "#T_be289 tr {\n",
       "  border: 0.8px solid;\n",
       "  border-color: black;\n",
       "}\n",
       "</style>\n",
       "<table id=\"T_be289\">\n",
       "  <thead>\n",
       "  </thead>\n",
       "  <tbody>\n",
       "    <tr>\n",
       "      <td id=\"T_be289_row0_col0\" class=\"data row0 col0\" >indicator.get_sma()</td>\n",
       "    </tr>\n",
       "  </tbody>\n",
       "</table>\n"
      ],
      "text/plain": [
       "<pandas.io.formats.style.Styler at 0x7faef3bff550>"
      ]
     },
     "metadata": {},
     "output_type": "display_data"
    },
    {
     "name": "stdout",
     "output_type": "stream",
     "text": [
      "\n",
      "Help on method get_sma in module alpha_vantage.techindicators:\n",
      "\n",
      "get_sma(symbol, interval='daily', time_period=20, series_type='close') method of alpha_vantage.techindicators.TechIndicators instance\n",
      "    Return simple moving average time series in two json objects as data and\n",
      "    meta_data. It raises ValueError when problems arise\n",
      "    \n",
      "    Keyword Arguments:\n",
      "        symbol:  the symbol for the equity we want to get its data\n",
      "        interval:  time interval between two conscutive values,\n",
      "            supported values are '1min', '5min', '15min', '30min', '60min', 'daily',\n",
      "            'weekly', 'monthly' (default 'daily')\n",
      "        time_period:  How many data points to average (default 20)\n",
      "        series_type:  The desired price type in the time series. Four types\n",
      "            are supported: 'close', 'open', 'high', 'low' (default 'close')\n",
      "\n"
     ]
    }
   ],
   "source": [
    "pretty('indicator.get_sma()')\n",
    "help(indicator.get_sma)"
   ]
  },
  {
   "cell_type": "code",
   "execution_count": 9,
   "id": "bd6ed838-2189-4fe4-8794-6e476a760f00",
   "metadata": {},
   "outputs": [],
   "source": [
    "sma50 = indicator.get_sma('MSFT', interval = 'daily', time_period = 50)[0]"
   ]
  },
  {
   "cell_type": "code",
   "execution_count": 34,
   "id": "c176be26-a6eb-4a64-b55b-2be3e0fd931e",
   "metadata": {},
   "outputs": [
    {
     "data": {
      "text/html": [
       "<style type=\"text/css\">\n",
       "#T_944e2 .row0 {\n",
       "  background-color: #ad1759;\n",
       "  color: white;\n",
       "  font-size: 15px;\n",
       "  font-weight: bold;\n",
       "  text-align: left;\n",
       "  padding: 8px;\n",
       "}\n",
       "#T_944e2 tbody {\n",
       "  border: 1px solid;\n",
       "  border-color: black;\n",
       "}\n",
       "#T_944e2 tr {\n",
       "  border: 0.8px solid;\n",
       "  border-color: black;\n",
       "}\n",
       "</style>\n",
       "<table id=\"T_944e2\">\n",
       "  <thead>\n",
       "  </thead>\n",
       "  <tbody>\n",
       "    <tr>\n",
       "      <td id=\"T_944e2_row0_col0\" class=\"data row0 col0\" >sma50 meta information</td>\n",
       "    </tr>\n",
       "  </tbody>\n",
       "</table>\n"
      ],
      "text/plain": [
       "<pandas.io.formats.style.Styler at 0x7faeb044b880>"
      ]
     },
     "metadata": {},
     "output_type": "display_data"
    },
    {
     "name": "stdout",
     "output_type": "stream",
     "text": [
      "\n"
     ]
    },
    {
     "data": {
      "text/plain": [
       "{'1: Symbol': 'MSFT',\n",
       " '2: Indicator': 'Simple Moving Average (SMA)',\n",
       " '3: Last Refreshed': '2023-02-03',\n",
       " '4: Interval': 'daily',\n",
       " '5: Time Period': 50,\n",
       " '6: Series Type': 'close',\n",
       " '7: Time Zone': 'US/Eastern'}"
      ]
     },
     "execution_count": 34,
     "metadata": {},
     "output_type": "execute_result"
    }
   ],
   "source": [
    "pretty('sma50 meta information')\n",
    "indicator.get_sma('MSFT', interval = 'daily', time_period = 50)[1]"
   ]
  },
  {
   "cell_type": "code",
   "execution_count": 11,
   "id": "7cfcb8e2-8161-4deb-a2d7-cf9f9eb9d088",
   "metadata": {},
   "outputs": [
    {
     "data": {
      "text/html": [
       "<center><style type=\"text/css\">\n",
       "#T_5fecb tr {\n",
       "  background-color: #ad1759;\n",
       "  color: white;\n",
       "  font-size: 18px;\n",
       "  font-weight: 600;\n",
       "  text-align: left;\n",
       "  padding: 3px 30px 3px 50px;\n",
       "}\n",
       "#T_5fecb td {\n",
       "  padding: 5px 10px 5px 10px;\n",
       "  width: 450px;\n",
       "  text-align: center;\n",
       "}\n",
       "</style>\n",
       "<table id=\"T_5fecb\">\n",
       "  <thead>\n",
       "  </thead>\n",
       "  <tbody>\n",
       "    <tr>\n",
       "      <td id=\"T_5fecb_row0_col0\" class=\"data row0 col0\" >50 Day SMA for MSFT</td>\n",
       "    </tr>\n",
       "  </tbody>\n",
       "</table>\n"
      ],
      "text/plain": [
       "<IPython.core.display.HTML object>"
      ]
     },
     "metadata": {},
     "output_type": "display_data"
    },
    {
     "data": {
      "text/html": [
       "<center><style type=\"text/css\">\n",
       "#T_19e20 caption {\n",
       "  background: #ad1759;\n",
       "  border-radius: 3px;\n",
       "  padding: 5px;\n",
       "  color: white;\n",
       "  font-size: 12px;\n",
       "  font-weight: 600;\n",
       "}\n",
       "#T_19e20 td {\n",
       "  padding: 8px 10px 8px 10px;\n",
       "}\n",
       "</style>\n",
       "<table id=\"T_19e20\" style='display:inline-block; vertical-align: top;'>\n",
       "  <caption>head(5)</caption>\n",
       "  <thead>\n",
       "    <tr>\n",
       "      <th class=\"blank level0\" >&nbsp;</th>\n",
       "      <th id=\"T_19e20_level0_col0\" class=\"col_heading level0 col0\" >SMA</th>\n",
       "    </tr>\n",
       "    <tr>\n",
       "      <th class=\"index_name level0\" >date</th>\n",
       "      <th class=\"blank col0\" >&nbsp;</th>\n",
       "    </tr>\n",
       "  </thead>\n",
       "  <tbody>\n",
       "    <tr>\n",
       "      <th id=\"T_19e20_level0_row0\" class=\"row_heading level0 row0\" >2000-01-11</th>\n",
       "      <td id=\"T_19e20_row0_col0\" class=\"data row0 col0\" >31.34</td>\n",
       "    </tr>\n",
       "    <tr>\n",
       "      <th id=\"T_19e20_level0_row1\" class=\"row_heading level0 row1\" >2000-01-12</th>\n",
       "      <td id=\"T_19e20_row1_col0\" class=\"data row1 col0\" >31.43</td>\n",
       "    </tr>\n",
       "    <tr>\n",
       "      <th id=\"T_19e20_level0_row2\" class=\"row_heading level0 row2\" >2000-01-13</th>\n",
       "      <td id=\"T_19e20_row2_col0\" class=\"data row2 col0\" >31.52</td>\n",
       "    </tr>\n",
       "    <tr>\n",
       "      <th id=\"T_19e20_level0_row3\" class=\"row_heading level0 row3\" >2000-01-14</th>\n",
       "      <td id=\"T_19e20_row3_col0\" class=\"data row3 col0\" >31.65</td>\n",
       "    </tr>\n",
       "    <tr>\n",
       "      <th id=\"T_19e20_level0_row4\" class=\"row_heading level0 row4\" >2000-01-18</th>\n",
       "      <td id=\"T_19e20_row4_col0\" class=\"data row4 col0\" >31.80</td>\n",
       "    </tr>\n",
       "  </tbody>\n",
       "</table>\n",
       "&nbsp;&nbsp;&nbsp;<style type=\"text/css\">\n",
       "#T_b8cff caption {\n",
       "  background: #ad1759;\n",
       "  border-radius: 3px;\n",
       "  padding: 5px;\n",
       "  color: white;\n",
       "  font-size: 12px;\n",
       "  font-weight: 600;\n",
       "}\n",
       "#T_b8cff td {\n",
       "  padding: 8px 10px 8px 10px;\n",
       "}\n",
       "</style>\n",
       "<table id=\"T_b8cff\" style='display:inline-block; vertical-align: top;'>\n",
       "  <caption>tail(5)</caption>\n",
       "  <thead>\n",
       "    <tr>\n",
       "      <th class=\"blank level0\" >&nbsp;</th>\n",
       "      <th id=\"T_b8cff_level0_col0\" class=\"col_heading level0 col0\" >SMA</th>\n",
       "    </tr>\n",
       "    <tr>\n",
       "      <th class=\"index_name level0\" >date</th>\n",
       "      <th class=\"blank col0\" >&nbsp;</th>\n",
       "    </tr>\n",
       "  </thead>\n",
       "  <tbody>\n",
       "    <tr>\n",
       "      <th id=\"T_b8cff_level0_row0\" class=\"row_heading level0 row0\" >2023-01-30</th>\n",
       "      <td id=\"T_b8cff_row0_col0\" class=\"data row0 col0\" >242.01</td>\n",
       "    </tr>\n",
       "    <tr>\n",
       "      <th id=\"T_b8cff_level0_row1\" class=\"row_heading level0 row1\" >2023-01-31</th>\n",
       "      <td id=\"T_b8cff_row1_col0\" class=\"data row1 col0\" >242.13</td>\n",
       "    </tr>\n",
       "    <tr>\n",
       "      <th id=\"T_b8cff_level0_row2\" class=\"row_heading level0 row2\" >2023-02-01</th>\n",
       "      <td id=\"T_b8cff_row2_col0\" class=\"data row2 col0\" >242.35</td>\n",
       "    </tr>\n",
       "    <tr>\n",
       "      <th id=\"T_b8cff_level0_row3\" class=\"row_heading level0 row3\" >2023-02-02</th>\n",
       "      <td id=\"T_b8cff_row3_col0\" class=\"data row3 col0\" >242.82</td>\n",
       "    </tr>\n",
       "    <tr>\n",
       "      <th id=\"T_b8cff_level0_row4\" class=\"row_heading level0 row4\" >2023-02-03</th>\n",
       "      <td id=\"T_b8cff_row4_col0\" class=\"data row4 col0\" >243.14</td>\n",
       "    </tr>\n",
       "  </tbody>\n",
       "</table>\n",
       "&nbsp;&nbsp;&nbsp;"
      ]
     },
     "metadata": {},
     "output_type": "display_data"
    },
    {
     "name": "stdout",
     "output_type": "stream",
     "text": [
      "\n"
     ]
    }
   ],
   "source": [
    "head_tail_horz(sma50, 5, '50 Day SMA for MSFT')"
   ]
  },
  {
   "cell_type": "markdown",
   "id": "465f1bda-f0af-4825-a1ae-ea32f393b770",
   "metadata": {},
   "source": [
    "<html>\n",
    "\t<table style=\"width:100%;\">\n",
    "\t\t<tr>\n",
    "\t\t\t<th style = 'font-size: 16px; font-weight: 500; background-color: #f6b48f; padding: 5px 5px 3px 10px; line-height: 1.5; text-align: left; color:black;border-radius: 3px;; text-align: left;' colspan=\"3\"><b><i># 50-day slow moving average overview</i></b></font></th>\n",
    "\t\t</tr>\n",
    "\t</table>\n",
    "</html>"
   ]
  },
  {
   "cell_type": "code",
   "execution_count": 12,
   "id": "8daef8a3-ed31-48c4-bdc7-1192567f2b78",
   "metadata": {},
   "outputs": [
    {
     "data": {
      "text/html": [
       "<style type=\"text/css\">\n",
       "#T_3cb82 .row0 {\n",
       "  background-color: #ad1759;\n",
       "  color: white;\n",
       "  font-size: 15px;\n",
       "  font-weight: bold;\n",
       "  text-align: left;\n",
       "  padding: 8px;\n",
       "}\n",
       "#T_3cb82 tbody {\n",
       "  border: 1px solid;\n",
       "  border-color: black;\n",
       "}\n",
       "#T_3cb82 tr {\n",
       "  border: 0.8px solid;\n",
       "  border-color: black;\n",
       "}\n",
       "</style>\n",
       "<table id=\"T_3cb82\">\n",
       "  <thead>\n",
       "  </thead>\n",
       "  <tbody>\n",
       "    <tr>\n",
       "      <td id=\"T_3cb82_row0_col0\" class=\"data row0 col0\" >DataFrame Overview  |  Primary Metric: SMA</td>\n",
       "    </tr>\n",
       "  </tbody>\n",
       "</table>\n"
      ],
      "text/plain": [
       "<pandas.io.formats.style.Styler at 0x7faef398a980>"
      ]
     },
     "metadata": {},
     "output_type": "display_data"
    },
    {
     "name": "stdout",
     "output_type": "stream",
     "text": [
      "\n"
     ]
    },
    {
     "data": {
      "text/html": [
       "<style type=\"text/css\">\n",
       "#T_9425c .col1 {\n",
       "  font-size: 15px;\n",
       "  text-align: left;\n",
       "  padding-right: 15px;\n",
       "  padding-left: 55px;\n",
       "}\n",
       "#T_9425c .col0 {\n",
       "  font-weight: bold;\n",
       "  text-align: left;\n",
       "  font-size: 15px;\n",
       "  padding-right: 15px;\n",
       "  padding-left: 15px;\n",
       "}\n",
       "</style>\n",
       "<table id=\"T_9425c\">\n",
       "  <thead>\n",
       "    <tr>\n",
       "      <th id=\"T_9425c_level0_col0\" class=\"col_heading level0 col0\" > </th>\n",
       "      <th id=\"T_9425c_level0_col1\" class=\"col_heading level0 col1\" >measurement</th>\n",
       "    </tr>\n",
       "  </thead>\n",
       "  <tbody>\n",
       "    <tr>\n",
       "      <td id=\"T_9425c_row0_col0\" class=\"data row0 col0\" >total records</td>\n",
       "      <td id=\"T_9425c_row0_col1\" class=\"data row0 col1\" >5,804</td>\n",
       "    </tr>\n",
       "    <tr>\n",
       "      <td id=\"T_9425c_row1_col0\" class=\"data row1 col0\" >start date</td>\n",
       "      <td id=\"T_9425c_row1_col1\" class=\"data row1 col1\" >01/11/2000</td>\n",
       "    </tr>\n",
       "    <tr>\n",
       "      <td id=\"T_9425c_row2_col0\" class=\"data row2 col0\" >end date</td>\n",
       "      <td id=\"T_9425c_row2_col1\" class=\"data row2 col1\" >02/03/2023</td>\n",
       "    </tr>\n",
       "    <tr>\n",
       "      <td id=\"T_9425c_row3_col0\" class=\"data row3 col0\" >total columns</td>\n",
       "      <td id=\"T_9425c_row3_col1\" class=\"data row3 col1\" >1</td>\n",
       "    </tr>\n",
       "    <tr>\n",
       "      <td id=\"T_9425c_row4_col0\" class=\"data row4 col0\" >column labels</td>\n",
       "      <td id=\"T_9425c_row4_col1\" class=\"data row4 col1\" >SMA</td>\n",
       "    </tr>\n",
       "    <tr>\n",
       "      <td id=\"T_9425c_row5_col0\" class=\"data row5 col0\" >total missing values</td>\n",
       "      <td id=\"T_9425c_row5_col1\" class=\"data row5 col1\" >0</td>\n",
       "    </tr>\n",
       "    <tr>\n",
       "      <td id=\"T_9425c_row6_col0\" class=\"data row6 col0\" >SMA average</td>\n",
       "      <td id=\"T_9425c_row6_col1\" class=\"data row6 col1\" >62</td>\n",
       "    </tr>\n",
       "    <tr>\n",
       "      <td id=\"T_9425c_row7_col0\" class=\"data row7 col0\" >SMA std</td>\n",
       "      <td id=\"T_9425c_row7_col1\" class=\"data row7 col1\" >77</td>\n",
       "    </tr>\n",
       "    <tr>\n",
       "      <td id=\"T_9425c_row8_col0\" class=\"data row8 col0\" >SMA min</td>\n",
       "      <td id=\"T_9425c_row8_col1\" class=\"data row8 col1\" >13</td>\n",
       "    </tr>\n",
       "    <tr>\n",
       "      <td id=\"T_9425c_row9_col0\" class=\"data row9 col0\" >SMA 25%</td>\n",
       "      <td id=\"T_9425c_row9_col1\" class=\"data row9 col1\" >19</td>\n",
       "    </tr>\n",
       "    <tr>\n",
       "      <td id=\"T_9425c_row10_col0\" class=\"data row10 col0\" >SMA 50%</td>\n",
       "      <td id=\"T_9425c_row10_col1\" class=\"data row10 col1\" >23</td>\n",
       "    </tr>\n",
       "    <tr>\n",
       "      <td id=\"T_9425c_row11_col0\" class=\"data row11 col0\" >SMA 75%</td>\n",
       "      <td id=\"T_9425c_row11_col1\" class=\"data row11 col1\" >61</td>\n",
       "    </tr>\n",
       "    <tr>\n",
       "      <td id=\"T_9425c_row12_col0\" class=\"data row12 col0\" >SMA max</td>\n",
       "      <td id=\"T_9425c_row12_col1\" class=\"data row12 col1\" >330</td>\n",
       "    </tr>\n",
       "  </tbody>\n",
       "</table>\n"
      ],
      "text/plain": [
       "<pandas.io.formats.style.Styler at 0x7faef398af80>"
      ]
     },
     "execution_count": 12,
     "metadata": {},
     "output_type": "execute_result"
    }
   ],
   "source": [
    "timeseries_overview(sma50, 'SMA')"
   ]
  },
  {
   "cell_type": "markdown",
   "id": "45c9a9a9-9000-484b-af61-29729a1b4898",
   "metadata": {},
   "source": [
    "<html>\n",
    "\t<table style=\"width:100%;\">\n",
    "\t\t<tr>\n",
    "\t\t\t<th style = 'font-size: 16px; font-weight: 500; background-color: #f6b48f; padding: 5px 5px 3px 10px; line-height: 1.5; text-align: left; color:black;border-radius: 3px;; text-align: left;' colspan=\"3\"><b><i># Microsoft closing data for same period</i></b></font></th>\n",
    "\t\t</tr>\n",
    "\t</table>\n",
    "</html>"
   ]
  },
  {
   "cell_type": "code",
   "execution_count": 13,
   "id": "9a5d20cd-6ad9-457b-9657-931ab08e6f73",
   "metadata": {},
   "outputs": [],
   "source": [
    "msft = ts.get_daily('MSFT', outputsize = 'full')[0]"
   ]
  },
  {
   "cell_type": "code",
   "execution_count": 14,
   "id": "e22a13b4-835b-4f8c-8fd4-1e23034bf49f",
   "metadata": {},
   "outputs": [],
   "source": [
    "msft_close = msft['4. close']\n",
    "msft_close = pd.DataFrame(msft_close)\n",
    "msft_close.columns = ['close']"
   ]
  },
  {
   "cell_type": "code",
   "execution_count": 15,
   "id": "2e1b7b99-236e-4ac4-9e21-2b41a06f9d1d",
   "metadata": {},
   "outputs": [
    {
     "data": {
      "text/html": [
       "<style type=\"text/css\">\n",
       "#T_79553 .row0 {\n",
       "  background-color: #ad1759;\n",
       "  color: white;\n",
       "  font-size: 15px;\n",
       "  font-weight: bold;\n",
       "  text-align: left;\n",
       "  padding: 8px;\n",
       "}\n",
       "#T_79553 tbody {\n",
       "  border: 1px solid;\n",
       "  border-color: black;\n",
       "}\n",
       "#T_79553 tr {\n",
       "  border: 0.8px solid;\n",
       "  border-color: black;\n",
       "}\n",
       "</style>\n",
       "<table id=\"T_79553\">\n",
       "  <thead>\n",
       "  </thead>\n",
       "  <tbody>\n",
       "    <tr>\n",
       "      <td id=\"T_79553_row0_col0\" class=\"data row0 col0\" >DataFrame Overview  |  Primary Metric: close</td>\n",
       "    </tr>\n",
       "  </tbody>\n",
       "</table>\n"
      ],
      "text/plain": [
       "<pandas.io.formats.style.Styler at 0x7faef398a860>"
      ]
     },
     "metadata": {},
     "output_type": "display_data"
    },
    {
     "name": "stdout",
     "output_type": "stream",
     "text": [
      "\n"
     ]
    },
    {
     "data": {
      "text/html": [
       "<style type=\"text/css\">\n",
       "#T_518aa .col1 {\n",
       "  font-size: 15px;\n",
       "  text-align: left;\n",
       "  padding-right: 15px;\n",
       "  padding-left: 55px;\n",
       "}\n",
       "#T_518aa .col0 {\n",
       "  font-weight: bold;\n",
       "  text-align: left;\n",
       "  font-size: 15px;\n",
       "  padding-right: 15px;\n",
       "  padding-left: 15px;\n",
       "}\n",
       "</style>\n",
       "<table id=\"T_518aa\">\n",
       "  <thead>\n",
       "    <tr>\n",
       "      <th id=\"T_518aa_level0_col0\" class=\"col_heading level0 col0\" > </th>\n",
       "      <th id=\"T_518aa_level0_col1\" class=\"col_heading level0 col1\" >measurement</th>\n",
       "    </tr>\n",
       "  </thead>\n",
       "  <tbody>\n",
       "    <tr>\n",
       "      <td id=\"T_518aa_row0_col0\" class=\"data row0 col0\" >total records</td>\n",
       "      <td id=\"T_518aa_row0_col1\" class=\"data row0 col1\" >5,853</td>\n",
       "    </tr>\n",
       "    <tr>\n",
       "      <td id=\"T_518aa_row1_col0\" class=\"data row1 col0\" >start date</td>\n",
       "      <td id=\"T_518aa_row1_col1\" class=\"data row1 col1\" >11/01/1999</td>\n",
       "    </tr>\n",
       "    <tr>\n",
       "      <td id=\"T_518aa_row2_col0\" class=\"data row2 col0\" >end date</td>\n",
       "      <td id=\"T_518aa_row2_col1\" class=\"data row2 col1\" >02/03/2023</td>\n",
       "    </tr>\n",
       "    <tr>\n",
       "      <td id=\"T_518aa_row3_col0\" class=\"data row3 col0\" >total columns</td>\n",
       "      <td id=\"T_518aa_row3_col1\" class=\"data row3 col1\" >1</td>\n",
       "    </tr>\n",
       "    <tr>\n",
       "      <td id=\"T_518aa_row4_col0\" class=\"data row4 col0\" >column labels</td>\n",
       "      <td id=\"T_518aa_row4_col1\" class=\"data row4 col1\" >close</td>\n",
       "    </tr>\n",
       "    <tr>\n",
       "      <td id=\"T_518aa_row5_col0\" class=\"data row5 col0\" >total missing values</td>\n",
       "      <td id=\"T_518aa_row5_col1\" class=\"data row5 col1\" >0</td>\n",
       "    </tr>\n",
       "    <tr>\n",
       "      <td id=\"T_518aa_row6_col0\" class=\"data row6 col0\" >close average</td>\n",
       "      <td id=\"T_518aa_row6_col1\" class=\"data row6 col1\" >74</td>\n",
       "    </tr>\n",
       "    <tr>\n",
       "      <td id=\"T_518aa_row7_col0\" class=\"data row7 col0\" >close std</td>\n",
       "      <td id=\"T_518aa_row7_col1\" class=\"data row7 col1\" >75</td>\n",
       "    </tr>\n",
       "    <tr>\n",
       "      <td id=\"T_518aa_row8_col0\" class=\"data row8 col0\" >close min</td>\n",
       "      <td id=\"T_518aa_row8_col1\" class=\"data row8 col1\" >15</td>\n",
       "    </tr>\n",
       "    <tr>\n",
       "      <td id=\"T_518aa_row9_col0\" class=\"data row9 col0\" >close 25%</td>\n",
       "      <td id=\"T_518aa_row9_col1\" class=\"data row9 col1\" >27</td>\n",
       "    </tr>\n",
       "    <tr>\n",
       "      <td id=\"T_518aa_row10_col0\" class=\"data row10 col0\" >close 50%</td>\n",
       "      <td id=\"T_518aa_row10_col1\" class=\"data row10 col1\" >43</td>\n",
       "    </tr>\n",
       "    <tr>\n",
       "      <td id=\"T_518aa_row11_col0\" class=\"data row11 col0\" >close 75%</td>\n",
       "      <td id=\"T_518aa_row11_col1\" class=\"data row11 col1\" >78</td>\n",
       "    </tr>\n",
       "    <tr>\n",
       "      <td id=\"T_518aa_row12_col0\" class=\"data row12 col0\" >close max</td>\n",
       "      <td id=\"T_518aa_row12_col1\" class=\"data row12 col1\" >343</td>\n",
       "    </tr>\n",
       "  </tbody>\n",
       "</table>\n"
      ],
      "text/plain": [
       "<pandas.io.formats.style.Styler at 0x7faef368ca60>"
      ]
     },
     "execution_count": 15,
     "metadata": {},
     "output_type": "execute_result"
    }
   ],
   "source": [
    "timeseries_overview(msft_close, 'close')"
   ]
  },
  {
   "cell_type": "markdown",
   "id": "de606c1f-b441-48fb-96da-70579ce27577",
   "metadata": {},
   "source": [
    "<html>\n",
    "\t<table style=\"width:100%;\">\n",
    "\t\t<tr>\n",
    "\t\t\t<th style = 'font-size: 16px; font-weight: 500; background-color: #f6b48f; padding: 5px 5px 3px 10px; line-height: 1.5; text-align: left; color:black;border-radius: 3px;; text-align: left;' colspan=\"3\"><b><i># Dataframes combined</i></b> (removing days with NaN values)</font></th>\n",
    "\t\t</tr>\n",
    "\t</table>\n",
    "</html>"
   ]
  },
  {
   "cell_type": "code",
   "execution_count": 16,
   "id": "bb490f53-1dab-4862-b2e8-30e7eea8c17a",
   "metadata": {},
   "outputs": [],
   "source": [
    "msft_close['sma50'] = sma50"
   ]
  },
  {
   "cell_type": "code",
   "execution_count": 17,
   "id": "b0c93ddc-6fa4-4954-a580-6d9a0356633f",
   "metadata": {},
   "outputs": [],
   "source": [
    "msft = msft_close.loc['2000-01-11':]"
   ]
  },
  {
   "cell_type": "code",
   "execution_count": 18,
   "id": "d1acb230-92b1-462a-af29-30cbe82c076f",
   "metadata": {},
   "outputs": [
    {
     "data": {
      "text/html": [
       "<center><style type=\"text/css\">\n",
       "#T_8bd5f caption {\n",
       "  background: #ad1759;\n",
       "  border-radius: 3px;\n",
       "  padding: 5px;\n",
       "  color: white;\n",
       "  font-size: 16px;\n",
       "  font-weight: 600;\n",
       "}\n",
       "#T_8bd5f td {\n",
       "  padding: 8px 10px 8px 10px;\n",
       "}\n",
       "</style>\n",
       "<table id=\"T_8bd5f\" style='display:inline-block; vertical-align: top;'>\n",
       "  <caption>Microsoft & SMA50 Columns</caption>\n",
       "  <thead>\n",
       "    <tr>\n",
       "      <th class=\"blank level0\" >&nbsp;</th>\n",
       "      <th id=\"T_8bd5f_level0_col0\" class=\"col_heading level0 col0\" >close</th>\n",
       "      <th id=\"T_8bd5f_level0_col1\" class=\"col_heading level0 col1\" >sma50</th>\n",
       "    </tr>\n",
       "  </thead>\n",
       "  <tbody>\n",
       "    <tr>\n",
       "      <th id=\"T_8bd5f_level0_row0\" class=\"row_heading level0 row0\" >datatype</th>\n",
       "      <td id=\"T_8bd5f_row0_col0\" class=\"data row0 col0\" >float64</td>\n",
       "      <td id=\"T_8bd5f_row0_col1\" class=\"data row0 col1\" >float64</td>\n",
       "    </tr>\n",
       "    <tr>\n",
       "      <th id=\"T_8bd5f_level0_row1\" class=\"row_heading level0 row1\" >missing values</th>\n",
       "      <td id=\"T_8bd5f_row1_col0\" class=\"data row1 col0\" >0</td>\n",
       "      <td id=\"T_8bd5f_row1_col1\" class=\"data row1 col1\" >0</td>\n",
       "    </tr>\n",
       "    <tr>\n",
       "      <th id=\"T_8bd5f_level0_row2\" class=\"row_heading level0 row2\" >count</th>\n",
       "      <td id=\"T_8bd5f_row2_col0\" class=\"data row2 col0\" >5,804.00</td>\n",
       "      <td id=\"T_8bd5f_row2_col1\" class=\"data row2 col1\" >5,804.00</td>\n",
       "    </tr>\n",
       "    <tr>\n",
       "      <th id=\"T_8bd5f_level0_row3\" class=\"row_heading level0 row3\" >mean</th>\n",
       "      <td id=\"T_8bd5f_row3_col0\" class=\"data row3 col0\" >73.81</td>\n",
       "      <td id=\"T_8bd5f_row3_col1\" class=\"data row3 col1\" >62.04</td>\n",
       "    </tr>\n",
       "    <tr>\n",
       "      <th id=\"T_8bd5f_level0_row4\" class=\"row_heading level0 row4\" >std</th>\n",
       "      <td id=\"T_8bd5f_row4_col0\" class=\"data row4 col0\" >74.84</td>\n",
       "      <td id=\"T_8bd5f_row4_col1\" class=\"data row4 col1\" >76.76</td>\n",
       "    </tr>\n",
       "    <tr>\n",
       "      <th id=\"T_8bd5f_level0_row5\" class=\"row_heading level0 row5\" >min</th>\n",
       "      <td id=\"T_8bd5f_row5_col0\" class=\"data row5 col0\" >15.15</td>\n",
       "      <td id=\"T_8bd5f_row5_col1\" class=\"data row5 col1\" >13.18</td>\n",
       "    </tr>\n",
       "    <tr>\n",
       "      <th id=\"T_8bd5f_level0_row6\" class=\"row_heading level0 row6\" >25%</th>\n",
       "      <td id=\"T_8bd5f_row6_col0\" class=\"data row6 col0\" >27.35</td>\n",
       "      <td id=\"T_8bd5f_row6_col1\" class=\"data row6 col1\" >19.09</td>\n",
       "    </tr>\n",
       "    <tr>\n",
       "      <th id=\"T_8bd5f_level0_row7\" class=\"row_heading level0 row7\" >50%</th>\n",
       "      <td id=\"T_8bd5f_row7_col0\" class=\"data row7 col0\" >42.20</td>\n",
       "      <td id=\"T_8bd5f_row7_col1\" class=\"data row7 col1\" >22.96</td>\n",
       "    </tr>\n",
       "    <tr>\n",
       "      <th id=\"T_8bd5f_level0_row8\" class=\"row_heading level0 row8\" >75%</th>\n",
       "      <td id=\"T_8bd5f_row8_col0\" class=\"data row8 col0\" >74.19</td>\n",
       "      <td id=\"T_8bd5f_row8_col1\" class=\"data row8 col1\" >60.60</td>\n",
       "    </tr>\n",
       "    <tr>\n",
       "      <th id=\"T_8bd5f_level0_row9\" class=\"row_heading level0 row9\" >max</th>\n",
       "      <td id=\"T_8bd5f_row9_col0\" class=\"data row9 col0\" >343.11</td>\n",
       "      <td id=\"T_8bd5f_row9_col1\" class=\"data row9 col1\" >329.66</td>\n",
       "    </tr>\n",
       "  </tbody>\n",
       "</table>\n",
       "&nbsp;&nbsp;&nbsp;<style type=\"text/css\">\n",
       "#T_ba6f0 caption {\n",
       "  background: #ad1759;\n",
       "  border-radius: 3px;\n",
       "  padding: 5px;\n",
       "  color: white;\n",
       "  font-size: 16px;\n",
       "  font-weight: 600;\n",
       "}\n",
       "#T_ba6f0 td {\n",
       "  padding: 8px 10px 8px 10px;\n",
       "}\n",
       "</style>\n",
       "<table id=\"T_ba6f0\" style='display:inline-block; vertical-align: top;'>\n",
       "  <caption>Microsoft & SMA50 Key Points</caption>\n",
       "  <thead>\n",
       "  </thead>\n",
       "  <tbody>\n",
       "    <tr>\n",
       "      <th id=\"T_ba6f0_level0_row0\" class=\"row_heading level0 row0\" >total rows</th>\n",
       "      <td id=\"T_ba6f0_row0_col0\" class=\"data row0 col0\" >5,804</td>\n",
       "    </tr>\n",
       "    <tr>\n",
       "      <th id=\"T_ba6f0_level0_row1\" class=\"row_heading level0 row1\" >total columns</th>\n",
       "      <td id=\"T_ba6f0_row1_col0\" class=\"data row1 col0\" >2</td>\n",
       "    </tr>\n",
       "    <tr>\n",
       "      <th id=\"T_ba6f0_level0_row2\" class=\"row_heading level0 row2\" >column names</th>\n",
       "      <td id=\"T_ba6f0_row2_col0\" class=\"data row2 col0\" >close, sma50</td>\n",
       "    </tr>\n",
       "    <tr>\n",
       "      <th id=\"T_ba6f0_level0_row3\" class=\"row_heading level0 row3\" >index start</th>\n",
       "      <td id=\"T_ba6f0_row3_col0\" class=\"data row3 col0\" >2023-02-03 00:00:00</td>\n",
       "    </tr>\n",
       "    <tr>\n",
       "      <th id=\"T_ba6f0_level0_row4\" class=\"row_heading level0 row4\" >index end</th>\n",
       "      <td id=\"T_ba6f0_row4_col0\" class=\"data row4 col0\" >2000-01-11 00:00:00</td>\n",
       "    </tr>\n",
       "    <tr>\n",
       "      <th id=\"T_ba6f0_level0_row5\" class=\"row_heading level0 row5\" >total missing values</th>\n",
       "      <td id=\"T_ba6f0_row5_col0\" class=\"data row5 col0\" >0</td>\n",
       "    </tr>\n",
       "  </tbody>\n",
       "</table>\n",
       "&nbsp;&nbsp;&nbsp;"
      ]
     },
     "metadata": {},
     "output_type": "display_data"
    },
    {
     "name": "stdout",
     "output_type": "stream",
     "text": [
      "\n"
     ]
    },
    {
     "data": {
      "text/html": [
       "<center><style type=\"text/css\">\n",
       "#T_1e4fa tr {\n",
       "  background-color: #ad1759;\n",
       "  color: white;\n",
       "  font-size: 18px;\n",
       "  font-weight: 600;\n",
       "  text-align: left;\n",
       "  padding: 3px 30px 3px 50px;\n",
       "}\n",
       "#T_1e4fa td {\n",
       "  padding: 5px 10px 5px 10px;\n",
       "  width: 450px;\n",
       "  text-align: center;\n",
       "}\n",
       "</style>\n",
       "<table id=\"T_1e4fa\">\n",
       "  <thead>\n",
       "  </thead>\n",
       "  <tbody>\n",
       "    <tr>\n",
       "      <td id=\"T_1e4fa_row0_col0\" class=\"data row0 col0\" >Microsoft & SMA50 Head and Tail</td>\n",
       "    </tr>\n",
       "  </tbody>\n",
       "</table>\n"
      ],
      "text/plain": [
       "<IPython.core.display.HTML object>"
      ]
     },
     "metadata": {},
     "output_type": "display_data"
    },
    {
     "data": {
      "text/html": [
       "<center><style type=\"text/css\">\n",
       "#T_9861c caption {\n",
       "  background: #ad1759;\n",
       "  border-radius: 3px;\n",
       "  padding: 5px;\n",
       "  color: white;\n",
       "  font-size: 12px;\n",
       "  font-weight: 600;\n",
       "}\n",
       "#T_9861c td {\n",
       "  padding: 8px 10px 8px 10px;\n",
       "}\n",
       "</style>\n",
       "<table id=\"T_9861c\" style='display:inline-block; vertical-align: top;'>\n",
       "  <caption>head(3)</caption>\n",
       "  <thead>\n",
       "    <tr>\n",
       "      <th class=\"blank level0\" >&nbsp;</th>\n",
       "      <th id=\"T_9861c_level0_col0\" class=\"col_heading level0 col0\" >close</th>\n",
       "      <th id=\"T_9861c_level0_col1\" class=\"col_heading level0 col1\" >sma50</th>\n",
       "    </tr>\n",
       "    <tr>\n",
       "      <th class=\"index_name level0\" >date</th>\n",
       "      <th class=\"blank col0\" >&nbsp;</th>\n",
       "      <th class=\"blank col1\" >&nbsp;</th>\n",
       "    </tr>\n",
       "  </thead>\n",
       "  <tbody>\n",
       "    <tr>\n",
       "      <th id=\"T_9861c_level0_row0\" class=\"row_heading level0 row0\" >2023-02-03</th>\n",
       "      <td id=\"T_9861c_row0_col0\" class=\"data row0 col0\" >258.35</td>\n",
       "      <td id=\"T_9861c_row0_col1\" class=\"data row0 col1\" >243.14</td>\n",
       "    </tr>\n",
       "    <tr>\n",
       "      <th id=\"T_9861c_level0_row1\" class=\"row_heading level0 row1\" >2023-02-02</th>\n",
       "      <td id=\"T_9861c_row1_col0\" class=\"data row1 col0\" >264.60</td>\n",
       "      <td id=\"T_9861c_row1_col1\" class=\"data row1 col1\" >242.82</td>\n",
       "    </tr>\n",
       "    <tr>\n",
       "      <th id=\"T_9861c_level0_row2\" class=\"row_heading level0 row2\" >2023-02-01</th>\n",
       "      <td id=\"T_9861c_row2_col0\" class=\"data row2 col0\" >252.75</td>\n",
       "      <td id=\"T_9861c_row2_col1\" class=\"data row2 col1\" >242.35</td>\n",
       "    </tr>\n",
       "  </tbody>\n",
       "</table>\n",
       "&nbsp;&nbsp;&nbsp;<style type=\"text/css\">\n",
       "#T_c23c3 caption {\n",
       "  background: #ad1759;\n",
       "  border-radius: 3px;\n",
       "  padding: 5px;\n",
       "  color: white;\n",
       "  font-size: 12px;\n",
       "  font-weight: 600;\n",
       "}\n",
       "#T_c23c3 td {\n",
       "  padding: 8px 10px 8px 10px;\n",
       "}\n",
       "</style>\n",
       "<table id=\"T_c23c3\" style='display:inline-block; vertical-align: top;'>\n",
       "  <caption>tail(3)</caption>\n",
       "  <thead>\n",
       "    <tr>\n",
       "      <th class=\"blank level0\" >&nbsp;</th>\n",
       "      <th id=\"T_c23c3_level0_col0\" class=\"col_heading level0 col0\" >close</th>\n",
       "      <th id=\"T_c23c3_level0_col1\" class=\"col_heading level0 col1\" >sma50</th>\n",
       "    </tr>\n",
       "    <tr>\n",
       "      <th class=\"index_name level0\" >date</th>\n",
       "      <th class=\"blank col0\" >&nbsp;</th>\n",
       "      <th class=\"blank col1\" >&nbsp;</th>\n",
       "    </tr>\n",
       "  </thead>\n",
       "  <tbody>\n",
       "    <tr>\n",
       "      <th id=\"T_c23c3_level0_row0\" class=\"row_heading level0 row0\" >2000-01-13</th>\n",
       "      <td id=\"T_c23c3_row0_col0\" class=\"data row0 col0\" >107.81</td>\n",
       "      <td id=\"T_c23c3_row0_col1\" class=\"data row0 col1\" >31.52</td>\n",
       "    </tr>\n",
       "    <tr>\n",
       "      <th id=\"T_c23c3_level0_row1\" class=\"row_heading level0 row1\" >2000-01-12</th>\n",
       "      <td id=\"T_c23c3_row1_col0\" class=\"data row1 col0\" >105.81</td>\n",
       "      <td id=\"T_c23c3_row1_col1\" class=\"data row1 col1\" >31.43</td>\n",
       "    </tr>\n",
       "    <tr>\n",
       "      <th id=\"T_c23c3_level0_row2\" class=\"row_heading level0 row2\" >2000-01-11</th>\n",
       "      <td id=\"T_c23c3_row2_col0\" class=\"data row2 col0\" >109.37</td>\n",
       "      <td id=\"T_c23c3_row2_col1\" class=\"data row2 col1\" >31.34</td>\n",
       "    </tr>\n",
       "  </tbody>\n",
       "</table>\n",
       "&nbsp;&nbsp;&nbsp;"
      ]
     },
     "metadata": {},
     "output_type": "display_data"
    },
    {
     "name": "stdout",
     "output_type": "stream",
     "text": [
      "\n"
     ]
    }
   ],
   "source": [
    "df_overview(msft, title = 'Microsoft & SMA50', fontsize = '16px')"
   ]
  },
  {
   "cell_type": "code",
   "execution_count": 19,
   "id": "ef1ab74b-488d-4ca5-9af2-e613de24de4a",
   "metadata": {},
   "outputs": [
    {
     "data": {
      "image/png": "[encoded data removed]",
      "text/plain": [
       "<Figure size 1300x700 with 1 Axes>"
      ]
     },
     "metadata": {},
     "output_type": "display_data"
    }
   ],
   "source": [
    "plot_lines([(msft.close, 'closing', 'yellow'),\n",
    "\t\t    (msft.sma50, 'sma50', 'lime')],\n",
    "\t\t   title = 'Microsoft Close v. SMA50',\n",
    "\t\t   xlabel = 'Years',\n",
    "\t\t   ylabel = 'Price')"
   ]
  },
  {
   "cell_type": "markdown",
   "id": "a3771272-ea2e-4a84-969b-e9675fd77919",
   "metadata": {},
   "source": [
    "<html>\n",
    "\t<table style=\"width:100%;\">\n",
    "\t\t<tr>\n",
    "\t\t\t<th style = 'font-size: 17px; font-weight: 525; background-color: #ad1759; padding: 8px; line-height: 1.5; color:white; border-radius: 3px;; text-align: left;' colspan=\"3\">Bollinger Bands</font></th>\n",
    "\t\t</tr>\n",
    "\t\t<tr>\n",
    "\t\t\t<th style = 'font-size: 16px; font-weight: 500; background-color: #f6b48f; padding: 5px 5px 3px 10px; line-height: 1.5; text-align: left; color:black;border-radius: 3px;; text-align: left;' colspan=\"3\">- Middle Band is the same as the SMA50<br>- Lower is minus 2 std from the SMA<br>- Upper is plus 2 std from the SMA</font></th>\n",
    "\t\t</tr>\n",
    "\t</table>\n",
    "</html>"
   ]
  },
  {
   "cell_type": "code",
   "execution_count": 20,
   "id": "c99893bd-bc52-47b0-b3be-04f1d824dde5",
   "metadata": {},
   "outputs": [
    {
     "data": {
      "text/html": [
       "<style type=\"text/css\">\n",
       "#T_f8c94 .row0 {\n",
       "  background-color: #ad1759;\n",
       "  color: white;\n",
       "  font-size: 15px;\n",
       "  font-weight: bold;\n",
       "  text-align: left;\n",
       "  padding: 8px;\n",
       "}\n",
       "#T_f8c94 tbody {\n",
       "  border: 1px solid;\n",
       "  border-color: black;\n",
       "}\n",
       "#T_f8c94 tr {\n",
       "  border: 0.8px solid;\n",
       "  border-color: black;\n",
       "}\n",
       "</style>\n",
       "<table id=\"T_f8c94\">\n",
       "  <thead>\n",
       "  </thead>\n",
       "  <tbody>\n",
       "    <tr>\n",
       "      <td id=\"T_f8c94_row0_col0\" class=\"data row0 col0\" >indicator.get_bbands()</td>\n",
       "    </tr>\n",
       "  </tbody>\n",
       "</table>\n"
      ],
      "text/plain": [
       "<pandas.io.formats.style.Styler at 0x7faeb006b340>"
      ]
     },
     "metadata": {},
     "output_type": "display_data"
    },
    {
     "name": "stdout",
     "output_type": "stream",
     "text": [
      "\n",
      "Help on method get_bbands in module alpha_vantage.techindicators:\n",
      "\n",
      "get_bbands(symbol, interval='daily', time_period=20, series_type='close', nbdevup=None, nbdevdn=None, matype=None) method of alpha_vantage.techindicators.TechIndicators instance\n",
      "    Return the bollinger bands values in two\n",
      "    json objects as data and meta_data. It raises ValueError when problems\n",
      "    arise\n",
      "    \n",
      "    Keyword Arguments:\n",
      "        symbol:  the symbol for the equity we want to get its data\n",
      "        interval:  time interval between two conscutive values,\n",
      "            supported values are '1min', '5min', '15min', '30min', '60min', 'daily',\n",
      "            'weekly', 'monthly' (default 'daily')\n",
      "        time_period:  Number of data points used to calculate each BBANDS value.\n",
      "            Positive integers are accepted (e.g., time_period=60, time_period=200)\n",
      "            (default=20)\n",
      "        series_type:  The desired price type in the time series. Four types\n",
      "            are supported: 'close', 'open', 'high', 'low' (default 'close')\n",
      "        nbdevup:  The standard deviation multiplier of the upper band. Positive\n",
      "            integers are accepted as default (default=2)\n",
      "        nbdevdn:  The standard deviation multiplier of the lower band. Positive\n",
      "            integers are accepted as default (default=2)\n",
      "        matype :  Moving average type. By default, matype=0.\n",
      "            Integers 0 - 8 are accepted (check  down the mappings) or the string\n",
      "            containing the math type can also be used.\n",
      "    \n",
      "            * 0 = Simple Moving Average (SMA),\n",
      "            * 1 = Exponential Moving Average (EMA),\n",
      "            * 2 = Weighted Moving Average (WMA),\n",
      "            * 3 = Double Exponential Moving Average (DEMA),\n",
      "            * 4 = Triple Exponential Moving Average (TEMA),\n",
      "            * 5 = Triangular Moving Average (TRIMA),\n",
      "            * 6 = T3 Moving Average,\n",
      "            * 7 = Kaufman Adaptive Moving Average (KAMA),\n",
      "            * 8 = MESA Adaptive Moving Average (MAMA)\n",
      "\n"
     ]
    }
   ],
   "source": [
    "pretty('indicator.get_bbands()')\n",
    "help(indicator.get_bbands)"
   ]
  },
  {
   "cell_type": "code",
   "execution_count": 21,
   "id": "ce508f48-6ab3-48fe-b2ce-b54ab0d84208",
   "metadata": {},
   "outputs": [],
   "source": [
    "bollinger = indicator.get_bbands('MSFT', interval = 'daily', time_period = 50)[0]"
   ]
  },
  {
   "cell_type": "code",
   "execution_count": 33,
   "id": "31e13117-279d-421d-a6a6-b549344f7158",
   "metadata": {},
   "outputs": [
    {
     "data": {
      "text/html": [
       "<style type=\"text/css\">\n",
       "#T_0a6d8 .row0 {\n",
       "  background-color: #ad1759;\n",
       "  color: white;\n",
       "  font-size: 15px;\n",
       "  font-weight: bold;\n",
       "  text-align: left;\n",
       "  padding: 8px;\n",
       "}\n",
       "#T_0a6d8 tbody {\n",
       "  border: 1px solid;\n",
       "  border-color: black;\n",
       "}\n",
       "#T_0a6d8 tr {\n",
       "  border: 0.8px solid;\n",
       "  border-color: black;\n",
       "}\n",
       "</style>\n",
       "<table id=\"T_0a6d8\">\n",
       "  <thead>\n",
       "  </thead>\n",
       "  <tbody>\n",
       "    <tr>\n",
       "      <td id=\"T_0a6d8_row0_col0\" class=\"data row0 col0\" >bollinger meta information</td>\n",
       "    </tr>\n",
       "  </tbody>\n",
       "</table>\n"
      ],
      "text/plain": [
       "<pandas.io.formats.style.Styler at 0x7faeb05f7cd0>"
      ]
     },
     "metadata": {},
     "output_type": "display_data"
    },
    {
     "name": "stdout",
     "output_type": "stream",
     "text": [
      "\n"
     ]
    },
    {
     "data": {
      "text/plain": [
       "{'1: Symbol': 'MSFT',\n",
       " '2: Indicator': 'Bollinger Bands (BBANDS)',\n",
       " '3: Last Refreshed': '2023-02-03',\n",
       " '4: Interval': 'daily',\n",
       " '5: Time Period': 50,\n",
       " '6.1: Deviation multiplier for upper band': 2,\n",
       " '6.2: Deviation multiplier for lower band': 2,\n",
       " '6.3: MA Type': 0,\n",
       " '7: Series Type': 'close',\n",
       " '8: Time Zone': 'US/Eastern Time'}"
      ]
     },
     "execution_count": 33,
     "metadata": {},
     "output_type": "execute_result"
    }
   ],
   "source": [
    "pretty('bollinger meta information')\n",
    "indicator.get_bbands('MSFT', interval = 'daily', time_period = 50)[1]"
   ]
  },
  {
   "cell_type": "code",
   "execution_count": 23,
   "id": "5bb58e96-7894-4fc6-8559-f9ed51bae3a6",
   "metadata": {},
   "outputs": [
    {
     "data": {
      "text/html": [
       "<center><style type=\"text/css\">\n",
       "#T_52d08 tr {\n",
       "  background-color: #ad1759;\n",
       "  color: white;\n",
       "  font-size: 18px;\n",
       "  font-weight: 600;\n",
       "  text-align: left;\n",
       "  padding: 3px 30px 3px 50px;\n",
       "}\n",
       "#T_52d08 td {\n",
       "  padding: 5px 10px 5px 10px;\n",
       "  width: 450px;\n",
       "  text-align: center;\n",
       "}\n",
       "</style>\n",
       "<table id=\"T_52d08\">\n",
       "  <thead>\n",
       "  </thead>\n",
       "  <tbody>\n",
       "    <tr>\n",
       "      <td id=\"T_52d08_row0_col0\" class=\"data row0 col0\" >Bollinger Bands</td>\n",
       "    </tr>\n",
       "  </tbody>\n",
       "</table>\n"
      ],
      "text/plain": [
       "<IPython.core.display.HTML object>"
      ]
     },
     "metadata": {},
     "output_type": "display_data"
    },
    {
     "data": {
      "text/html": [
       "<center><style type=\"text/css\">\n",
       "#T_5fb7f caption {\n",
       "  background: #ad1759;\n",
       "  border-radius: 3px;\n",
       "  padding: 5px;\n",
       "  color: white;\n",
       "  font-size: 12px;\n",
       "  font-weight: 600;\n",
       "}\n",
       "#T_5fb7f td {\n",
       "  padding: 8px 10px 8px 10px;\n",
       "}\n",
       "</style>\n",
       "<table id=\"T_5fb7f\" style='display:inline-block; vertical-align: top;'>\n",
       "  <caption>head(5)</caption>\n",
       "  <thead>\n",
       "    <tr>\n",
       "      <th class=\"blank level0\" >&nbsp;</th>\n",
       "      <th id=\"T_5fb7f_level0_col0\" class=\"col_heading level0 col0\" >Real Upper Band</th>\n",
       "      <th id=\"T_5fb7f_level0_col1\" class=\"col_heading level0 col1\" >Real Middle Band</th>\n",
       "      <th id=\"T_5fb7f_level0_col2\" class=\"col_heading level0 col2\" >Real Lower Band</th>\n",
       "    </tr>\n",
       "    <tr>\n",
       "      <th class=\"index_name level0\" >date</th>\n",
       "      <th class=\"blank col0\" >&nbsp;</th>\n",
       "      <th class=\"blank col1\" >&nbsp;</th>\n",
       "      <th class=\"blank col2\" >&nbsp;</th>\n",
       "    </tr>\n",
       "  </thead>\n",
       "  <tbody>\n",
       "    <tr>\n",
       "      <th id=\"T_5fb7f_level0_row0\" class=\"row_heading level0 row0\" >2023-02-03</th>\n",
       "      <td id=\"T_5fb7f_row0_col0\" class=\"data row0 col0\" >260.65</td>\n",
       "      <td id=\"T_5fb7f_row0_col1\" class=\"data row0 col1\" >243.14</td>\n",
       "      <td id=\"T_5fb7f_row0_col2\" class=\"data row0 col2\" >225.64</td>\n",
       "    </tr>\n",
       "    <tr>\n",
       "      <th id=\"T_5fb7f_level0_row1\" class=\"row_heading level0 row1\" >2023-02-02</th>\n",
       "      <td id=\"T_5fb7f_row1_col0\" class=\"data row1 col0\" >259.78</td>\n",
       "      <td id=\"T_5fb7f_row1_col1\" class=\"data row1 col1\" >242.82</td>\n",
       "      <td id=\"T_5fb7f_row1_col2\" class=\"data row1 col2\" >225.86</td>\n",
       "    </tr>\n",
       "    <tr>\n",
       "      <th id=\"T_5fb7f_level0_row2\" class=\"row_heading level0 row2\" >2023-02-01</th>\n",
       "      <td id=\"T_5fb7f_row2_col0\" class=\"data row2 col0\" >258.13</td>\n",
       "      <td id=\"T_5fb7f_row2_col1\" class=\"data row2 col1\" >242.35</td>\n",
       "      <td id=\"T_5fb7f_row2_col2\" class=\"data row2 col2\" >226.57</td>\n",
       "    </tr>\n",
       "    <tr>\n",
       "      <th id=\"T_5fb7f_level0_row3\" class=\"row_heading level0 row3\" >2023-01-31</th>\n",
       "      <td id=\"T_5fb7f_row3_col0\" class=\"data row3 col0\" >257.62</td>\n",
       "      <td id=\"T_5fb7f_row3_col1\" class=\"data row3 col1\" >242.13</td>\n",
       "      <td id=\"T_5fb7f_row3_col2\" class=\"data row3 col2\" >226.63</td>\n",
       "    </tr>\n",
       "    <tr>\n",
       "      <th id=\"T_5fb7f_level0_row4\" class=\"row_heading level0 row4\" >2023-01-30</th>\n",
       "      <td id=\"T_5fb7f_row4_col0\" class=\"data row4 col0\" >257.42</td>\n",
       "      <td id=\"T_5fb7f_row4_col1\" class=\"data row4 col1\" >242.01</td>\n",
       "      <td id=\"T_5fb7f_row4_col2\" class=\"data row4 col2\" >226.59</td>\n",
       "    </tr>\n",
       "  </tbody>\n",
       "</table>\n",
       "&nbsp;&nbsp;&nbsp;<style type=\"text/css\">\n",
       "#T_64e48 caption {\n",
       "  background: #ad1759;\n",
       "  border-radius: 3px;\n",
       "  padding: 5px;\n",
       "  color: white;\n",
       "  font-size: 12px;\n",
       "  font-weight: 600;\n",
       "}\n",
       "#T_64e48 td {\n",
       "  padding: 8px 10px 8px 10px;\n",
       "}\n",
       "</style>\n",
       "<table id=\"T_64e48\" style='display:inline-block; vertical-align: top;'>\n",
       "  <caption>tail(5)</caption>\n",
       "  <thead>\n",
       "    <tr>\n",
       "      <th class=\"blank level0\" >&nbsp;</th>\n",
       "      <th id=\"T_64e48_level0_col0\" class=\"col_heading level0 col0\" >Real Upper Band</th>\n",
       "      <th id=\"T_64e48_level0_col1\" class=\"col_heading level0 col1\" >Real Middle Band</th>\n",
       "      <th id=\"T_64e48_level0_col2\" class=\"col_heading level0 col2\" >Real Lower Band</th>\n",
       "    </tr>\n",
       "    <tr>\n",
       "      <th class=\"index_name level0\" >date</th>\n",
       "      <th class=\"blank col0\" >&nbsp;</th>\n",
       "      <th class=\"blank col1\" >&nbsp;</th>\n",
       "      <th class=\"blank col2\" >&nbsp;</th>\n",
       "    </tr>\n",
       "  </thead>\n",
       "  <tbody>\n",
       "    <tr>\n",
       "      <th id=\"T_64e48_level0_row0\" class=\"row_heading level0 row0\" >2000-01-18</th>\n",
       "      <td id=\"T_64e48_row0_col0\" class=\"data row0 col0\" >39.26</td>\n",
       "      <td id=\"T_64e48_row0_col1\" class=\"data row0 col1\" >31.80</td>\n",
       "      <td id=\"T_64e48_row0_col2\" class=\"data row0 col2\" >24.33</td>\n",
       "    </tr>\n",
       "    <tr>\n",
       "      <th id=\"T_64e48_level0_row1\" class=\"row_heading level0 row1\" >2000-01-14</th>\n",
       "      <td id=\"T_64e48_row1_col0\" class=\"data row1 col0\" >39.06</td>\n",
       "      <td id=\"T_64e48_row1_col1\" class=\"data row1 col1\" >31.65</td>\n",
       "      <td id=\"T_64e48_row1_col2\" class=\"data row1 col2\" >24.24</td>\n",
       "    </tr>\n",
       "    <tr>\n",
       "      <th id=\"T_64e48_level0_row2\" class=\"row_heading level0 row2\" >2000-01-13</th>\n",
       "      <td id=\"T_64e48_row2_col0\" class=\"data row2 col0\" >38.90</td>\n",
       "      <td id=\"T_64e48_row2_col1\" class=\"data row2 col1\" >31.52</td>\n",
       "      <td id=\"T_64e48_row2_col2\" class=\"data row2 col2\" >24.14</td>\n",
       "    </tr>\n",
       "    <tr>\n",
       "      <th id=\"T_64e48_level0_row3\" class=\"row_heading level0 row3\" >2000-01-12</th>\n",
       "      <td id=\"T_64e48_row3_col0\" class=\"data row3 col0\" >38.81</td>\n",
       "      <td id=\"T_64e48_row3_col1\" class=\"data row3 col1\" >31.43</td>\n",
       "      <td id=\"T_64e48_row3_col2\" class=\"data row3 col2\" >24.04</td>\n",
       "    </tr>\n",
       "    <tr>\n",
       "      <th id=\"T_64e48_level0_row4\" class=\"row_heading level0 row4\" >2000-01-11</th>\n",
       "      <td id=\"T_64e48_row4_col0\" class=\"data row4 col0\" >38.74</td>\n",
       "      <td id=\"T_64e48_row4_col1\" class=\"data row4 col1\" >31.34</td>\n",
       "      <td id=\"T_64e48_row4_col2\" class=\"data row4 col2\" >23.94</td>\n",
       "    </tr>\n",
       "  </tbody>\n",
       "</table>\n",
       "&nbsp;&nbsp;&nbsp;"
      ]
     },
     "metadata": {},
     "output_type": "display_data"
    },
    {
     "name": "stdout",
     "output_type": "stream",
     "text": [
      "\n"
     ]
    }
   ],
   "source": [
    "head_tail_horz(bollinger, 5, \"Bollinger Bands\")"
   ]
  },
  {
   "cell_type": "markdown",
   "id": "02456751-57d8-4367-aa3d-c4c6a7009378",
   "metadata": {},
   "source": [
    "<html>\n",
    "\t<table style=\"width:100%;\">\n",
    "\t\t<tr>\n",
    "\t\t\t<th style = 'font-size: 16px; font-weight: 500; background-color: #f6b48f; padding: 5px 5px 3px 10px; line-height: 1.5; text-align: left; color:black;border-radius: 3px;; text-align: left;' colspan=\"3\"><b><i># combining with Microsoft close and SMA50</i></b></font></th>\n",
    "\t\t</tr>\n",
    "\t</table>\n",
    "</html>"
   ]
  },
  {
   "cell_type": "code",
   "execution_count": 24,
   "id": "a0c2e47d-4a71-4406-84d6-514f8e346ef7",
   "metadata": {},
   "outputs": [],
   "source": [
    "msft_full = msft.merge(bollinger,\n",
    "\t\t\t\t\t   how = 'left', \n",
    "\t\t\t\t\t   left_on = 'date', \n",
    "\t\t\t\t\t   right_on = 'date').drop(columns = ['Real Middle Band'])\n",
    "msft_full.columns = ['close', 'sma50', 'upper_bband', 'lower_bband']"
   ]
  },
  {
   "cell_type": "code",
   "execution_count": 25,
   "id": "2a17b4b9-d2b7-41c6-bfb8-8fecbb31212a",
   "metadata": {},
   "outputs": [
    {
     "name": "stdout",
     "output_type": "stream",
     "text": [
      "\n"
     ]
    },
    {
     "data": {
      "text/html": [
       "<center><style type=\"text/css\">\n",
       "#T_14ae6 tr {\n",
       "  background-color: #ad1759;\n",
       "  color: white;\n",
       "  font-size: 18px;\n",
       "  font-weight: 600;\n",
       "  text-align: left;\n",
       "  padding: 3px 30px 3px 50px;\n",
       "}\n",
       "#T_14ae6 td {\n",
       "  padding: 5px 10px 5px 10px;\n",
       "  width: 450px;\n",
       "  text-align: center;\n",
       "}\n",
       "</style>\n",
       "<table id=\"T_14ae6\">\n",
       "  <thead>\n",
       "  </thead>\n",
       "  <tbody>\n",
       "    <tr>\n",
       "      <td id=\"T_14ae6_row0_col0\" class=\"data row0 col0\" >Microsoft Data with Upper & Lower Bollinger Bands: head(3)</td>\n",
       "    </tr>\n",
       "  </tbody>\n",
       "</table>\n"
      ],
      "text/plain": [
       "<IPython.core.display.HTML object>"
      ]
     },
     "metadata": {},
     "output_type": "display_data"
    },
    {
     "data": {
      "text/html": [
       "<center><table border=\"1\" class=\"dataframe\">\n",
       "  <thead>\n",
       "    <tr style=\"text-align: right;\">\n",
       "      <th></th>\n",
       "      <th>close</th>\n",
       "      <th>sma50</th>\n",
       "      <th>upper_bband</th>\n",
       "      <th>lower_bband</th>\n",
       "    </tr>\n",
       "    <tr>\n",
       "      <th>date</th>\n",
       "      <th></th>\n",
       "      <th></th>\n",
       "      <th></th>\n",
       "      <th></th>\n",
       "    </tr>\n",
       "  </thead>\n",
       "  <tbody>\n",
       "    <tr>\n",
       "      <th>2023-02-03</th>\n",
       "      <td>258.35</td>\n",
       "      <td>243.14</td>\n",
       "      <td>260.65</td>\n",
       "      <td>225.64</td>\n",
       "    </tr>\n",
       "    <tr>\n",
       "      <th>2023-02-02</th>\n",
       "      <td>264.60</td>\n",
       "      <td>242.82</td>\n",
       "      <td>259.78</td>\n",
       "      <td>225.86</td>\n",
       "    </tr>\n",
       "    <tr>\n",
       "      <th>2023-02-01</th>\n",
       "      <td>252.75</td>\n",
       "      <td>242.35</td>\n",
       "      <td>258.13</td>\n",
       "      <td>226.57</td>\n",
       "    </tr>\n",
       "  </tbody>\n",
       "</table>"
      ],
      "text/plain": [
       "<IPython.core.display.HTML object>"
      ]
     },
     "metadata": {},
     "output_type": "display_data"
    },
    {
     "name": "stdout",
     "output_type": "stream",
     "text": [
      "\n"
     ]
    },
    {
     "data": {
      "text/html": [
       "<center><style type=\"text/css\">\n",
       "#T_58dcb tr {\n",
       "  background-color: #ad1759;\n",
       "  color: white;\n",
       "  font-size: 18px;\n",
       "  font-weight: 600;\n",
       "  text-align: left;\n",
       "  padding: 3px 30px 3px 50px;\n",
       "}\n",
       "#T_58dcb td {\n",
       "  padding: 5px 10px 5px 10px;\n",
       "  width: 450px;\n",
       "  text-align: center;\n",
       "}\n",
       "</style>\n",
       "<table id=\"T_58dcb\">\n",
       "  <thead>\n",
       "  </thead>\n",
       "  <tbody>\n",
       "    <tr>\n",
       "      <td id=\"T_58dcb_row0_col0\" class=\"data row0 col0\" >Microsoft Data with Upper & Lower Bollinger Bands: tail(3)</td>\n",
       "    </tr>\n",
       "  </tbody>\n",
       "</table>\n"
      ],
      "text/plain": [
       "<IPython.core.display.HTML object>"
      ]
     },
     "metadata": {},
     "output_type": "display_data"
    },
    {
     "data": {
      "text/html": [
       "<center><table border=\"1\" class=\"dataframe\">\n",
       "  <thead>\n",
       "    <tr style=\"text-align: right;\">\n",
       "      <th></th>\n",
       "      <th>close</th>\n",
       "      <th>sma50</th>\n",
       "      <th>upper_bband</th>\n",
       "      <th>lower_bband</th>\n",
       "    </tr>\n",
       "    <tr>\n",
       "      <th>date</th>\n",
       "      <th></th>\n",
       "      <th></th>\n",
       "      <th></th>\n",
       "      <th></th>\n",
       "    </tr>\n",
       "  </thead>\n",
       "  <tbody>\n",
       "    <tr>\n",
       "      <th>2000-01-13</th>\n",
       "      <td>107.81</td>\n",
       "      <td>31.52</td>\n",
       "      <td>38.90</td>\n",
       "      <td>24.14</td>\n",
       "    </tr>\n",
       "    <tr>\n",
       "      <th>2000-01-12</th>\n",
       "      <td>105.81</td>\n",
       "      <td>31.43</td>\n",
       "      <td>38.81</td>\n",
       "      <td>24.04</td>\n",
       "    </tr>\n",
       "    <tr>\n",
       "      <th>2000-01-11</th>\n",
       "      <td>109.37</td>\n",
       "      <td>31.34</td>\n",
       "      <td>38.74</td>\n",
       "      <td>23.94</td>\n",
       "    </tr>\n",
       "  </tbody>\n",
       "</table>"
      ],
      "text/plain": [
       "<IPython.core.display.HTML object>"
      ]
     },
     "metadata": {},
     "output_type": "display_data"
    },
    {
     "name": "stdout",
     "output_type": "stream",
     "text": [
      "\n"
     ]
    }
   ],
   "source": [
    "head_tail_vert(msft_full, 3, 'Microsoft Data with Upper & Lower Bollinger Bands')"
   ]
  },
  {
   "cell_type": "markdown",
   "id": "2eb8e3f6-4a60-4376-b0c0-4585ffdedb14",
   "metadata": {},
   "source": [
    "<html>\n",
    "\t<table style=\"width:100%;\">\n",
    "\t\t<tr>\n",
    "\t\t\t<th style = 'font-size: 16px; font-weight: 500; background-color: #f6b48f; padding: 5px 5px 3px 10px; line-height: 1.5; text-align: left; color:black;border-radius: 3px;; text-align: left;' colspan=\"3\"><b><i>Bands indicate volatility:</i></b><br>- if bands are close together, it indicates low volatility<br>- if they are farther apart, it indicates higher volatility<br>- if current price is above the upper band, signals selling<br>- if current price is below the lower band, signals buying</font></th>\n",
    "\t\t</tr>\n",
    "\t</table>\n",
    "</html>"
   ]
  },
  {
   "cell_type": "code",
   "execution_count": 26,
   "id": "3141d6f8-1b6d-466b-96cb-bea0afc95851",
   "metadata": {},
   "outputs": [
    {
     "data": {
      "image/png": "[encoded data removed]",
      "text/plain": [
       "<Figure size 1300x700 with 1 Axes>"
      ]
     },
     "metadata": {},
     "output_type": "display_data"
    }
   ],
   "source": [
    "plot_lines([(msft_full.loc['2016-01-05':'2018-12-31'].close, \n",
    "\t\t\t 'Close', 'white'),\n",
    "\t\t\t(msft_full.loc['2016-01-05':'2018-12-31'].upper_bband, \n",
    "\t\t\t 'Upper Bollinger', 'yellow'),\n",
    "\t\t\t(msft_full.loc['2016-01-05':'2018-12-31'].sma50, \n",
    "\t\t\t 'Middle Bollinger/SMA50', 'cyan'),\n",
    "\t\t    (msft_full.loc['2016-01-05':'2018-12-31'].lower_bband, \n",
    "\t\t\t 'Lower Bollinger', 'lime')],\n",
    "\t\t   title = 'Microsoft Upper Bollinger Bands',\n",
    "\t\t   xlabel = 'Years',\n",
    "\t\t   ylabel = 'Price')"
   ]
  },
  {
   "cell_type": "markdown",
   "id": "c9777c42-0039-4aad-9474-7eacb0f325c6",
   "metadata": {},
   "source": [
    "<html>\n",
    "\t<table style=\"width:100%;\">\n",
    "\t\t<tr>\n",
    "\t\t\t<th style = 'font-size: 16px; font-weight: 500; background-color: #f6b48f; padding: 5px 5px 3px 10px; line-height: 1.5; text-align: left; color:black;border-radius: 3px;; text-align: left;' colspan=\"3\"><b><i>macd</i></b> - moving average convergence divergence</font></th>\n",
    "\t\t</tr>\n",
    "\t</table></html>\n",
    "\n",
    "<html>\n",
    "\t<a href='https://www.investopedia.com/terms/m/macd.asp'><b>(from Investopedia)</b></a></font><br>\n",
    "</html>\n",
    "\t\n",
    "<html>\n",
    "\t<table style=\"width:100%;\">\n",
    "\t\t<tr>\n",
    "\t\t\t<th style = 'font-size: 15px; font-weight: 500; background-color: #ad1759; padding: 8px; line-height: 1.5; color:white; border-radius: 3px;; text-align: left;' colspan=\"3\">Moving average convergence/divergence (MACD, or MAC-D) is a trend-following momentum indicator that shows the relationship between two exponential moving averages (EMAs) of a security’s price. The MACD line is calculated by subtracting the 26-period EMA from the 12-period EMA.<br><p><p>The result of that calculation is the MACD line. A nine-day EMA of the MACD line is called the signal line, which is then plotted on top of the MACD line, which can function as a trigger for buy or sell signals. Traders may buy the security when the MACD line crosses above the signal line and sell—or short—the security when the MACD line crosses below the signal line. MACD indicators can be interpreted in several ways, but the more common methods are crossovers, divergences, and rapid rises/falls. </font></th>\n",
    "\t\t</tr>\n",
    "\t</table>\n",
    "</html>"
   ]
  },
  {
   "cell_type": "code",
   "execution_count": 27,
   "id": "336cadab-6fd5-405d-ad8f-4cf079501e10",
   "metadata": {},
   "outputs": [
    {
     "data": {
      "text/html": [
       "<style type=\"text/css\">\n",
       "#T_fef5d .row0 {\n",
       "  background-color: #ad1759;\n",
       "  color: white;\n",
       "  font-size: 15px;\n",
       "  font-weight: bold;\n",
       "  text-align: left;\n",
       "  padding: 8px;\n",
       "}\n",
       "#T_fef5d tbody {\n",
       "  border: 1px solid;\n",
       "  border-color: black;\n",
       "}\n",
       "#T_fef5d tr {\n",
       "  border: 0.8px solid;\n",
       "  border-color: black;\n",
       "}\n",
       "</style>\n",
       "<table id=\"T_fef5d\">\n",
       "  <thead>\n",
       "  </thead>\n",
       "  <tbody>\n",
       "    <tr>\n",
       "      <td id=\"T_fef5d_row0_col0\" class=\"data row0 col0\" >indicator.get_macd()</td>\n",
       "    </tr>\n",
       "  </tbody>\n",
       "</table>\n"
      ],
      "text/plain": [
       "<pandas.io.formats.style.Styler at 0x7faeb05c6470>"
      ]
     },
     "metadata": {},
     "output_type": "display_data"
    },
    {
     "name": "stdout",
     "output_type": "stream",
     "text": [
      "\n",
      "Help on method get_macd in module alpha_vantage.techindicators:\n",
      "\n",
      "get_macd(symbol, interval='daily', series_type='close', fastperiod=None, slowperiod=None, signalperiod=None) method of alpha_vantage.techindicators.TechIndicators instance\n",
      "    Return the moving average convergence/divergence time series in two\n",
      "    json objects as data and meta_data. It raises ValueError when problems\n",
      "    arise\n",
      "    \n",
      "    Keyword Arguments:\n",
      "        symbol:  the symbol for the equity we want to get its data\n",
      "        interval:  time interval between two conscutive values,\n",
      "            supported values are '1min', '5min', '15min', '30min', '60min', 'daily',\n",
      "            'weekly', 'monthly' (default 'daily'\n",
      "        series_type:  The desired price type in the time series. Four types\n",
      "            are supported: 'close', 'open', 'high', 'low' (default 'close')\n",
      "        fastperiod:  Positive integers are accepted (default=None)\n",
      "        slowperiod:  Positive integers are accepted (default=None)\n",
      "        signalperiod:  Positive integers are accepted (default=None)\n",
      "\n"
     ]
    }
   ],
   "source": [
    "pretty('indicator.get_macd()')\n",
    "help(indicator.get_macd)"
   ]
  },
  {
   "cell_type": "code",
   "execution_count": 28,
   "id": "91644112-50a9-4296-a028-79dd111ae49d",
   "metadata": {},
   "outputs": [],
   "source": [
    "macd = indicator.get_macd('MSFT', interval = 'daily')[0]"
   ]
  },
  {
   "cell_type": "code",
   "execution_count": 29,
   "id": "62f1ad5b-383a-42f4-9ada-a94aad464d18",
   "metadata": {},
   "outputs": [
    {
     "data": {
      "text/html": [
       "<style type=\"text/css\">\n",
       "#T_293ba .row0 {\n",
       "  background-color: #ad1759;\n",
       "  color: white;\n",
       "  font-size: 15px;\n",
       "  font-weight: bold;\n",
       "  text-align: left;\n",
       "  padding: 8px;\n",
       "}\n",
       "#T_293ba tbody {\n",
       "  border: 1px solid;\n",
       "  border-color: black;\n",
       "}\n",
       "#T_293ba tr {\n",
       "  border: 0.8px solid;\n",
       "  border-color: black;\n",
       "}\n",
       "</style>\n",
       "<table id=\"T_293ba\">\n",
       "  <thead>\n",
       "  </thead>\n",
       "  <tbody>\n",
       "    <tr>\n",
       "      <td id=\"T_293ba_row0_col0\" class=\"data row0 col0\" >macd meta information</td>\n",
       "    </tr>\n",
       "  </tbody>\n",
       "</table>\n"
      ],
      "text/plain": [
       "<pandas.io.formats.style.Styler at 0x7faeb006b190>"
      ]
     },
     "metadata": {},
     "output_type": "display_data"
    },
    {
     "name": "stdout",
     "output_type": "stream",
     "text": [
      "\n"
     ]
    },
    {
     "data": {
      "text/plain": [
       "{'1: Symbol': 'MSFT',\n",
       " '2: Indicator': 'Moving Average Convergence/Divergence (MACD)',\n",
       " '3: Last Refreshed': '2023-02-03',\n",
       " '4: Interval': 'daily',\n",
       " '5.1: Fast Period': 12,\n",
       " '5.2: Slow Period': 26,\n",
       " '5.3: Signal Period': 9,\n",
       " '6: Series Type': 'close',\n",
       " '7: Time Zone': 'US/Eastern'}"
      ]
     },
     "execution_count": 29,
     "metadata": {},
     "output_type": "execute_result"
    }
   ],
   "source": [
    "pretty('macd meta information')\n",
    "indicator.get_macd('MSFT', interval = 'daily')[1]"
   ]
  },
  {
   "cell_type": "code",
   "execution_count": 30,
   "id": "4a4eebaf-14f4-467a-9bf2-46e69b6e1023",
   "metadata": {},
   "outputs": [
    {
     "data": {
      "text/html": [
       "<center><style type=\"text/css\">\n",
       "#T_c19f6 tr {\n",
       "  background-color: #ad1759;\n",
       "  color: white;\n",
       "  font-size: 18px;\n",
       "  font-weight: 600;\n",
       "  text-align: left;\n",
       "  padding: 3px 30px 3px 50px;\n",
       "}\n",
       "#T_c19f6 td {\n",
       "  padding: 5px 10px 5px 10px;\n",
       "  width: 450px;\n",
       "  text-align: center;\n",
       "}\n",
       "</style>\n",
       "<table id=\"T_c19f6\">\n",
       "  <thead>\n",
       "  </thead>\n",
       "  <tbody>\n",
       "    <tr>\n",
       "      <td id=\"T_c19f6_row0_col0\" class=\"data row0 col0\" >Moving Average Convergence Divergence</td>\n",
       "    </tr>\n",
       "  </tbody>\n",
       "</table>\n"
      ],
      "text/plain": [
       "<IPython.core.display.HTML object>"
      ]
     },
     "metadata": {},
     "output_type": "display_data"
    },
    {
     "data": {
      "text/html": [
       "<center><style type=\"text/css\">\n",
       "#T_319d2 caption {\n",
       "  background: #ad1759;\n",
       "  border-radius: 3px;\n",
       "  padding: 5px;\n",
       "  color: white;\n",
       "  font-size: 12px;\n",
       "  font-weight: 600;\n",
       "}\n",
       "#T_319d2 td {\n",
       "  padding: 8px 10px 8px 10px;\n",
       "}\n",
       "</style>\n",
       "<table id=\"T_319d2\" style='display:inline-block; vertical-align: top;'>\n",
       "  <caption>head(5)</caption>\n",
       "  <thead>\n",
       "    <tr>\n",
       "      <th class=\"blank level0\" >&nbsp;</th>\n",
       "      <th id=\"T_319d2_level0_col0\" class=\"col_heading level0 col0\" >MACD</th>\n",
       "      <th id=\"T_319d2_level0_col1\" class=\"col_heading level0 col1\" >MACD_Signal</th>\n",
       "      <th id=\"T_319d2_level0_col2\" class=\"col_heading level0 col2\" >MACD_Hist</th>\n",
       "    </tr>\n",
       "    <tr>\n",
       "      <th class=\"index_name level0\" >date</th>\n",
       "      <th class=\"blank col0\" >&nbsp;</th>\n",
       "      <th class=\"blank col1\" >&nbsp;</th>\n",
       "      <th class=\"blank col2\" >&nbsp;</th>\n",
       "    </tr>\n",
       "  </thead>\n",
       "  <tbody>\n",
       "    <tr>\n",
       "      <th id=\"T_319d2_level0_row0\" class=\"row_heading level0 row0\" >2023-02-03</th>\n",
       "      <td id=\"T_319d2_row0_col0\" class=\"data row0 col0\" >4.56</td>\n",
       "      <td id=\"T_319d2_row0_col1\" class=\"data row0 col1\" >2.00</td>\n",
       "      <td id=\"T_319d2_row0_col2\" class=\"data row0 col2\" >2.56</td>\n",
       "    </tr>\n",
       "    <tr>\n",
       "      <th id=\"T_319d2_level0_row1\" class=\"row_heading level0 row1\" >2023-02-02</th>\n",
       "      <td id=\"T_319d2_row1_col0\" class=\"data row1 col0\" >3.95</td>\n",
       "      <td id=\"T_319d2_row1_col1\" class=\"data row1 col1\" >1.36</td>\n",
       "      <td id=\"T_319d2_row1_col2\" class=\"data row1 col2\" >2.59</td>\n",
       "    </tr>\n",
       "    <tr>\n",
       "      <th id=\"T_319d2_level0_row2\" class=\"row_heading level0 row2\" >2023-02-01</th>\n",
       "      <td id=\"T_319d2_row2_col0\" class=\"data row2 col0\" >2.48</td>\n",
       "      <td id=\"T_319d2_row2_col1\" class=\"data row2 col1\" >0.71</td>\n",
       "      <td id=\"T_319d2_row2_col2\" class=\"data row2 col2\" >1.77</td>\n",
       "    </tr>\n",
       "    <tr>\n",
       "      <th id=\"T_319d2_level0_row3\" class=\"row_heading level0 row3\" >2023-01-31</th>\n",
       "      <td id=\"T_319d2_row3_col0\" class=\"data row3 col0\" >1.78</td>\n",
       "      <td id=\"T_319d2_row3_col1\" class=\"data row3 col1\" >0.26</td>\n",
       "      <td id=\"T_319d2_row3_col2\" class=\"data row3 col2\" >1.51</td>\n",
       "    </tr>\n",
       "    <tr>\n",
       "      <th id=\"T_319d2_level0_row4\" class=\"row_heading level0 row4\" >2023-01-30</th>\n",
       "      <td id=\"T_319d2_row4_col0\" class=\"data row4 col0\" >1.36</td>\n",
       "      <td id=\"T_319d2_row4_col1\" class=\"data row4 col1\" >-0.12</td>\n",
       "      <td id=\"T_319d2_row4_col2\" class=\"data row4 col2\" >1.47</td>\n",
       "    </tr>\n",
       "  </tbody>\n",
       "</table>\n",
       "&nbsp;&nbsp;&nbsp;<style type=\"text/css\">\n",
       "#T_83691 caption {\n",
       "  background: #ad1759;\n",
       "  border-radius: 3px;\n",
       "  padding: 5px;\n",
       "  color: white;\n",
       "  font-size: 12px;\n",
       "  font-weight: 600;\n",
       "}\n",
       "#T_83691 td {\n",
       "  padding: 8px 10px 8px 10px;\n",
       "}\n",
       "</style>\n",
       "<table id=\"T_83691\" style='display:inline-block; vertical-align: top;'>\n",
       "  <caption>tail(5)</caption>\n",
       "  <thead>\n",
       "    <tr>\n",
       "      <th class=\"blank level0\" >&nbsp;</th>\n",
       "      <th id=\"T_83691_level0_col0\" class=\"col_heading level0 col0\" >MACD</th>\n",
       "      <th id=\"T_83691_level0_col1\" class=\"col_heading level0 col1\" >MACD_Signal</th>\n",
       "      <th id=\"T_83691_level0_col2\" class=\"col_heading level0 col2\" >MACD_Hist</th>\n",
       "    </tr>\n",
       "    <tr>\n",
       "      <th class=\"index_name level0\" >date</th>\n",
       "      <th class=\"blank col0\" >&nbsp;</th>\n",
       "      <th class=\"blank col1\" >&nbsp;</th>\n",
       "      <th class=\"blank col2\" >&nbsp;</th>\n",
       "    </tr>\n",
       "  </thead>\n",
       "  <tbody>\n",
       "    <tr>\n",
       "      <th id=\"T_83691_level0_row0\" class=\"row_heading level0 row0\" >1999-12-23</th>\n",
       "      <td id=\"T_83691_row0_col0\" class=\"data row0 col0\" >2.24</td>\n",
       "      <td id=\"T_83691_row0_col1\" class=\"data row0 col1\" >1.52</td>\n",
       "      <td id=\"T_83691_row0_col2\" class=\"data row0 col2\" >0.71</td>\n",
       "    </tr>\n",
       "    <tr>\n",
       "      <th id=\"T_83691_level0_row1\" class=\"row_heading level0 row1\" >1999-12-22</th>\n",
       "      <td id=\"T_83691_row1_col0\" class=\"data row1 col0\" >2.13</td>\n",
       "      <td id=\"T_83691_row1_col1\" class=\"data row1 col1\" >1.34</td>\n",
       "      <td id=\"T_83691_row1_col2\" class=\"data row1 col2\" >0.79</td>\n",
       "    </tr>\n",
       "    <tr>\n",
       "      <th id=\"T_83691_level0_row2\" class=\"row_heading level0 row2\" >1999-12-21</th>\n",
       "      <td id=\"T_83691_row2_col0\" class=\"data row2 col0\" >1.97</td>\n",
       "      <td id=\"T_83691_row2_col1\" class=\"data row2 col1\" >1.15</td>\n",
       "      <td id=\"T_83691_row2_col2\" class=\"data row2 col2\" >0.82</td>\n",
       "    </tr>\n",
       "    <tr>\n",
       "      <th id=\"T_83691_level0_row3\" class=\"row_heading level0 row3\" >1999-12-20</th>\n",
       "      <td id=\"T_83691_row3_col0\" class=\"data row3 col0\" >1.78</td>\n",
       "      <td id=\"T_83691_row3_col1\" class=\"data row3 col1\" >0.94</td>\n",
       "      <td id=\"T_83691_row3_col2\" class=\"data row3 col2\" >0.84</td>\n",
       "    </tr>\n",
       "    <tr>\n",
       "      <th id=\"T_83691_level0_row4\" class=\"row_heading level0 row4\" >1999-12-17</th>\n",
       "      <td id=\"T_83691_row4_col0\" class=\"data row4 col0\" >1.61</td>\n",
       "      <td id=\"T_83691_row4_col1\" class=\"data row4 col1\" >0.73</td>\n",
       "      <td id=\"T_83691_row4_col2\" class=\"data row4 col2\" >0.88</td>\n",
       "    </tr>\n",
       "  </tbody>\n",
       "</table>\n",
       "&nbsp;&nbsp;&nbsp;"
      ]
     },
     "metadata": {},
     "output_type": "display_data"
    },
    {
     "name": "stdout",
     "output_type": "stream",
     "text": [
      "\n"
     ]
    }
   ],
   "source": [
    "head_tail_horz(macd, 5, 'Moving Average Convergence Divergence')"
   ]
  },
  {
   "cell_type": "markdown",
   "id": "437c40eb-2d03-47fa-8802-2948b8ad631c",
   "metadata": {},
   "source": [
    "<html>\n",
    "\t<table style=\"width:100%;\">\n",
    "\t\t<tr>\n",
    "\t\t\t<th style = 'font-size: 16px; font-weight: 500; background-color: #f6b48f; padding: 5px 5px 3px 10px; line-height: 1.5; text-align: left; color:black;border-radius: 3px;; text-align: left;' colspan=\"3\"><b><i># combining with Microsoft close and MACDs</i></b></font></th>\n",
    "\t\t</tr>\n",
    "\t</table>\n",
    "</html>"
   ]
  },
  {
   "cell_type": "code",
   "execution_count": 31,
   "id": "b13f1ceb-c424-47e6-84b9-64b753684635",
   "metadata": {},
   "outputs": [],
   "source": [
    "msft_full = msft_full.merge(macd,\n",
    "\t\t\t\t\t   how = 'left', \n",
    "\t\t\t\t\t   left_on = 'date', \n",
    "\t\t\t\t\t   right_on = 'date')"
   ]
  },
  {
   "cell_type": "code",
   "execution_count": 32,
   "id": "1083c9e0-33fc-4608-b740-830dc2ee6c8b",
   "metadata": {},
   "outputs": [
    {
     "data": {
      "image/png": "[encoded data removed]",
      "text/plain": [
       "<Figure size 1300x700 with 2 Axes>"
      ]
     },
     "metadata": {},
     "output_type": "display_data"
    }
   ],
   "source": [
    "plt.style.use('pinks.mplstyle')\n",
    "fig, axs = plt.subplots(2)\n",
    "fig.suptitle('Vertically stacked subplots')\n",
    "axs[0].plot(msft_full.loc['2017-01-05':'2018-12-31'].close, \n",
    "\t\t\t label = 'close', color = 'white');\n",
    "axs[0].set_ylabel('MSFT Close')\n",
    "axs[0].legend(loc = 2, fontsize = 10);\n",
    "axs[1].plot(msft_full.loc['2017-01-05':'2018-12-31'].MACD, \n",
    "\t\t\tlabel = 'MACD', color = 'cyan');\n",
    "axs[1].plot(msft_full.loc['2017-01-05':'2018-12-31'].MACD_Signal, \n",
    "\t\t\t label = 'MACD Signal', color = 'yellow');\n",
    "axs[1].plot(msft_full.loc['2017-01-05':'2018-12-31'].MACD_Hist, \n",
    "\t\t\t label = 'MACD Hist', color = 'lime');\n",
    "axs[1].legend(loc = 2, fontsize = 10);\n",
    "axs[1].set_ylabel('MACDs');\n",
    "plt.suptitle('Microsoft: Close & MACDs');"
   ]
  },
  {
   "cell_type": "markdown",
   "id": "128a6f73-4ba5-470d-a258-783f69d990a8",
   "metadata": {},
   "source": [
    "<a name = 'foreign'></a>\n",
    "\n",
    "<hr class=\"dashed\" style = 'color: #ad1759'>\n",
    "\n",
    "<html>\n",
    "\t<table style=\"width:100%;\">\n",
    "\t\t<tr>\n",
    "\t\t\t<th style = 'background-color: #f6b48f; padding: 5px 5px 3px 5px; line-height: 1.5; color:white; border-radius: 3px; font-size: 14px; font-weight: 475; text-align: center;'  colspan=\"3\"> |  <a href=\"#top\">Top</a>  |  <a href=\"#data\">Getting Data</a>  |  <a href=\"#splits\">Splits & Dividends</a>   |  <a href=\"#datetime\">The Datetime Index</a>  |  <a href=\"#intervals\">Frequency & Intervals</a>  |  <a href=\"#indicators\">Technical Indicators</a>  |  <a href=\"#foreign\">Foreign Exchange</a>  |  <a href=\"#crypto\">Cryptocurrencies</a>  |  </font></th>\n",
    "\t\t</tr>\n",
    "\t</table>\n",
    "</html>\n",
    "\n",
    "<hr class=\"dashed\" style = 'color: #ad1759'>\n",
    "\n"
   ]
  },
  {
   "cell_type": "markdown",
   "id": "21069bc1-e0cd-4742-a73b-60307cd801ae",
   "metadata": {},
   "source": [
    "<html>\n",
    "\t<table style=\"width:100%;\">\n",
    "\t\t<tr>\n",
    "\t\t\t<th style = 'background-color: #35193e; padding: 5px 5px 3px 5px; line-height: 1.5; color:white;border-radius: 3px;; text-align: center; border-top: 1.5px solid white;' colspan=\"3\"><font size = 6>Currencies / Foreign Exchanges</font></th>\n",
    "\t\t</tr>\n",
    "\t</table>\n",
    "</html>"
   ]
  },
  {
   "cell_type": "code",
   "execution_count": null,
   "id": "8c970f29-ac81-4d16-b8a6-85970e5ad825",
   "metadata": {},
   "outputs": [],
   "source": [
    "from alpha_vantage.foreignexchange import ForeignExchange"
   ]
  },
  {
   "cell_type": "code",
   "execution_count": null,
   "id": "43a251a0-9e0a-48ab-85ba-ab28773dd333",
   "metadata": {},
   "outputs": [],
   "source": [
    "foreign = ForeignExchange(key = api_key, output_format = 'pandas')"
   ]
  },
  {
   "cell_type": "code",
   "execution_count": null,
   "id": "bdc95eb3-07a3-4bd5-8c84-611a2455f51c",
   "metadata": {},
   "outputs": [],
   "source": [
    "pretty('ForeignExchange()')\n",
    "help(foreign)"
   ]
  },
  {
   "cell_type": "markdown",
   "id": "ba5f8de1-73e0-4d64-b22d-6e39f0ba4613",
   "metadata": {},
   "source": [
    "<html>\n",
    "\t<table style=\"width:100%;\">\n",
    "\t\t<tr>\n",
    "\t\t\t<th style = 'font-size: 16px; font-weight: 500; background-color: #f6b48f; padding: 5px 5px 3px 10px; line-height: 1.5; text-align: left; color:black;border-radius: 3px;; text-align: left;' colspan=\"3\"><b><i># Euro to USD</i></b></font></th>\n",
    "\t\t</tr>\n",
    "\t</table>\n",
    "</html>"
   ]
  },
  {
   "cell_type": "code",
   "execution_count": null,
   "id": "b23038db-bee1-49b4-91b7-58c7c2da46f5",
   "metadata": {},
   "outputs": [],
   "source": [
    "eur_usd = foreign.get_currency_exchange_daily('USD', 'EUR', outputsize = 'full')[0]"
   ]
  },
  {
   "cell_type": "code",
   "execution_count": null,
   "id": "12b69d8d-1c71-41fa-b9c4-466213d782c2",
   "metadata": {},
   "outputs": [],
   "source": [
    "pretty('foreign.get_currency_exchange_daily()')\n",
    "help(foreign.get_currency_exchange_daily)"
   ]
  },
  {
   "cell_type": "code",
   "execution_count": null,
   "id": "c59a07c2-5e27-49ab-ba40-1b78c764b5c1",
   "metadata": {},
   "outputs": [],
   "source": [
    "pretty('usd_eur meta information')\n",
    "foreign.get_currency_exchange_daily('USD', 'EUR', outputsize = 'full')[1]"
   ]
  },
  {
   "cell_type": "code",
   "execution_count": null,
   "id": "2a918eab-6733-48fe-8f8b-6dfc8fe992f4",
   "metadata": {},
   "outputs": [],
   "source": [
    "head_tail_horz(eur_usd, 3, 'Euro to USD')"
   ]
  },
  {
   "cell_type": "markdown",
   "id": "80eb8c90-61e9-4df8-bf05-f75ce2fdcefe",
   "metadata": {},
   "source": [
    "<html>\n",
    "\t<table style=\"width:100%;\">\n",
    "\t\t<tr>\n",
    "\t\t\t<th style = 'font-size: 16px; font-weight: 500; background-color: #f6b48f; padding: 5px 5px 3px 10px; line-height: 1.5; text-align: left; color:black;border-radius: 3px;; text-align: left;' colspan=\"3\"><b><i># USD to Euro</i></b></font></th>\n",
    "\t\t</tr>\n",
    "\t</table>\n",
    "</html>"
   ]
  },
  {
   "cell_type": "code",
   "execution_count": null,
   "id": "51527728-3367-4c72-99a6-8307ae627326",
   "metadata": {},
   "outputs": [],
   "source": [
    "usd_eur = foreign.get_currency_exchange_intraday('USD', 'EUR', outputsize = 'full')[0]"
   ]
  },
  {
   "cell_type": "code",
   "execution_count": null,
   "id": "4a2ab4ec-fe13-4e6d-8704-cfd55fe09c9c",
   "metadata": {},
   "outputs": [],
   "source": [
    "pretty('foreign.get_currency_exchange_intraday()')\n",
    "help(foreign.get_currency_exchange_intraday)"
   ]
  },
  {
   "cell_type": "code",
   "execution_count": null,
   "id": "6da64907-5ac2-43ee-a356-6eedf971fe15",
   "metadata": {},
   "outputs": [],
   "source": [
    "pretty('foreign.usd_eur meta information')\n",
    "foreign.get_currency_exchange_intraday('USD', 'EUR', outputsize = 'full')[1]"
   ]
  },
  {
   "cell_type": "code",
   "execution_count": null,
   "id": "90813316-fb57-4407-a834-d8cb6956fc08",
   "metadata": {},
   "outputs": [],
   "source": [
    "head_tail_horz(usd_eur, 3, 'USD to EUR')"
   ]
  },
  {
   "cell_type": "markdown",
   "id": "d4564254-da1f-4bb9-b5ee-c27a908b008e",
   "metadata": {},
   "source": [
    "<html>\n",
    "\t<table style=\"width:100%;\">\n",
    "\t\t<tr>\n",
    "\t\t\t<th style = 'font-size: 16px; font-weight: 500; background-color: #f6b48f; padding: 5px 5px 3px 10px; line-height: 1.5; text-align: left; color:black;border-radius: 3px;; text-align: left;' colspan=\"3\"><b><i># Euro to USD intraday, 60 min</i></b></font></th>\n",
    "\t\t</tr>\n",
    "\t</table>\n",
    "</html>"
   ]
  },
  {
   "cell_type": "code",
   "execution_count": null,
   "id": "70bd2be2-3762-47c2-b7cb-9542616ba079",
   "metadata": {},
   "outputs": [],
   "source": [
    "see(foreign.get_currency_exchange_intraday('EUR', 'USD', \n",
    "\t\t\t\t\t\t\t\t\t\t   interval = '60min', \n",
    "\t\t\t\t\t\t\t\t\t\t   outputsize = 'full')[0].head(5),\n",
    "\t'EUR-USD Intraday: 60 min')"
   ]
  },
  {
   "cell_type": "markdown",
   "id": "0ca33c47-74ba-4460-8346-19e8750fc083",
   "metadata": {},
   "source": [
    "<html>\n",
    "\t<table style=\"width:100%;\">\n",
    "\t\t<tr>\n",
    "\t\t\t<th style = 'font-size: 16px; font-weight: 500; background-color: #f6b48f; padding: 5px 5px 3px 10px; line-height: 1.5; text-align: left; color:black;border-radius: 3px;; text-align: left;' colspan=\"3\"><b><i># USD to Euro intraday, 1 min</i></b></font></th>\n",
    "\t\t</tr>\n",
    "\t</table>\n",
    "</html>"
   ]
  },
  {
   "cell_type": "code",
   "execution_count": null,
   "id": "252b1446-e0e6-4d5a-bdb4-1be5454ec676",
   "metadata": {},
   "outputs": [],
   "source": [
    "see(foreign.get_currency_exchange_intraday('USD', 'EUR', \n",
    "\t\t\t\t\t\t\t\t\t\t   interval = '1min', \n",
    "\t\t\t\t\t\t\t\t\t\t   outputsize = 'full')[0].head(5),\n",
    "\t'USD-EUR Intraday: 1 min')"
   ]
  },
  {
   "cell_type": "markdown",
   "id": "b923402a-166e-461b-b6c3-977f0ee7dbcb",
   "metadata": {},
   "source": [
    "<html>\n",
    "\t<table style=\"width:100%;\">\n",
    "\t\t<tr>\n",
    "\t\t\t<th style = 'font-size: 17px; font-weight: 525; background-color: #ad1759; padding: 8px; line-height: 1.5; color:white; border-radius: 3px;; text-align: left;' colspan=\"3\">CURRENCIES PLAYGROUND:</font></th>\n",
    "\t\t</tr>\n",
    "\t</table>\n",
    "</html>"
   ]
  },
  {
   "cell_type": "code",
   "execution_count": null,
   "id": "81e0ab69-e566-40cf-b706-f2b9e83b7dde",
   "metadata": {},
   "outputs": [],
   "source": [
    "currencies = pd.read_csv('https://mydatabucky.s3.amazonaws.com/global_currencies.csv')[['country', 'currency_name', 'currency_code']]"
   ]
  },
  {
   "cell_type": "code",
   "execution_count": null,
   "id": "a48fbd71-6c2a-42a0-97ea-32fff99f5b34",
   "metadata": {},
   "outputs": [],
   "source": [
    "df_overview(currencies)"
   ]
  },
  {
   "cell_type": "code",
   "execution_count": null,
   "id": "2555a0de-e65a-41e6-ade6-0bf217abcb5d",
   "metadata": {},
   "outputs": [],
   "source": [
    "currencies[currencies.country.str.startswith('R')]"
   ]
  },
  {
   "cell_type": "markdown",
   "id": "fb7284a9-a1d8-4e14-878a-9f7022849e31",
   "metadata": {},
   "source": [
    "<html>\n",
    "\t<table style=\"width:100%;\">\n",
    "\t\t<tr>\n",
    "\t\t\t<th style = 'font-size: 16px; font-weight: 500; background-color: #f6b48f; padding: 5px 5px 3px 10px; line-height: 1.5; text-align: left; color:black;border-radius: 3px;; text-align: left;' colspan=\"3\"><b><i>exchange_rate(from_currency, to_currency)</i></b></font></th>\n",
    "\t\t</tr>\n",
    "\t</table>\n",
    "</html>"
   ]
  },
  {
   "cell_type": "code",
   "execution_count": null,
   "id": "4cea8680-8581-4bb7-8c60-2c9a5b0bc1cd",
   "metadata": {},
   "outputs": [],
   "source": [
    "def exchange_rate(from_currency, to_currency):\n",
    "\timport requests\n",
    "\n",
    "\t# replace the \"demo\" apikey below with your own key from https://www.alphavantage.co/support/#api-key\n",
    "\turl = f'https://www.alphavantage.co/query?function=CURRENCY_EXCHANGE_RATE&from_currency={from_currency}&to_currency={to_currency}&apikey=XMC27CD0UMQPVAPR'\n",
    "\tr = requests.get(url)\n",
    "\tdata = r.json()\n",
    "\n",
    "\tresults = pd.DataFrame(pd.Series(data['Realtime Currency Exchange Rate']))\n",
    "\tresults = results.drop(labels = ['1. From_Currency Code', '3. To_Currency Code'],\n",
    "\t\t\t\t\t\t   axis = 0)\n",
    "\tresults.index = ['From Currency', 'To Currency', 'Exchange Rate', 'Last Refreshed', \n",
    "\t\t\t\t\t 'Time Zone', 'Bid Price', 'Ask Price']\n",
    "\tresults = results.reset_index()\n",
    "\t\n",
    "\tstyles = [{'selector': '.col0',\n",
    "\t\t\t\t\t\t\t'props': [('font-size', '13px'),\n",
    "\t\t\t\t\t\t\t\t\t  ('text-align', 'left'),\n",
    "\t\t\t\t\t\t\t\t\t  ('padding-right', '15px'),\n",
    "\t\t\t\t\t\t\t\t\t  ('font-weight', 'bold')]},\n",
    "\t\t     {'selector': '.col1',\n",
    "\t\t\t\t\t'props': [('font-weight', 'medium'),\n",
    "\t\t\t\t\t\t\t('text-align', 'left'),\n",
    "\t\t\t\t\t\t\t('font-size', '13px'),\n",
    "\t\t\t\t\t\t\t('padding-right', '15px'),\n",
    "\t\t\t\t\t\t\t('padding-left', '15px')]},\n",
    "\t\t\t {'selector': 'caption',\n",
    "\t\t\t\t\t'props': [('font-weight', 'bold'),\n",
    "\t\t\t\t\t\t\t('font-size', '23px'),]},\n",
    "\t\t\t {'selector': '.row2',\n",
    "\t\t\t\t\t'props': [('font-weight', 'bold'),\n",
    "\t\t\t\t\t\t\t('background-color', 'cyan'),]}]\n",
    "\t\n",
    "\t\n",
    "\tdisplay(results.style.hide(axis = 'index')\\\n",
    "\t\t\t\t\t\t .hide(axis = 'columns')\\\n",
    "\t\t\t\t\t\t .set_caption('Exchange Results')\\\n",
    "\t\t\t\t\t\t .set_table_attributes(\"style='margin-left: auto;\\\n",
    "\t\t\t\t\t\t\t\t\t\t\t\t\t   margin-right: auto;'\")\\\n",
    "\t\t\t\t\t     .set_table_styles(styles).format(precision = 2, \n",
    "\t\t\t\t\t\t\t\t\t\t\t\t\t\t  thousands = ','))"
   ]
  },
  {
   "cell_type": "code",
   "execution_count": null,
   "id": "6621a967-395a-4219-9da0-36dbbf7b89cf",
   "metadata": {},
   "outputs": [],
   "source": [
    "results = exchange_rate('USD', 'EUR')"
   ]
  },
  {
   "cell_type": "markdown",
   "id": "91918fdb-e0a4-4aa7-8caa-421b0c9ffd82",
   "metadata": {},
   "source": [
    "<a name = 'crypto'></a>\n",
    "\n",
    "<hr class=\"dashed\" style = 'color: #ad1759'>\n",
    "\n",
    "<html>\n",
    "\t<table style=\"width:100%;\">\n",
    "\t\t<tr>\n",
    "\t\t\t<th style = 'background-color: #f6b48f; padding: 5px 5px 3px 5px; line-height: 1.5; color:white; border-radius: 3px; font-size: 14px; font-weight: 475; text-align: center;'  colspan=\"3\"> |  <a href=\"#top\">Top</a>  |  <a href=\"#data\">Getting Data</a>  |  <a href=\"#splits\">Splits & Dividends</a>   |  <a href=\"#datetime\">The Datetime Index</a>  |  <a href=\"#intervals\">Frequency & Intervals</a>  |  <a href=\"#indicators\">Technical Indicators</a>  |  <a href=\"#foreign\">Foreign Exchange</a>  |  <a href=\"#crypto\">Cryptocurrencies</a>  |  </font></th>\n",
    "\t\t</tr>\n",
    "\t</table>\n",
    "</html>\n",
    "\n",
    "<hr class=\"dashed\" style = 'color: #ad1759'>\n",
    "\n"
   ]
  },
  {
   "cell_type": "markdown",
   "id": "a143953f-6f9f-4c61-ac28-381b91cb2de0",
   "metadata": {},
   "source": [
    "<html>\n",
    "\t<table style=\"width:100%;\">\n",
    "\t\t<tr>\n",
    "\t\t\t<th style = 'background-color: #35193e; padding: 5px 5px 3px 5px; line-height: 1.5; color:white;border-radius: 3px;; text-align: center; border-top: 1.5px solid white;' colspan=\"3\"><font size = 6>Cryptocurrencies</font></th>\n",
    "\t\t</tr>\n",
    "\t\t<tr>\n",
    "\t\t\t<th style = 'font-size: 15px; font-weight: 525; background-color: #ad1759; padding: 8px; line-height: 1.5; color:white; border-radius: 3px;; text-align: left; border-top: 1.5px solid white;' colspan=\"3\">- Alpha Vantage offers data on over 500 cryptocurrencies </font></th>\n",
    "\t\t</tr>\n",
    "\t</table>\n",
    "</html>"
   ]
  },
  {
   "cell_type": "code",
   "execution_count": null,
   "id": "c4875e6f-ea2c-430f-9afb-af6e2e5a334d",
   "metadata": {},
   "outputs": [],
   "source": [
    "from alpha_vantage.cryptocurrencies import CryptoCurrencies"
   ]
  },
  {
   "cell_type": "code",
   "execution_count": null,
   "id": "4558f7f7-83e4-4f6a-ad51-89ffe459e88a",
   "metadata": {},
   "outputs": [],
   "source": [
    "crypto = CryptoCurrencies(key = api_key, output_format = 'pandas')"
   ]
  },
  {
   "cell_type": "code",
   "execution_count": null,
   "id": "bc46f115-3969-4d6f-b5d8-c716ebc787ae",
   "metadata": {},
   "outputs": [],
   "source": [
    "crypto"
   ]
  },
  {
   "cell_type": "markdown",
   "id": "f8c5148c-ab85-4294-9a16-8f23f62155a3",
   "metadata": {},
   "source": [
    "<html>\n",
    "\t<table style=\"width:100%;\">\n",
    "\t\t<tr>\n",
    "\t\t\t<th style = 'font-size: 16px; font-weight: 500; background-color: #f6b48f; padding: 5px 5px 3px 10px; line-height: 1.5; text-align: left; color:black;border-radius: 3px;; text-align: left;' colspan=\"3\"><b><i>Bitcoin to USD</i></b></font></th>\n",
    "\t\t</tr>\n",
    "\t</table>\n",
    "</html>"
   ]
  },
  {
   "cell_type": "code",
   "execution_count": null,
   "id": "a5b0f4e2-8d98-4dea-b597-7e7c7384c0eb",
   "metadata": {},
   "outputs": [],
   "source": [
    "BTC = crypto.get_digital_currency_daily(symbol = 'BTC', market = 'USD')"
   ]
  },
  {
   "cell_type": "code",
   "execution_count": null,
   "id": "67c078e3-ba2e-44ca-a608-901973c16eca",
   "metadata": {},
   "outputs": [],
   "source": [
    "pretty('BTC to USD meta data')\n",
    "BTC[1]"
   ]
  },
  {
   "cell_type": "code",
   "execution_count": null,
   "id": "f53de787-0011-47a8-8646-ec5a0920e63e",
   "metadata": {},
   "outputs": [],
   "source": [
    "see(BTC[0].head(5),\n",
    "   'Most Recent Bitcoin Data')"
   ]
  },
  {
   "cell_type": "markdown",
   "id": "1cb68d45-7c2c-42a8-ab59-036467c4873c",
   "metadata": {},
   "source": [
    "<html>\n",
    "\t<table style=\"width:100%;\">\n",
    "\t\t<tr>\n",
    "\t\t\t<th style = 'font-size: 16px; font-weight: 500; background-color: #f6b48f; padding: 5px 5px 3px 10px; line-height: 1.5; text-align: left; color:black;border-radius: 3px;; text-align: left;' colspan=\"3\"><b><i>Bitcoin to Euro</i></b></font></th>\n",
    "\t\t</tr>\n",
    "\t</table>\n",
    "</html>"
   ]
  },
  {
   "cell_type": "code",
   "execution_count": null,
   "id": "10168efb-1990-4a21-af46-33f8e341b48a",
   "metadata": {},
   "outputs": [],
   "source": [
    "BTC = crypto.get_digital_currency_daily(symbol = 'BTC', market = 'EUR')\n",
    "pretty('BTC to EUR meta data')\n",
    "BTC[1]"
   ]
  },
  {
   "cell_type": "code",
   "execution_count": null,
   "id": "e33d904c-1b68-48fd-ba64-09146f017630",
   "metadata": {},
   "outputs": [],
   "source": [
    "see(BTC[0].head(5),\n",
    "   'Bitcoin to Euro (keeping USD market data)')"
   ]
  },
  {
   "cell_type": "markdown",
   "id": "fdc7769c-c3fd-4dcb-b748-af6307a12efd",
   "metadata": {},
   "source": [
    "<html>\n",
    "\t<table style=\"width:100%;\">\n",
    "\t\t<tr>\n",
    "\t\t\t<th style = 'font-size: 16px; font-weight: 500; background-color: #f6b48f; padding: 5px 5px 3px 10px; line-height: 1.5; text-align: left; color:black;border-radius: 3px;; text-align: left;' colspan=\"3\"><b><i>Ethereum</i></b></font></th>\n",
    "\t\t</tr>\n",
    "\t</table>\n",
    "</html>"
   ]
  },
  {
   "cell_type": "code",
   "execution_count": null,
   "id": "0d86d8b3-3dbe-4ff2-831a-6b1e130d5a3c",
   "metadata": {},
   "outputs": [],
   "source": [
    "pretty('ETH meta data')\n",
    "crypto.get_digital_currency_daily(symbol = 'ETH', market = 'USD')[1]"
   ]
  },
  {
   "cell_type": "code",
   "execution_count": null,
   "id": "5d6406d3-f85c-4d0a-aa13-e3e56f7a9f64",
   "metadata": {},
   "outputs": [],
   "source": [
    "see(crypto.get_digital_currency_daily(symbol = 'ETH', market = 'USD')[0].head(5),\n",
    "   'Most Current Ethereum Data')"
   ]
  },
  {
   "cell_type": "markdown",
   "id": "187f862c-2cdf-41cc-8a8a-08d6058d3259",
   "metadata": {},
   "source": [
    "<hr class=\"dashed\" style = 'color: #ad1759'>\n",
    "\n",
    "\n",
    "<html>\n",
    "\t<table style=\"width:100%;\">\n",
    "\t\t<tr>\n",
    "\t\t\t<th style = 'background-color: #f6b48f; padding: 5px 5px 3px 5px; line-height: 1.5; color:white; border-radius: 3px; font-size: 14px; font-weight: 475; text-align: center;'  colspan=\"3\"> |  <a href=\"#top\">Top</a>  |  <a href=\"#data\">Getting Data</a>  |  <a href=\"#splits\">Splits & Dividends</a>   |  <a href=\"#datetime\">The Datetime Index</a>  |  <a href=\"#intervals\">Frequency & Intervals</a>  |  <a href=\"#indicators\">Technical Indicators</a>  |  <a href=\"#foreign\">Foreign Exchange</a>  |  <a href=\"#crypto\">Cryptocurrencies</a>  |  </font></th>\n",
    "\t\t</tr>\n",
    "\t</table>\n",
    "</html>\n",
    "\n",
    "<hr class=\"dashed\" style = 'color: #ad1759'>"
   ]
  }
 ],
 "metadata": {
  "kernelspec": {
   "display_name": "Python 3 (ipykernel)",
   "language": "python",
   "name": "python3"
  },
  "language_info": {
   "codemirror_mode": {
    "name": "ipython",
    "version": 3
   },
   "file_extension": ".py",
   "mimetype": "text/x-python",
   "name": "python",
   "nbconvert_exporter": "python",
   "pygments_lexer": "ipython3",
   "version": "3.10.9"
  }
 },
 "nbformat": 4,
 "nbformat_minor": 5
}
